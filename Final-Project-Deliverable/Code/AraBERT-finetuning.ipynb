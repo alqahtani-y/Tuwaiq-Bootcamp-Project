{
  "nbformat": 4,
  "nbformat_minor": 0,
  "metadata": {
    "colab": {
      "name": "AraBERT_classification.ipynb",
      "provenance": [],
      "collapsed_sections": [
        "TVay9KamnC3I",
        "joWPYWGMqLau",
        "Bcwdslw7v0Q8"
      ],
      "machine_shape": "hm"
    },
    "kernelspec": {
      "display_name": "Python 3",
      "name": "python3"
    },
    "accelerator": "GPU",
    "widgets": {
      "application/vnd.jupyter.widget-state+json": {
        "83bc6f8d8f2d495b8b4b3a312da042c9": {
          "model_module": "@jupyter-widgets/controls",
          "model_name": "HBoxModel",
          "model_module_version": "1.5.0",
          "state": {
            "_view_name": "HBoxView",
            "_dom_classes": [],
            "_model_name": "HBoxModel",
            "_view_module": "@jupyter-widgets/controls",
            "_model_module_version": "1.5.0",
            "_view_count": null,
            "_view_module_version": "1.5.0",
            "box_style": "",
            "layout": "IPY_MODEL_930d6eaf895c449fa587e909817728f2",
            "_model_module": "@jupyter-widgets/controls",
            "children": [
              "IPY_MODEL_05f57cc2f593444a9ab28d3e273e291b",
              "IPY_MODEL_3727a850b54142dbbe4401f653c53f66",
              "IPY_MODEL_118d6a6415cd4689b1a0be7b7cf07ba5"
            ]
          }
        },
        "930d6eaf895c449fa587e909817728f2": {
          "model_module": "@jupyter-widgets/base",
          "model_name": "LayoutModel",
          "model_module_version": "1.2.0",
          "state": {
            "_view_name": "LayoutView",
            "grid_template_rows": null,
            "right": null,
            "justify_content": null,
            "_view_module": "@jupyter-widgets/base",
            "overflow": null,
            "_model_module_version": "1.2.0",
            "_view_count": null,
            "flex_flow": null,
            "width": null,
            "min_width": null,
            "border": null,
            "align_items": null,
            "bottom": null,
            "_model_module": "@jupyter-widgets/base",
            "top": null,
            "grid_column": null,
            "overflow_y": null,
            "overflow_x": null,
            "grid_auto_flow": null,
            "grid_area": null,
            "grid_template_columns": null,
            "flex": null,
            "_model_name": "LayoutModel",
            "justify_items": null,
            "grid_row": null,
            "max_height": null,
            "align_content": null,
            "visibility": null,
            "align_self": null,
            "height": null,
            "min_height": null,
            "padding": null,
            "grid_auto_rows": null,
            "grid_gap": null,
            "max_width": null,
            "order": null,
            "_view_module_version": "1.2.0",
            "grid_template_areas": null,
            "object_position": null,
            "object_fit": null,
            "grid_auto_columns": null,
            "margin": null,
            "display": null,
            "left": null
          }
        },
        "05f57cc2f593444a9ab28d3e273e291b": {
          "model_module": "@jupyter-widgets/controls",
          "model_name": "HTMLModel",
          "model_module_version": "1.5.0",
          "state": {
            "_view_name": "HTMLView",
            "style": "IPY_MODEL_efc5799107ac4037bb33aae5d530224f",
            "_dom_classes": [],
            "description": "",
            "_model_name": "HTMLModel",
            "placeholder": "​",
            "_view_module": "@jupyter-widgets/controls",
            "_model_module_version": "1.5.0",
            "value": "Downloading: 100%",
            "_view_count": null,
            "_view_module_version": "1.5.0",
            "description_tooltip": null,
            "_model_module": "@jupyter-widgets/controls",
            "layout": "IPY_MODEL_8d0f9c31aeb34950ad6d2438df4508b6"
          }
        },
        "3727a850b54142dbbe4401f653c53f66": {
          "model_module": "@jupyter-widgets/controls",
          "model_name": "FloatProgressModel",
          "model_module_version": "1.5.0",
          "state": {
            "_view_name": "ProgressView",
            "style": "IPY_MODEL_3184f291109647b38589195804ff502b",
            "_dom_classes": [],
            "description": "",
            "_model_name": "FloatProgressModel",
            "bar_style": "success",
            "max": 381,
            "_view_module": "@jupyter-widgets/controls",
            "_model_module_version": "1.5.0",
            "value": 381,
            "_view_count": null,
            "_view_module_version": "1.5.0",
            "orientation": "horizontal",
            "min": 0,
            "description_tooltip": null,
            "_model_module": "@jupyter-widgets/controls",
            "layout": "IPY_MODEL_261fe5ce3a5e4cd1981b0158349094b9"
          }
        },
        "118d6a6415cd4689b1a0be7b7cf07ba5": {
          "model_module": "@jupyter-widgets/controls",
          "model_name": "HTMLModel",
          "model_module_version": "1.5.0",
          "state": {
            "_view_name": "HTMLView",
            "style": "IPY_MODEL_6491b7939b4541f299c73f8f19fc5837",
            "_dom_classes": [],
            "description": "",
            "_model_name": "HTMLModel",
            "placeholder": "​",
            "_view_module": "@jupyter-widgets/controls",
            "_model_module_version": "1.5.0",
            "value": " 381/381 [00:00&lt;00:00, 8.79kB/s]",
            "_view_count": null,
            "_view_module_version": "1.5.0",
            "description_tooltip": null,
            "_model_module": "@jupyter-widgets/controls",
            "layout": "IPY_MODEL_3fbd38b572be49cf81032824e924010f"
          }
        },
        "efc5799107ac4037bb33aae5d530224f": {
          "model_module": "@jupyter-widgets/controls",
          "model_name": "DescriptionStyleModel",
          "model_module_version": "1.5.0",
          "state": {
            "_view_name": "StyleView",
            "_model_name": "DescriptionStyleModel",
            "description_width": "",
            "_view_module": "@jupyter-widgets/base",
            "_model_module_version": "1.5.0",
            "_view_count": null,
            "_view_module_version": "1.2.0",
            "_model_module": "@jupyter-widgets/controls"
          }
        },
        "8d0f9c31aeb34950ad6d2438df4508b6": {
          "model_module": "@jupyter-widgets/base",
          "model_name": "LayoutModel",
          "model_module_version": "1.2.0",
          "state": {
            "_view_name": "LayoutView",
            "grid_template_rows": null,
            "right": null,
            "justify_content": null,
            "_view_module": "@jupyter-widgets/base",
            "overflow": null,
            "_model_module_version": "1.2.0",
            "_view_count": null,
            "flex_flow": null,
            "width": null,
            "min_width": null,
            "border": null,
            "align_items": null,
            "bottom": null,
            "_model_module": "@jupyter-widgets/base",
            "top": null,
            "grid_column": null,
            "overflow_y": null,
            "overflow_x": null,
            "grid_auto_flow": null,
            "grid_area": null,
            "grid_template_columns": null,
            "flex": null,
            "_model_name": "LayoutModel",
            "justify_items": null,
            "grid_row": null,
            "max_height": null,
            "align_content": null,
            "visibility": null,
            "align_self": null,
            "height": null,
            "min_height": null,
            "padding": null,
            "grid_auto_rows": null,
            "grid_gap": null,
            "max_width": null,
            "order": null,
            "_view_module_version": "1.2.0",
            "grid_template_areas": null,
            "object_position": null,
            "object_fit": null,
            "grid_auto_columns": null,
            "margin": null,
            "display": null,
            "left": null
          }
        },
        "3184f291109647b38589195804ff502b": {
          "model_module": "@jupyter-widgets/controls",
          "model_name": "ProgressStyleModel",
          "model_module_version": "1.5.0",
          "state": {
            "_view_name": "StyleView",
            "_model_name": "ProgressStyleModel",
            "description_width": "",
            "_view_module": "@jupyter-widgets/base",
            "_model_module_version": "1.5.0",
            "_view_count": null,
            "_view_module_version": "1.2.0",
            "bar_color": null,
            "_model_module": "@jupyter-widgets/controls"
          }
        },
        "261fe5ce3a5e4cd1981b0158349094b9": {
          "model_module": "@jupyter-widgets/base",
          "model_name": "LayoutModel",
          "model_module_version": "1.2.0",
          "state": {
            "_view_name": "LayoutView",
            "grid_template_rows": null,
            "right": null,
            "justify_content": null,
            "_view_module": "@jupyter-widgets/base",
            "overflow": null,
            "_model_module_version": "1.2.0",
            "_view_count": null,
            "flex_flow": null,
            "width": null,
            "min_width": null,
            "border": null,
            "align_items": null,
            "bottom": null,
            "_model_module": "@jupyter-widgets/base",
            "top": null,
            "grid_column": null,
            "overflow_y": null,
            "overflow_x": null,
            "grid_auto_flow": null,
            "grid_area": null,
            "grid_template_columns": null,
            "flex": null,
            "_model_name": "LayoutModel",
            "justify_items": null,
            "grid_row": null,
            "max_height": null,
            "align_content": null,
            "visibility": null,
            "align_self": null,
            "height": null,
            "min_height": null,
            "padding": null,
            "grid_auto_rows": null,
            "grid_gap": null,
            "max_width": null,
            "order": null,
            "_view_module_version": "1.2.0",
            "grid_template_areas": null,
            "object_position": null,
            "object_fit": null,
            "grid_auto_columns": null,
            "margin": null,
            "display": null,
            "left": null
          }
        },
        "6491b7939b4541f299c73f8f19fc5837": {
          "model_module": "@jupyter-widgets/controls",
          "model_name": "DescriptionStyleModel",
          "model_module_version": "1.5.0",
          "state": {
            "_view_name": "StyleView",
            "_model_name": "DescriptionStyleModel",
            "description_width": "",
            "_view_module": "@jupyter-widgets/base",
            "_model_module_version": "1.5.0",
            "_view_count": null,
            "_view_module_version": "1.2.0",
            "_model_module": "@jupyter-widgets/controls"
          }
        },
        "3fbd38b572be49cf81032824e924010f": {
          "model_module": "@jupyter-widgets/base",
          "model_name": "LayoutModel",
          "model_module_version": "1.2.0",
          "state": {
            "_view_name": "LayoutView",
            "grid_template_rows": null,
            "right": null,
            "justify_content": null,
            "_view_module": "@jupyter-widgets/base",
            "overflow": null,
            "_model_module_version": "1.2.0",
            "_view_count": null,
            "flex_flow": null,
            "width": null,
            "min_width": null,
            "border": null,
            "align_items": null,
            "bottom": null,
            "_model_module": "@jupyter-widgets/base",
            "top": null,
            "grid_column": null,
            "overflow_y": null,
            "overflow_x": null,
            "grid_auto_flow": null,
            "grid_area": null,
            "grid_template_columns": null,
            "flex": null,
            "_model_name": "LayoutModel",
            "justify_items": null,
            "grid_row": null,
            "max_height": null,
            "align_content": null,
            "visibility": null,
            "align_self": null,
            "height": null,
            "min_height": null,
            "padding": null,
            "grid_auto_rows": null,
            "grid_gap": null,
            "max_width": null,
            "order": null,
            "_view_module_version": "1.2.0",
            "grid_template_areas": null,
            "object_position": null,
            "object_fit": null,
            "grid_auto_columns": null,
            "margin": null,
            "display": null,
            "left": null
          }
        },
        "233aa209e0714ecc83db092d676eb755": {
          "model_module": "@jupyter-widgets/controls",
          "model_name": "HBoxModel",
          "model_module_version": "1.5.0",
          "state": {
            "_view_name": "HBoxView",
            "_dom_classes": [],
            "_model_name": "HBoxModel",
            "_view_module": "@jupyter-widgets/controls",
            "_model_module_version": "1.5.0",
            "_view_count": null,
            "_view_module_version": "1.5.0",
            "box_style": "",
            "layout": "IPY_MODEL_9ca97a9206174193a3a0ebbad760b603",
            "_model_module": "@jupyter-widgets/controls",
            "children": [
              "IPY_MODEL_7e3f75b8cc054bbea03068b2f1c93cf4",
              "IPY_MODEL_84fef242dd8e4fb886bb7f7b3e258085",
              "IPY_MODEL_b97d91bd4fb9412b9769c78bd4b2c763"
            ]
          }
        },
        "9ca97a9206174193a3a0ebbad760b603": {
          "model_module": "@jupyter-widgets/base",
          "model_name": "LayoutModel",
          "model_module_version": "1.2.0",
          "state": {
            "_view_name": "LayoutView",
            "grid_template_rows": null,
            "right": null,
            "justify_content": null,
            "_view_module": "@jupyter-widgets/base",
            "overflow": null,
            "_model_module_version": "1.2.0",
            "_view_count": null,
            "flex_flow": null,
            "width": null,
            "min_width": null,
            "border": null,
            "align_items": null,
            "bottom": null,
            "_model_module": "@jupyter-widgets/base",
            "top": null,
            "grid_column": null,
            "overflow_y": null,
            "overflow_x": null,
            "grid_auto_flow": null,
            "grid_area": null,
            "grid_template_columns": null,
            "flex": null,
            "_model_name": "LayoutModel",
            "justify_items": null,
            "grid_row": null,
            "max_height": null,
            "align_content": null,
            "visibility": null,
            "align_self": null,
            "height": null,
            "min_height": null,
            "padding": null,
            "grid_auto_rows": null,
            "grid_gap": null,
            "max_width": null,
            "order": null,
            "_view_module_version": "1.2.0",
            "grid_template_areas": null,
            "object_position": null,
            "object_fit": null,
            "grid_auto_columns": null,
            "margin": null,
            "display": null,
            "left": null
          }
        },
        "7e3f75b8cc054bbea03068b2f1c93cf4": {
          "model_module": "@jupyter-widgets/controls",
          "model_name": "HTMLModel",
          "model_module_version": "1.5.0",
          "state": {
            "_view_name": "HTMLView",
            "style": "IPY_MODEL_7cdb1698885c4c65a2fee7fd03acb882",
            "_dom_classes": [],
            "description": "",
            "_model_name": "HTMLModel",
            "placeholder": "​",
            "_view_module": "@jupyter-widgets/controls",
            "_model_module_version": "1.5.0",
            "value": "Downloading: 100%",
            "_view_count": null,
            "_view_module_version": "1.5.0",
            "description_tooltip": null,
            "_model_module": "@jupyter-widgets/controls",
            "layout": "IPY_MODEL_73df4b85d2d44158a15712579c5f3ffa"
          }
        },
        "84fef242dd8e4fb886bb7f7b3e258085": {
          "model_module": "@jupyter-widgets/controls",
          "model_name": "FloatProgressModel",
          "model_module_version": "1.5.0",
          "state": {
            "_view_name": "ProgressView",
            "style": "IPY_MODEL_50df958a0fa343779680d6700c997d8a",
            "_dom_classes": [],
            "description": "",
            "_model_name": "FloatProgressModel",
            "bar_style": "success",
            "max": 384,
            "_view_module": "@jupyter-widgets/controls",
            "_model_module_version": "1.5.0",
            "value": 384,
            "_view_count": null,
            "_view_module_version": "1.5.0",
            "orientation": "horizontal",
            "min": 0,
            "description_tooltip": null,
            "_model_module": "@jupyter-widgets/controls",
            "layout": "IPY_MODEL_f90713618ca64947aba379a7cabac953"
          }
        },
        "b97d91bd4fb9412b9769c78bd4b2c763": {
          "model_module": "@jupyter-widgets/controls",
          "model_name": "HTMLModel",
          "model_module_version": "1.5.0",
          "state": {
            "_view_name": "HTMLView",
            "style": "IPY_MODEL_eb437325aa4e4fd5979afb25fcf9cdc9",
            "_dom_classes": [],
            "description": "",
            "_model_name": "HTMLModel",
            "placeholder": "​",
            "_view_module": "@jupyter-widgets/controls",
            "_model_module_version": "1.5.0",
            "value": " 384/384 [00:00&lt;00:00, 9.42kB/s]",
            "_view_count": null,
            "_view_module_version": "1.5.0",
            "description_tooltip": null,
            "_model_module": "@jupyter-widgets/controls",
            "layout": "IPY_MODEL_e3c516d591fa4a45bcfa025d5f0182db"
          }
        },
        "7cdb1698885c4c65a2fee7fd03acb882": {
          "model_module": "@jupyter-widgets/controls",
          "model_name": "DescriptionStyleModel",
          "model_module_version": "1.5.0",
          "state": {
            "_view_name": "StyleView",
            "_model_name": "DescriptionStyleModel",
            "description_width": "",
            "_view_module": "@jupyter-widgets/base",
            "_model_module_version": "1.5.0",
            "_view_count": null,
            "_view_module_version": "1.2.0",
            "_model_module": "@jupyter-widgets/controls"
          }
        },
        "73df4b85d2d44158a15712579c5f3ffa": {
          "model_module": "@jupyter-widgets/base",
          "model_name": "LayoutModel",
          "model_module_version": "1.2.0",
          "state": {
            "_view_name": "LayoutView",
            "grid_template_rows": null,
            "right": null,
            "justify_content": null,
            "_view_module": "@jupyter-widgets/base",
            "overflow": null,
            "_model_module_version": "1.2.0",
            "_view_count": null,
            "flex_flow": null,
            "width": null,
            "min_width": null,
            "border": null,
            "align_items": null,
            "bottom": null,
            "_model_module": "@jupyter-widgets/base",
            "top": null,
            "grid_column": null,
            "overflow_y": null,
            "overflow_x": null,
            "grid_auto_flow": null,
            "grid_area": null,
            "grid_template_columns": null,
            "flex": null,
            "_model_name": "LayoutModel",
            "justify_items": null,
            "grid_row": null,
            "max_height": null,
            "align_content": null,
            "visibility": null,
            "align_self": null,
            "height": null,
            "min_height": null,
            "padding": null,
            "grid_auto_rows": null,
            "grid_gap": null,
            "max_width": null,
            "order": null,
            "_view_module_version": "1.2.0",
            "grid_template_areas": null,
            "object_position": null,
            "object_fit": null,
            "grid_auto_columns": null,
            "margin": null,
            "display": null,
            "left": null
          }
        },
        "50df958a0fa343779680d6700c997d8a": {
          "model_module": "@jupyter-widgets/controls",
          "model_name": "ProgressStyleModel",
          "model_module_version": "1.5.0",
          "state": {
            "_view_name": "StyleView",
            "_model_name": "ProgressStyleModel",
            "description_width": "",
            "_view_module": "@jupyter-widgets/base",
            "_model_module_version": "1.5.0",
            "_view_count": null,
            "_view_module_version": "1.2.0",
            "bar_color": null,
            "_model_module": "@jupyter-widgets/controls"
          }
        },
        "f90713618ca64947aba379a7cabac953": {
          "model_module": "@jupyter-widgets/base",
          "model_name": "LayoutModel",
          "model_module_version": "1.2.0",
          "state": {
            "_view_name": "LayoutView",
            "grid_template_rows": null,
            "right": null,
            "justify_content": null,
            "_view_module": "@jupyter-widgets/base",
            "overflow": null,
            "_model_module_version": "1.2.0",
            "_view_count": null,
            "flex_flow": null,
            "width": null,
            "min_width": null,
            "border": null,
            "align_items": null,
            "bottom": null,
            "_model_module": "@jupyter-widgets/base",
            "top": null,
            "grid_column": null,
            "overflow_y": null,
            "overflow_x": null,
            "grid_auto_flow": null,
            "grid_area": null,
            "grid_template_columns": null,
            "flex": null,
            "_model_name": "LayoutModel",
            "justify_items": null,
            "grid_row": null,
            "max_height": null,
            "align_content": null,
            "visibility": null,
            "align_self": null,
            "height": null,
            "min_height": null,
            "padding": null,
            "grid_auto_rows": null,
            "grid_gap": null,
            "max_width": null,
            "order": null,
            "_view_module_version": "1.2.0",
            "grid_template_areas": null,
            "object_position": null,
            "object_fit": null,
            "grid_auto_columns": null,
            "margin": null,
            "display": null,
            "left": null
          }
        },
        "eb437325aa4e4fd5979afb25fcf9cdc9": {
          "model_module": "@jupyter-widgets/controls",
          "model_name": "DescriptionStyleModel",
          "model_module_version": "1.5.0",
          "state": {
            "_view_name": "StyleView",
            "_model_name": "DescriptionStyleModel",
            "description_width": "",
            "_view_module": "@jupyter-widgets/base",
            "_model_module_version": "1.5.0",
            "_view_count": null,
            "_view_module_version": "1.2.0",
            "_model_module": "@jupyter-widgets/controls"
          }
        },
        "e3c516d591fa4a45bcfa025d5f0182db": {
          "model_module": "@jupyter-widgets/base",
          "model_name": "LayoutModel",
          "model_module_version": "1.2.0",
          "state": {
            "_view_name": "LayoutView",
            "grid_template_rows": null,
            "right": null,
            "justify_content": null,
            "_view_module": "@jupyter-widgets/base",
            "overflow": null,
            "_model_module_version": "1.2.0",
            "_view_count": null,
            "flex_flow": null,
            "width": null,
            "min_width": null,
            "border": null,
            "align_items": null,
            "bottom": null,
            "_model_module": "@jupyter-widgets/base",
            "top": null,
            "grid_column": null,
            "overflow_y": null,
            "overflow_x": null,
            "grid_auto_flow": null,
            "grid_area": null,
            "grid_template_columns": null,
            "flex": null,
            "_model_name": "LayoutModel",
            "justify_items": null,
            "grid_row": null,
            "max_height": null,
            "align_content": null,
            "visibility": null,
            "align_self": null,
            "height": null,
            "min_height": null,
            "padding": null,
            "grid_auto_rows": null,
            "grid_gap": null,
            "max_width": null,
            "order": null,
            "_view_module_version": "1.2.0",
            "grid_template_areas": null,
            "object_position": null,
            "object_fit": null,
            "grid_auto_columns": null,
            "margin": null,
            "display": null,
            "left": null
          }
        },
        "ae3a01493c014ee99f153f8950f67622": {
          "model_module": "@jupyter-widgets/controls",
          "model_name": "HBoxModel",
          "model_module_version": "1.5.0",
          "state": {
            "_view_name": "HBoxView",
            "_dom_classes": [],
            "_model_name": "HBoxModel",
            "_view_module": "@jupyter-widgets/controls",
            "_model_module_version": "1.5.0",
            "_view_count": null,
            "_view_module_version": "1.5.0",
            "box_style": "",
            "layout": "IPY_MODEL_924ed5a7746b472bb93ac615cf3c5d44",
            "_model_module": "@jupyter-widgets/controls",
            "children": [
              "IPY_MODEL_d6ccafed9c494b589f7a82ec7c597b1e",
              "IPY_MODEL_2cf50cdce11640c198ad3f21b044d869",
              "IPY_MODEL_50f1caf95ce3485084c7610f09b7f29d"
            ]
          }
        },
        "924ed5a7746b472bb93ac615cf3c5d44": {
          "model_module": "@jupyter-widgets/base",
          "model_name": "LayoutModel",
          "model_module_version": "1.2.0",
          "state": {
            "_view_name": "LayoutView",
            "grid_template_rows": null,
            "right": null,
            "justify_content": null,
            "_view_module": "@jupyter-widgets/base",
            "overflow": null,
            "_model_module_version": "1.2.0",
            "_view_count": null,
            "flex_flow": null,
            "width": null,
            "min_width": null,
            "border": null,
            "align_items": null,
            "bottom": null,
            "_model_module": "@jupyter-widgets/base",
            "top": null,
            "grid_column": null,
            "overflow_y": null,
            "overflow_x": null,
            "grid_auto_flow": null,
            "grid_area": null,
            "grid_template_columns": null,
            "flex": null,
            "_model_name": "LayoutModel",
            "justify_items": null,
            "grid_row": null,
            "max_height": null,
            "align_content": null,
            "visibility": null,
            "align_self": null,
            "height": null,
            "min_height": null,
            "padding": null,
            "grid_auto_rows": null,
            "grid_gap": null,
            "max_width": null,
            "order": null,
            "_view_module_version": "1.2.0",
            "grid_template_areas": null,
            "object_position": null,
            "object_fit": null,
            "grid_auto_columns": null,
            "margin": null,
            "display": null,
            "left": null
          }
        },
        "d6ccafed9c494b589f7a82ec7c597b1e": {
          "model_module": "@jupyter-widgets/controls",
          "model_name": "HTMLModel",
          "model_module_version": "1.5.0",
          "state": {
            "_view_name": "HTMLView",
            "style": "IPY_MODEL_9e99207f4461431f8f6a23bb313e0514",
            "_dom_classes": [],
            "description": "",
            "_model_name": "HTMLModel",
            "placeholder": "​",
            "_view_module": "@jupyter-widgets/controls",
            "_model_module_version": "1.5.0",
            "value": "Downloading: 100%",
            "_view_count": null,
            "_view_module_version": "1.5.0",
            "description_tooltip": null,
            "_model_module": "@jupyter-widgets/controls",
            "layout": "IPY_MODEL_ea5c00098ad34a7da6a07767247d4c54"
          }
        },
        "2cf50cdce11640c198ad3f21b044d869": {
          "model_module": "@jupyter-widgets/controls",
          "model_name": "FloatProgressModel",
          "model_module_version": "1.5.0",
          "state": {
            "_view_name": "ProgressView",
            "style": "IPY_MODEL_bf0c19148da0469b9547133e7004042b",
            "_dom_classes": [],
            "description": "",
            "_model_name": "FloatProgressModel",
            "bar_style": "success",
            "max": 824793,
            "_view_module": "@jupyter-widgets/controls",
            "_model_module_version": "1.5.0",
            "value": 824793,
            "_view_count": null,
            "_view_module_version": "1.5.0",
            "orientation": "horizontal",
            "min": 0,
            "description_tooltip": null,
            "_model_module": "@jupyter-widgets/controls",
            "layout": "IPY_MODEL_d0d26202a7954092900b74096b867f05"
          }
        },
        "50f1caf95ce3485084c7610f09b7f29d": {
          "model_module": "@jupyter-widgets/controls",
          "model_name": "HTMLModel",
          "model_module_version": "1.5.0",
          "state": {
            "_view_name": "HTMLView",
            "style": "IPY_MODEL_ee76672b7b4942e88eaa21cd94e55544",
            "_dom_classes": [],
            "description": "",
            "_model_name": "HTMLModel",
            "placeholder": "​",
            "_view_module": "@jupyter-widgets/controls",
            "_model_module_version": "1.5.0",
            "value": " 805k/805k [00:00&lt;00:00, 668kB/s]",
            "_view_count": null,
            "_view_module_version": "1.5.0",
            "description_tooltip": null,
            "_model_module": "@jupyter-widgets/controls",
            "layout": "IPY_MODEL_b340b02841f34e09905ac8466a6ffc22"
          }
        },
        "9e99207f4461431f8f6a23bb313e0514": {
          "model_module": "@jupyter-widgets/controls",
          "model_name": "DescriptionStyleModel",
          "model_module_version": "1.5.0",
          "state": {
            "_view_name": "StyleView",
            "_model_name": "DescriptionStyleModel",
            "description_width": "",
            "_view_module": "@jupyter-widgets/base",
            "_model_module_version": "1.5.0",
            "_view_count": null,
            "_view_module_version": "1.2.0",
            "_model_module": "@jupyter-widgets/controls"
          }
        },
        "ea5c00098ad34a7da6a07767247d4c54": {
          "model_module": "@jupyter-widgets/base",
          "model_name": "LayoutModel",
          "model_module_version": "1.2.0",
          "state": {
            "_view_name": "LayoutView",
            "grid_template_rows": null,
            "right": null,
            "justify_content": null,
            "_view_module": "@jupyter-widgets/base",
            "overflow": null,
            "_model_module_version": "1.2.0",
            "_view_count": null,
            "flex_flow": null,
            "width": null,
            "min_width": null,
            "border": null,
            "align_items": null,
            "bottom": null,
            "_model_module": "@jupyter-widgets/base",
            "top": null,
            "grid_column": null,
            "overflow_y": null,
            "overflow_x": null,
            "grid_auto_flow": null,
            "grid_area": null,
            "grid_template_columns": null,
            "flex": null,
            "_model_name": "LayoutModel",
            "justify_items": null,
            "grid_row": null,
            "max_height": null,
            "align_content": null,
            "visibility": null,
            "align_self": null,
            "height": null,
            "min_height": null,
            "padding": null,
            "grid_auto_rows": null,
            "grid_gap": null,
            "max_width": null,
            "order": null,
            "_view_module_version": "1.2.0",
            "grid_template_areas": null,
            "object_position": null,
            "object_fit": null,
            "grid_auto_columns": null,
            "margin": null,
            "display": null,
            "left": null
          }
        },
        "bf0c19148da0469b9547133e7004042b": {
          "model_module": "@jupyter-widgets/controls",
          "model_name": "ProgressStyleModel",
          "model_module_version": "1.5.0",
          "state": {
            "_view_name": "StyleView",
            "_model_name": "ProgressStyleModel",
            "description_width": "",
            "_view_module": "@jupyter-widgets/base",
            "_model_module_version": "1.5.0",
            "_view_count": null,
            "_view_module_version": "1.2.0",
            "bar_color": null,
            "_model_module": "@jupyter-widgets/controls"
          }
        },
        "d0d26202a7954092900b74096b867f05": {
          "model_module": "@jupyter-widgets/base",
          "model_name": "LayoutModel",
          "model_module_version": "1.2.0",
          "state": {
            "_view_name": "LayoutView",
            "grid_template_rows": null,
            "right": null,
            "justify_content": null,
            "_view_module": "@jupyter-widgets/base",
            "overflow": null,
            "_model_module_version": "1.2.0",
            "_view_count": null,
            "flex_flow": null,
            "width": null,
            "min_width": null,
            "border": null,
            "align_items": null,
            "bottom": null,
            "_model_module": "@jupyter-widgets/base",
            "top": null,
            "grid_column": null,
            "overflow_y": null,
            "overflow_x": null,
            "grid_auto_flow": null,
            "grid_area": null,
            "grid_template_columns": null,
            "flex": null,
            "_model_name": "LayoutModel",
            "justify_items": null,
            "grid_row": null,
            "max_height": null,
            "align_content": null,
            "visibility": null,
            "align_self": null,
            "height": null,
            "min_height": null,
            "padding": null,
            "grid_auto_rows": null,
            "grid_gap": null,
            "max_width": null,
            "order": null,
            "_view_module_version": "1.2.0",
            "grid_template_areas": null,
            "object_position": null,
            "object_fit": null,
            "grid_auto_columns": null,
            "margin": null,
            "display": null,
            "left": null
          }
        },
        "ee76672b7b4942e88eaa21cd94e55544": {
          "model_module": "@jupyter-widgets/controls",
          "model_name": "DescriptionStyleModel",
          "model_module_version": "1.5.0",
          "state": {
            "_view_name": "StyleView",
            "_model_name": "DescriptionStyleModel",
            "description_width": "",
            "_view_module": "@jupyter-widgets/base",
            "_model_module_version": "1.5.0",
            "_view_count": null,
            "_view_module_version": "1.2.0",
            "_model_module": "@jupyter-widgets/controls"
          }
        },
        "b340b02841f34e09905ac8466a6ffc22": {
          "model_module": "@jupyter-widgets/base",
          "model_name": "LayoutModel",
          "model_module_version": "1.2.0",
          "state": {
            "_view_name": "LayoutView",
            "grid_template_rows": null,
            "right": null,
            "justify_content": null,
            "_view_module": "@jupyter-widgets/base",
            "overflow": null,
            "_model_module_version": "1.2.0",
            "_view_count": null,
            "flex_flow": null,
            "width": null,
            "min_width": null,
            "border": null,
            "align_items": null,
            "bottom": null,
            "_model_module": "@jupyter-widgets/base",
            "top": null,
            "grid_column": null,
            "overflow_y": null,
            "overflow_x": null,
            "grid_auto_flow": null,
            "grid_area": null,
            "grid_template_columns": null,
            "flex": null,
            "_model_name": "LayoutModel",
            "justify_items": null,
            "grid_row": null,
            "max_height": null,
            "align_content": null,
            "visibility": null,
            "align_self": null,
            "height": null,
            "min_height": null,
            "padding": null,
            "grid_auto_rows": null,
            "grid_gap": null,
            "max_width": null,
            "order": null,
            "_view_module_version": "1.2.0",
            "grid_template_areas": null,
            "object_position": null,
            "object_fit": null,
            "grid_auto_columns": null,
            "margin": null,
            "display": null,
            "left": null
          }
        },
        "0920286bc2d64361b5cf53082806077c": {
          "model_module": "@jupyter-widgets/controls",
          "model_name": "HBoxModel",
          "model_module_version": "1.5.0",
          "state": {
            "_view_name": "HBoxView",
            "_dom_classes": [],
            "_model_name": "HBoxModel",
            "_view_module": "@jupyter-widgets/controls",
            "_model_module_version": "1.5.0",
            "_view_count": null,
            "_view_module_version": "1.5.0",
            "box_style": "",
            "layout": "IPY_MODEL_4feabd4c93c7437090a13a239e21f4c7",
            "_model_module": "@jupyter-widgets/controls",
            "children": [
              "IPY_MODEL_26eeb525ee3745279c2b8f0d28a83fb0",
              "IPY_MODEL_992b6815d1644f9e96f7296b80e3a7eb",
              "IPY_MODEL_a2f466332b98442aaa38c456d71c5850"
            ]
          }
        },
        "4feabd4c93c7437090a13a239e21f4c7": {
          "model_module": "@jupyter-widgets/base",
          "model_name": "LayoutModel",
          "model_module_version": "1.2.0",
          "state": {
            "_view_name": "LayoutView",
            "grid_template_rows": null,
            "right": null,
            "justify_content": null,
            "_view_module": "@jupyter-widgets/base",
            "overflow": null,
            "_model_module_version": "1.2.0",
            "_view_count": null,
            "flex_flow": null,
            "width": null,
            "min_width": null,
            "border": null,
            "align_items": null,
            "bottom": null,
            "_model_module": "@jupyter-widgets/base",
            "top": null,
            "grid_column": null,
            "overflow_y": null,
            "overflow_x": null,
            "grid_auto_flow": null,
            "grid_area": null,
            "grid_template_columns": null,
            "flex": null,
            "_model_name": "LayoutModel",
            "justify_items": null,
            "grid_row": null,
            "max_height": null,
            "align_content": null,
            "visibility": null,
            "align_self": null,
            "height": null,
            "min_height": null,
            "padding": null,
            "grid_auto_rows": null,
            "grid_gap": null,
            "max_width": null,
            "order": null,
            "_view_module_version": "1.2.0",
            "grid_template_areas": null,
            "object_position": null,
            "object_fit": null,
            "grid_auto_columns": null,
            "margin": null,
            "display": null,
            "left": null
          }
        },
        "26eeb525ee3745279c2b8f0d28a83fb0": {
          "model_module": "@jupyter-widgets/controls",
          "model_name": "HTMLModel",
          "model_module_version": "1.5.0",
          "state": {
            "_view_name": "HTMLView",
            "style": "IPY_MODEL_8de4d87909364fbd870dc8d57383300d",
            "_dom_classes": [],
            "description": "",
            "_model_name": "HTMLModel",
            "placeholder": "​",
            "_view_module": "@jupyter-widgets/controls",
            "_model_module_version": "1.5.0",
            "value": "Downloading: 100%",
            "_view_count": null,
            "_view_module_version": "1.5.0",
            "description_tooltip": null,
            "_model_module": "@jupyter-widgets/controls",
            "layout": "IPY_MODEL_b8f08bf862d6470fbb9f1c6568347ed9"
          }
        },
        "992b6815d1644f9e96f7296b80e3a7eb": {
          "model_module": "@jupyter-widgets/controls",
          "model_name": "FloatProgressModel",
          "model_module_version": "1.5.0",
          "state": {
            "_view_name": "ProgressView",
            "style": "IPY_MODEL_b759a65536064bcf84ecd1bb744d61ae",
            "_dom_classes": [],
            "description": "",
            "_model_name": "FloatProgressModel",
            "bar_style": "success",
            "max": 2642362,
            "_view_module": "@jupyter-widgets/controls",
            "_model_module_version": "1.5.0",
            "value": 2642362,
            "_view_count": null,
            "_view_module_version": "1.5.0",
            "orientation": "horizontal",
            "min": 0,
            "description_tooltip": null,
            "_model_module": "@jupyter-widgets/controls",
            "layout": "IPY_MODEL_33f24b55409d4ac9b63fc30b708d70c4"
          }
        },
        "a2f466332b98442aaa38c456d71c5850": {
          "model_module": "@jupyter-widgets/controls",
          "model_name": "HTMLModel",
          "model_module_version": "1.5.0",
          "state": {
            "_view_name": "HTMLView",
            "style": "IPY_MODEL_9f32dd2946244a3480c1caf72d778583",
            "_dom_classes": [],
            "description": "",
            "_model_name": "HTMLModel",
            "placeholder": "​",
            "_view_module": "@jupyter-widgets/controls",
            "_model_module_version": "1.5.0",
            "value": " 2.52M/2.52M [00:01&lt;00:00, 1.83MB/s]",
            "_view_count": null,
            "_view_module_version": "1.5.0",
            "description_tooltip": null,
            "_model_module": "@jupyter-widgets/controls",
            "layout": "IPY_MODEL_f49e263966eb465286d503a8912c528a"
          }
        },
        "8de4d87909364fbd870dc8d57383300d": {
          "model_module": "@jupyter-widgets/controls",
          "model_name": "DescriptionStyleModel",
          "model_module_version": "1.5.0",
          "state": {
            "_view_name": "StyleView",
            "_model_name": "DescriptionStyleModel",
            "description_width": "",
            "_view_module": "@jupyter-widgets/base",
            "_model_module_version": "1.5.0",
            "_view_count": null,
            "_view_module_version": "1.2.0",
            "_model_module": "@jupyter-widgets/controls"
          }
        },
        "b8f08bf862d6470fbb9f1c6568347ed9": {
          "model_module": "@jupyter-widgets/base",
          "model_name": "LayoutModel",
          "model_module_version": "1.2.0",
          "state": {
            "_view_name": "LayoutView",
            "grid_template_rows": null,
            "right": null,
            "justify_content": null,
            "_view_module": "@jupyter-widgets/base",
            "overflow": null,
            "_model_module_version": "1.2.0",
            "_view_count": null,
            "flex_flow": null,
            "width": null,
            "min_width": null,
            "border": null,
            "align_items": null,
            "bottom": null,
            "_model_module": "@jupyter-widgets/base",
            "top": null,
            "grid_column": null,
            "overflow_y": null,
            "overflow_x": null,
            "grid_auto_flow": null,
            "grid_area": null,
            "grid_template_columns": null,
            "flex": null,
            "_model_name": "LayoutModel",
            "justify_items": null,
            "grid_row": null,
            "max_height": null,
            "align_content": null,
            "visibility": null,
            "align_self": null,
            "height": null,
            "min_height": null,
            "padding": null,
            "grid_auto_rows": null,
            "grid_gap": null,
            "max_width": null,
            "order": null,
            "_view_module_version": "1.2.0",
            "grid_template_areas": null,
            "object_position": null,
            "object_fit": null,
            "grid_auto_columns": null,
            "margin": null,
            "display": null,
            "left": null
          }
        },
        "b759a65536064bcf84ecd1bb744d61ae": {
          "model_module": "@jupyter-widgets/controls",
          "model_name": "ProgressStyleModel",
          "model_module_version": "1.5.0",
          "state": {
            "_view_name": "StyleView",
            "_model_name": "ProgressStyleModel",
            "description_width": "",
            "_view_module": "@jupyter-widgets/base",
            "_model_module_version": "1.5.0",
            "_view_count": null,
            "_view_module_version": "1.2.0",
            "bar_color": null,
            "_model_module": "@jupyter-widgets/controls"
          }
        },
        "33f24b55409d4ac9b63fc30b708d70c4": {
          "model_module": "@jupyter-widgets/base",
          "model_name": "LayoutModel",
          "model_module_version": "1.2.0",
          "state": {
            "_view_name": "LayoutView",
            "grid_template_rows": null,
            "right": null,
            "justify_content": null,
            "_view_module": "@jupyter-widgets/base",
            "overflow": null,
            "_model_module_version": "1.2.0",
            "_view_count": null,
            "flex_flow": null,
            "width": null,
            "min_width": null,
            "border": null,
            "align_items": null,
            "bottom": null,
            "_model_module": "@jupyter-widgets/base",
            "top": null,
            "grid_column": null,
            "overflow_y": null,
            "overflow_x": null,
            "grid_auto_flow": null,
            "grid_area": null,
            "grid_template_columns": null,
            "flex": null,
            "_model_name": "LayoutModel",
            "justify_items": null,
            "grid_row": null,
            "max_height": null,
            "align_content": null,
            "visibility": null,
            "align_self": null,
            "height": null,
            "min_height": null,
            "padding": null,
            "grid_auto_rows": null,
            "grid_gap": null,
            "max_width": null,
            "order": null,
            "_view_module_version": "1.2.0",
            "grid_template_areas": null,
            "object_position": null,
            "object_fit": null,
            "grid_auto_columns": null,
            "margin": null,
            "display": null,
            "left": null
          }
        },
        "9f32dd2946244a3480c1caf72d778583": {
          "model_module": "@jupyter-widgets/controls",
          "model_name": "DescriptionStyleModel",
          "model_module_version": "1.5.0",
          "state": {
            "_view_name": "StyleView",
            "_model_name": "DescriptionStyleModel",
            "description_width": "",
            "_view_module": "@jupyter-widgets/base",
            "_model_module_version": "1.5.0",
            "_view_count": null,
            "_view_module_version": "1.2.0",
            "_model_module": "@jupyter-widgets/controls"
          }
        },
        "f49e263966eb465286d503a8912c528a": {
          "model_module": "@jupyter-widgets/base",
          "model_name": "LayoutModel",
          "model_module_version": "1.2.0",
          "state": {
            "_view_name": "LayoutView",
            "grid_template_rows": null,
            "right": null,
            "justify_content": null,
            "_view_module": "@jupyter-widgets/base",
            "overflow": null,
            "_model_module_version": "1.2.0",
            "_view_count": null,
            "flex_flow": null,
            "width": null,
            "min_width": null,
            "border": null,
            "align_items": null,
            "bottom": null,
            "_model_module": "@jupyter-widgets/base",
            "top": null,
            "grid_column": null,
            "overflow_y": null,
            "overflow_x": null,
            "grid_auto_flow": null,
            "grid_area": null,
            "grid_template_columns": null,
            "flex": null,
            "_model_name": "LayoutModel",
            "justify_items": null,
            "grid_row": null,
            "max_height": null,
            "align_content": null,
            "visibility": null,
            "align_self": null,
            "height": null,
            "min_height": null,
            "padding": null,
            "grid_auto_rows": null,
            "grid_gap": null,
            "max_width": null,
            "order": null,
            "_view_module_version": "1.2.0",
            "grid_template_areas": null,
            "object_position": null,
            "object_fit": null,
            "grid_auto_columns": null,
            "margin": null,
            "display": null,
            "left": null
          }
        },
        "b7413d0b155d4a6188bcc46406558b36": {
          "model_module": "@jupyter-widgets/controls",
          "model_name": "HBoxModel",
          "model_module_version": "1.5.0",
          "state": {
            "_view_name": "HBoxView",
            "_dom_classes": [],
            "_model_name": "HBoxModel",
            "_view_module": "@jupyter-widgets/controls",
            "_model_module_version": "1.5.0",
            "_view_count": null,
            "_view_module_version": "1.5.0",
            "box_style": "",
            "layout": "IPY_MODEL_428c99247569419b834aff803270d38e",
            "_model_module": "@jupyter-widgets/controls",
            "children": [
              "IPY_MODEL_4030094ab597487a99aefbeb85f12a9a",
              "IPY_MODEL_12a5a9a017504da9b422a3c71279c8b8",
              "IPY_MODEL_629916d4eeb246acb60dc0b16bc20324"
            ]
          }
        },
        "428c99247569419b834aff803270d38e": {
          "model_module": "@jupyter-widgets/base",
          "model_name": "LayoutModel",
          "model_module_version": "1.2.0",
          "state": {
            "_view_name": "LayoutView",
            "grid_template_rows": null,
            "right": null,
            "justify_content": null,
            "_view_module": "@jupyter-widgets/base",
            "overflow": null,
            "_model_module_version": "1.2.0",
            "_view_count": null,
            "flex_flow": null,
            "width": null,
            "min_width": null,
            "border": null,
            "align_items": null,
            "bottom": null,
            "_model_module": "@jupyter-widgets/base",
            "top": null,
            "grid_column": null,
            "overflow_y": null,
            "overflow_x": null,
            "grid_auto_flow": null,
            "grid_area": null,
            "grid_template_columns": null,
            "flex": null,
            "_model_name": "LayoutModel",
            "justify_items": null,
            "grid_row": null,
            "max_height": null,
            "align_content": null,
            "visibility": null,
            "align_self": null,
            "height": null,
            "min_height": null,
            "padding": null,
            "grid_auto_rows": null,
            "grid_gap": null,
            "max_width": null,
            "order": null,
            "_view_module_version": "1.2.0",
            "grid_template_areas": null,
            "object_position": null,
            "object_fit": null,
            "grid_auto_columns": null,
            "margin": null,
            "display": null,
            "left": null
          }
        },
        "4030094ab597487a99aefbeb85f12a9a": {
          "model_module": "@jupyter-widgets/controls",
          "model_name": "HTMLModel",
          "model_module_version": "1.5.0",
          "state": {
            "_view_name": "HTMLView",
            "style": "IPY_MODEL_5c241144df004a3a90e15a94730e0ccd",
            "_dom_classes": [],
            "description": "",
            "_model_name": "HTMLModel",
            "placeholder": "​",
            "_view_module": "@jupyter-widgets/controls",
            "_model_module_version": "1.5.0",
            "value": "Downloading: 100%",
            "_view_count": null,
            "_view_module_version": "1.5.0",
            "description_tooltip": null,
            "_model_module": "@jupyter-widgets/controls",
            "layout": "IPY_MODEL_50a78e65b45e4da9b1049ef28f438d04"
          }
        },
        "12a5a9a017504da9b422a3c71279c8b8": {
          "model_module": "@jupyter-widgets/controls",
          "model_name": "FloatProgressModel",
          "model_module_version": "1.5.0",
          "state": {
            "_view_name": "ProgressView",
            "style": "IPY_MODEL_057d7a93c9b847f685f9940b63cc4699",
            "_dom_classes": [],
            "description": "",
            "_model_name": "FloatProgressModel",
            "bar_style": "success",
            "max": 112,
            "_view_module": "@jupyter-widgets/controls",
            "_model_module_version": "1.5.0",
            "value": 112,
            "_view_count": null,
            "_view_module_version": "1.5.0",
            "orientation": "horizontal",
            "min": 0,
            "description_tooltip": null,
            "_model_module": "@jupyter-widgets/controls",
            "layout": "IPY_MODEL_22b49568f9854e9f8282ab32d09a661e"
          }
        },
        "629916d4eeb246acb60dc0b16bc20324": {
          "model_module": "@jupyter-widgets/controls",
          "model_name": "HTMLModel",
          "model_module_version": "1.5.0",
          "state": {
            "_view_name": "HTMLView",
            "style": "IPY_MODEL_13fa178a3dfe476fb7bf8a7138f90981",
            "_dom_classes": [],
            "description": "",
            "_model_name": "HTMLModel",
            "placeholder": "​",
            "_view_module": "@jupyter-widgets/controls",
            "_model_module_version": "1.5.0",
            "value": " 112/112 [00:00&lt;00:00, 2.81kB/s]",
            "_view_count": null,
            "_view_module_version": "1.5.0",
            "description_tooltip": null,
            "_model_module": "@jupyter-widgets/controls",
            "layout": "IPY_MODEL_1867f2ddcba249fe906f9905ae6dcbec"
          }
        },
        "5c241144df004a3a90e15a94730e0ccd": {
          "model_module": "@jupyter-widgets/controls",
          "model_name": "DescriptionStyleModel",
          "model_module_version": "1.5.0",
          "state": {
            "_view_name": "StyleView",
            "_model_name": "DescriptionStyleModel",
            "description_width": "",
            "_view_module": "@jupyter-widgets/base",
            "_model_module_version": "1.5.0",
            "_view_count": null,
            "_view_module_version": "1.2.0",
            "_model_module": "@jupyter-widgets/controls"
          }
        },
        "50a78e65b45e4da9b1049ef28f438d04": {
          "model_module": "@jupyter-widgets/base",
          "model_name": "LayoutModel",
          "model_module_version": "1.2.0",
          "state": {
            "_view_name": "LayoutView",
            "grid_template_rows": null,
            "right": null,
            "justify_content": null,
            "_view_module": "@jupyter-widgets/base",
            "overflow": null,
            "_model_module_version": "1.2.0",
            "_view_count": null,
            "flex_flow": null,
            "width": null,
            "min_width": null,
            "border": null,
            "align_items": null,
            "bottom": null,
            "_model_module": "@jupyter-widgets/base",
            "top": null,
            "grid_column": null,
            "overflow_y": null,
            "overflow_x": null,
            "grid_auto_flow": null,
            "grid_area": null,
            "grid_template_columns": null,
            "flex": null,
            "_model_name": "LayoutModel",
            "justify_items": null,
            "grid_row": null,
            "max_height": null,
            "align_content": null,
            "visibility": null,
            "align_self": null,
            "height": null,
            "min_height": null,
            "padding": null,
            "grid_auto_rows": null,
            "grid_gap": null,
            "max_width": null,
            "order": null,
            "_view_module_version": "1.2.0",
            "grid_template_areas": null,
            "object_position": null,
            "object_fit": null,
            "grid_auto_columns": null,
            "margin": null,
            "display": null,
            "left": null
          }
        },
        "057d7a93c9b847f685f9940b63cc4699": {
          "model_module": "@jupyter-widgets/controls",
          "model_name": "ProgressStyleModel",
          "model_module_version": "1.5.0",
          "state": {
            "_view_name": "StyleView",
            "_model_name": "ProgressStyleModel",
            "description_width": "",
            "_view_module": "@jupyter-widgets/base",
            "_model_module_version": "1.5.0",
            "_view_count": null,
            "_view_module_version": "1.2.0",
            "bar_color": null,
            "_model_module": "@jupyter-widgets/controls"
          }
        },
        "22b49568f9854e9f8282ab32d09a661e": {
          "model_module": "@jupyter-widgets/base",
          "model_name": "LayoutModel",
          "model_module_version": "1.2.0",
          "state": {
            "_view_name": "LayoutView",
            "grid_template_rows": null,
            "right": null,
            "justify_content": null,
            "_view_module": "@jupyter-widgets/base",
            "overflow": null,
            "_model_module_version": "1.2.0",
            "_view_count": null,
            "flex_flow": null,
            "width": null,
            "min_width": null,
            "border": null,
            "align_items": null,
            "bottom": null,
            "_model_module": "@jupyter-widgets/base",
            "top": null,
            "grid_column": null,
            "overflow_y": null,
            "overflow_x": null,
            "grid_auto_flow": null,
            "grid_area": null,
            "grid_template_columns": null,
            "flex": null,
            "_model_name": "LayoutModel",
            "justify_items": null,
            "grid_row": null,
            "max_height": null,
            "align_content": null,
            "visibility": null,
            "align_self": null,
            "height": null,
            "min_height": null,
            "padding": null,
            "grid_auto_rows": null,
            "grid_gap": null,
            "max_width": null,
            "order": null,
            "_view_module_version": "1.2.0",
            "grid_template_areas": null,
            "object_position": null,
            "object_fit": null,
            "grid_auto_columns": null,
            "margin": null,
            "display": null,
            "left": null
          }
        },
        "13fa178a3dfe476fb7bf8a7138f90981": {
          "model_module": "@jupyter-widgets/controls",
          "model_name": "DescriptionStyleModel",
          "model_module_version": "1.5.0",
          "state": {
            "_view_name": "StyleView",
            "_model_name": "DescriptionStyleModel",
            "description_width": "",
            "_view_module": "@jupyter-widgets/base",
            "_model_module_version": "1.5.0",
            "_view_count": null,
            "_view_module_version": "1.2.0",
            "_model_module": "@jupyter-widgets/controls"
          }
        },
        "1867f2ddcba249fe906f9905ae6dcbec": {
          "model_module": "@jupyter-widgets/base",
          "model_name": "LayoutModel",
          "model_module_version": "1.2.0",
          "state": {
            "_view_name": "LayoutView",
            "grid_template_rows": null,
            "right": null,
            "justify_content": null,
            "_view_module": "@jupyter-widgets/base",
            "overflow": null,
            "_model_module_version": "1.2.0",
            "_view_count": null,
            "flex_flow": null,
            "width": null,
            "min_width": null,
            "border": null,
            "align_items": null,
            "bottom": null,
            "_model_module": "@jupyter-widgets/base",
            "top": null,
            "grid_column": null,
            "overflow_y": null,
            "overflow_x": null,
            "grid_auto_flow": null,
            "grid_area": null,
            "grid_template_columns": null,
            "flex": null,
            "_model_name": "LayoutModel",
            "justify_items": null,
            "grid_row": null,
            "max_height": null,
            "align_content": null,
            "visibility": null,
            "align_self": null,
            "height": null,
            "min_height": null,
            "padding": null,
            "grid_auto_rows": null,
            "grid_gap": null,
            "max_width": null,
            "order": null,
            "_view_module_version": "1.2.0",
            "grid_template_areas": null,
            "object_position": null,
            "object_fit": null,
            "grid_auto_columns": null,
            "margin": null,
            "display": null,
            "left": null
          }
        },
        "16037b6ac8ac46c9aadfe81cf609f119": {
          "model_module": "@jupyter-widgets/controls",
          "model_name": "HBoxModel",
          "model_module_version": "1.5.0",
          "state": {
            "_view_name": "HBoxView",
            "_dom_classes": [],
            "_model_name": "HBoxModel",
            "_view_module": "@jupyter-widgets/controls",
            "_model_module_version": "1.5.0",
            "_view_count": null,
            "_view_module_version": "1.5.0",
            "box_style": "",
            "layout": "IPY_MODEL_1461432cbb0a46dd9fc58eb7206cca0e",
            "_model_module": "@jupyter-widgets/controls",
            "children": [
              "IPY_MODEL_a07590f8922a46698ea9f09f51c71755",
              "IPY_MODEL_8e6a28ff0c2d4d88905ae6ec6adc29b4",
              "IPY_MODEL_f219e82d4d994cdbb09aa80a28e8a73f"
            ]
          }
        },
        "1461432cbb0a46dd9fc58eb7206cca0e": {
          "model_module": "@jupyter-widgets/base",
          "model_name": "LayoutModel",
          "model_module_version": "1.2.0",
          "state": {
            "_view_name": "LayoutView",
            "grid_template_rows": null,
            "right": null,
            "justify_content": null,
            "_view_module": "@jupyter-widgets/base",
            "overflow": null,
            "_model_module_version": "1.2.0",
            "_view_count": null,
            "flex_flow": null,
            "width": null,
            "min_width": null,
            "border": null,
            "align_items": null,
            "bottom": null,
            "_model_module": "@jupyter-widgets/base",
            "top": null,
            "grid_column": null,
            "overflow_y": null,
            "overflow_x": null,
            "grid_auto_flow": null,
            "grid_area": null,
            "grid_template_columns": null,
            "flex": null,
            "_model_name": "LayoutModel",
            "justify_items": null,
            "grid_row": null,
            "max_height": null,
            "align_content": null,
            "visibility": null,
            "align_self": null,
            "height": null,
            "min_height": null,
            "padding": null,
            "grid_auto_rows": null,
            "grid_gap": null,
            "max_width": null,
            "order": null,
            "_view_module_version": "1.2.0",
            "grid_template_areas": null,
            "object_position": null,
            "object_fit": null,
            "grid_auto_columns": null,
            "margin": null,
            "display": null,
            "left": null
          }
        },
        "a07590f8922a46698ea9f09f51c71755": {
          "model_module": "@jupyter-widgets/controls",
          "model_name": "HTMLModel",
          "model_module_version": "1.5.0",
          "state": {
            "_view_name": "HTMLView",
            "style": "IPY_MODEL_aa21229080dd4b238fe680472527888a",
            "_dom_classes": [],
            "description": "",
            "_model_name": "HTMLModel",
            "placeholder": "​",
            "_view_module": "@jupyter-widgets/controls",
            "_model_module_version": "1.5.0",
            "value": "Downloading: 100%",
            "_view_count": null,
            "_view_module_version": "1.5.0",
            "description_tooltip": null,
            "_model_module": "@jupyter-widgets/controls",
            "layout": "IPY_MODEL_0c7fcc7cf0144b769cc785255e399f1b"
          }
        },
        "8e6a28ff0c2d4d88905ae6ec6adc29b4": {
          "model_module": "@jupyter-widgets/controls",
          "model_name": "FloatProgressModel",
          "model_module_version": "1.5.0",
          "state": {
            "_view_name": "ProgressView",
            "style": "IPY_MODEL_c9bd2d1d45ea4d7cb1b448c8b5cdee0a",
            "_dom_classes": [],
            "description": "",
            "_model_name": "FloatProgressModel",
            "bar_style": "success",
            "max": 543490667,
            "_view_module": "@jupyter-widgets/controls",
            "_model_module_version": "1.5.0",
            "value": 543490667,
            "_view_count": null,
            "_view_module_version": "1.5.0",
            "orientation": "horizontal",
            "min": 0,
            "description_tooltip": null,
            "_model_module": "@jupyter-widgets/controls",
            "layout": "IPY_MODEL_e9f36805c2c548b48ee591968067319a"
          }
        },
        "f219e82d4d994cdbb09aa80a28e8a73f": {
          "model_module": "@jupyter-widgets/controls",
          "model_name": "HTMLModel",
          "model_module_version": "1.5.0",
          "state": {
            "_view_name": "HTMLView",
            "style": "IPY_MODEL_147ab84e0d2645119a5876943f256297",
            "_dom_classes": [],
            "description": "",
            "_model_name": "HTMLModel",
            "placeholder": "​",
            "_view_module": "@jupyter-widgets/controls",
            "_model_module_version": "1.5.0",
            "value": " 518M/518M [00:18&lt;00:00, 33.0MB/s]",
            "_view_count": null,
            "_view_module_version": "1.5.0",
            "description_tooltip": null,
            "_model_module": "@jupyter-widgets/controls",
            "layout": "IPY_MODEL_f5650c015ec94a2ba3d8efaa29b8a91b"
          }
        },
        "aa21229080dd4b238fe680472527888a": {
          "model_module": "@jupyter-widgets/controls",
          "model_name": "DescriptionStyleModel",
          "model_module_version": "1.5.0",
          "state": {
            "_view_name": "StyleView",
            "_model_name": "DescriptionStyleModel",
            "description_width": "",
            "_view_module": "@jupyter-widgets/base",
            "_model_module_version": "1.5.0",
            "_view_count": null,
            "_view_module_version": "1.2.0",
            "_model_module": "@jupyter-widgets/controls"
          }
        },
        "0c7fcc7cf0144b769cc785255e399f1b": {
          "model_module": "@jupyter-widgets/base",
          "model_name": "LayoutModel",
          "model_module_version": "1.2.0",
          "state": {
            "_view_name": "LayoutView",
            "grid_template_rows": null,
            "right": null,
            "justify_content": null,
            "_view_module": "@jupyter-widgets/base",
            "overflow": null,
            "_model_module_version": "1.2.0",
            "_view_count": null,
            "flex_flow": null,
            "width": null,
            "min_width": null,
            "border": null,
            "align_items": null,
            "bottom": null,
            "_model_module": "@jupyter-widgets/base",
            "top": null,
            "grid_column": null,
            "overflow_y": null,
            "overflow_x": null,
            "grid_auto_flow": null,
            "grid_area": null,
            "grid_template_columns": null,
            "flex": null,
            "_model_name": "LayoutModel",
            "justify_items": null,
            "grid_row": null,
            "max_height": null,
            "align_content": null,
            "visibility": null,
            "align_self": null,
            "height": null,
            "min_height": null,
            "padding": null,
            "grid_auto_rows": null,
            "grid_gap": null,
            "max_width": null,
            "order": null,
            "_view_module_version": "1.2.0",
            "grid_template_areas": null,
            "object_position": null,
            "object_fit": null,
            "grid_auto_columns": null,
            "margin": null,
            "display": null,
            "left": null
          }
        },
        "c9bd2d1d45ea4d7cb1b448c8b5cdee0a": {
          "model_module": "@jupyter-widgets/controls",
          "model_name": "ProgressStyleModel",
          "model_module_version": "1.5.0",
          "state": {
            "_view_name": "StyleView",
            "_model_name": "ProgressStyleModel",
            "description_width": "",
            "_view_module": "@jupyter-widgets/base",
            "_model_module_version": "1.5.0",
            "_view_count": null,
            "_view_module_version": "1.2.0",
            "bar_color": null,
            "_model_module": "@jupyter-widgets/controls"
          }
        },
        "e9f36805c2c548b48ee591968067319a": {
          "model_module": "@jupyter-widgets/base",
          "model_name": "LayoutModel",
          "model_module_version": "1.2.0",
          "state": {
            "_view_name": "LayoutView",
            "grid_template_rows": null,
            "right": null,
            "justify_content": null,
            "_view_module": "@jupyter-widgets/base",
            "overflow": null,
            "_model_module_version": "1.2.0",
            "_view_count": null,
            "flex_flow": null,
            "width": null,
            "min_width": null,
            "border": null,
            "align_items": null,
            "bottom": null,
            "_model_module": "@jupyter-widgets/base",
            "top": null,
            "grid_column": null,
            "overflow_y": null,
            "overflow_x": null,
            "grid_auto_flow": null,
            "grid_area": null,
            "grid_template_columns": null,
            "flex": null,
            "_model_name": "LayoutModel",
            "justify_items": null,
            "grid_row": null,
            "max_height": null,
            "align_content": null,
            "visibility": null,
            "align_self": null,
            "height": null,
            "min_height": null,
            "padding": null,
            "grid_auto_rows": null,
            "grid_gap": null,
            "max_width": null,
            "order": null,
            "_view_module_version": "1.2.0",
            "grid_template_areas": null,
            "object_position": null,
            "object_fit": null,
            "grid_auto_columns": null,
            "margin": null,
            "display": null,
            "left": null
          }
        },
        "147ab84e0d2645119a5876943f256297": {
          "model_module": "@jupyter-widgets/controls",
          "model_name": "DescriptionStyleModel",
          "model_module_version": "1.5.0",
          "state": {
            "_view_name": "StyleView",
            "_model_name": "DescriptionStyleModel",
            "description_width": "",
            "_view_module": "@jupyter-widgets/base",
            "_model_module_version": "1.5.0",
            "_view_count": null,
            "_view_module_version": "1.2.0",
            "_model_module": "@jupyter-widgets/controls"
          }
        },
        "f5650c015ec94a2ba3d8efaa29b8a91b": {
          "model_module": "@jupyter-widgets/base",
          "model_name": "LayoutModel",
          "model_module_version": "1.2.0",
          "state": {
            "_view_name": "LayoutView",
            "grid_template_rows": null,
            "right": null,
            "justify_content": null,
            "_view_module": "@jupyter-widgets/base",
            "overflow": null,
            "_model_module_version": "1.2.0",
            "_view_count": null,
            "flex_flow": null,
            "width": null,
            "min_width": null,
            "border": null,
            "align_items": null,
            "bottom": null,
            "_model_module": "@jupyter-widgets/base",
            "top": null,
            "grid_column": null,
            "overflow_y": null,
            "overflow_x": null,
            "grid_auto_flow": null,
            "grid_area": null,
            "grid_template_columns": null,
            "flex": null,
            "_model_name": "LayoutModel",
            "justify_items": null,
            "grid_row": null,
            "max_height": null,
            "align_content": null,
            "visibility": null,
            "align_self": null,
            "height": null,
            "min_height": null,
            "padding": null,
            "grid_auto_rows": null,
            "grid_gap": null,
            "max_width": null,
            "order": null,
            "_view_module_version": "1.2.0",
            "grid_template_areas": null,
            "object_position": null,
            "object_fit": null,
            "grid_auto_columns": null,
            "margin": null,
            "display": null,
            "left": null
          }
        }
      }
    }
  },
  "cells": [
    {
      "cell_type": "code",
      "metadata": {
        "colab": {
          "base_uri": "https://localhost:8080/"
        },
        "id": "C4tlwQ8si_FI",
        "outputId": "5877da4c-cd3e-44c5-93da-03feac10a334"
      },
      "source": [
        "import torch\n",
        "\n",
        "# If there's a GPU available...\n",
        "if torch.cuda.is_available():    \n",
        "\n",
        "    # Tell PyTorch to use the GPU.    \n",
        "    device = torch.device(\"cuda\")\n",
        "\n",
        "    print('There are %d GPU(s) available.' % torch.cuda.device_count())\n",
        "\n",
        "    print('We will use the GPU:', torch.cuda.get_device_name(0))\n",
        "\n",
        "# If not...\n",
        "else:\n",
        "    print('No GPU available, using the CPU instead.')\n",
        "    device = torch.device(\"cpu\")"
      ],
      "execution_count": 1,
      "outputs": [
        {
          "output_type": "stream",
          "name": "stdout",
          "text": [
            "There are 1 GPU(s) available.\n",
            "We will use the GPU: Tesla K80\n"
          ]
        }
      ]
    },
    {
      "cell_type": "code",
      "metadata": {
        "id": "y024z5AnlTLz",
        "colab": {
          "base_uri": "https://localhost:8080/"
        },
        "outputId": "0f36af45-18af-482e-a5c2-4777f0fd6249"
      },
      "source": [
        "!pip install transformers==4.12.2\n",
        "!pip install farasapy==0.0.14\n",
        "!pip install pyarabic==0.6.14\n",
        "!git clone https://github.com/aub-mind/arabert\n",
        "!pip install emoji==1.6.1\n",
        "!pip install sentencepiece==0.1.96"
      ],
      "execution_count": 2,
      "outputs": [
        {
          "output_type": "stream",
          "name": "stdout",
          "text": [
            "Requirement already satisfied: transformers==4.12.2 in /usr/local/lib/python3.7/dist-packages (4.12.2)\n",
            "Requirement already satisfied: pyyaml>=5.1 in /usr/local/lib/python3.7/dist-packages (from transformers==4.12.2) (6.0)\n",
            "Requirement already satisfied: requests in /usr/local/lib/python3.7/dist-packages (from transformers==4.12.2) (2.23.0)\n",
            "Requirement already satisfied: packaging>=20.0 in /usr/local/lib/python3.7/dist-packages (from transformers==4.12.2) (21.3)\n",
            "Requirement already satisfied: numpy>=1.17 in /usr/local/lib/python3.7/dist-packages (from transformers==4.12.2) (1.19.5)\n",
            "Requirement already satisfied: tokenizers<0.11,>=0.10.1 in /usr/local/lib/python3.7/dist-packages (from transformers==4.12.2) (0.10.3)\n",
            "Requirement already satisfied: tqdm>=4.27 in /usr/local/lib/python3.7/dist-packages (from transformers==4.12.2) (4.62.3)\n",
            "Requirement already satisfied: sacremoses in /usr/local/lib/python3.7/dist-packages (from transformers==4.12.2) (0.0.46)\n",
            "Requirement already satisfied: regex!=2019.12.17 in /usr/local/lib/python3.7/dist-packages (from transformers==4.12.2) (2019.12.20)\n",
            "Requirement already satisfied: importlib-metadata in /usr/local/lib/python3.7/dist-packages (from transformers==4.12.2) (4.8.2)\n",
            "Requirement already satisfied: huggingface-hub>=0.0.17 in /usr/local/lib/python3.7/dist-packages (from transformers==4.12.2) (0.2.1)\n",
            "Requirement already satisfied: filelock in /usr/local/lib/python3.7/dist-packages (from transformers==4.12.2) (3.4.0)\n",
            "Requirement already satisfied: typing-extensions>=3.7.4.3 in /usr/local/lib/python3.7/dist-packages (from huggingface-hub>=0.0.17->transformers==4.12.2) (3.10.0.2)\n",
            "Requirement already satisfied: pyparsing!=3.0.5,>=2.0.2 in /usr/local/lib/python3.7/dist-packages (from packaging>=20.0->transformers==4.12.2) (3.0.6)\n",
            "Requirement already satisfied: zipp>=0.5 in /usr/local/lib/python3.7/dist-packages (from importlib-metadata->transformers==4.12.2) (3.6.0)\n",
            "Requirement already satisfied: idna<3,>=2.5 in /usr/local/lib/python3.7/dist-packages (from requests->transformers==4.12.2) (2.10)\n",
            "Requirement already satisfied: certifi>=2017.4.17 in /usr/local/lib/python3.7/dist-packages (from requests->transformers==4.12.2) (2021.10.8)\n",
            "Requirement already satisfied: urllib3!=1.25.0,!=1.25.1,<1.26,>=1.21.1 in /usr/local/lib/python3.7/dist-packages (from requests->transformers==4.12.2) (1.24.3)\n",
            "Requirement already satisfied: chardet<4,>=3.0.2 in /usr/local/lib/python3.7/dist-packages (from requests->transformers==4.12.2) (3.0.4)\n",
            "Requirement already satisfied: click in /usr/local/lib/python3.7/dist-packages (from sacremoses->transformers==4.12.2) (7.1.2)\n",
            "Requirement already satisfied: joblib in /usr/local/lib/python3.7/dist-packages (from sacremoses->transformers==4.12.2) (1.1.0)\n",
            "Requirement already satisfied: six in /usr/local/lib/python3.7/dist-packages (from sacremoses->transformers==4.12.2) (1.15.0)\n",
            "Requirement already satisfied: farasapy==0.0.14 in /usr/local/lib/python3.7/dist-packages (0.0.14)\n",
            "Requirement already satisfied: tqdm in /usr/local/lib/python3.7/dist-packages (from farasapy==0.0.14) (4.62.3)\n",
            "Requirement already satisfied: requests in /usr/local/lib/python3.7/dist-packages (from farasapy==0.0.14) (2.23.0)\n",
            "Requirement already satisfied: urllib3!=1.25.0,!=1.25.1,<1.26,>=1.21.1 in /usr/local/lib/python3.7/dist-packages (from requests->farasapy==0.0.14) (1.24.3)\n",
            "Requirement already satisfied: chardet<4,>=3.0.2 in /usr/local/lib/python3.7/dist-packages (from requests->farasapy==0.0.14) (3.0.4)\n",
            "Requirement already satisfied: certifi>=2017.4.17 in /usr/local/lib/python3.7/dist-packages (from requests->farasapy==0.0.14) (2021.10.8)\n",
            "Requirement already satisfied: idna<3,>=2.5 in /usr/local/lib/python3.7/dist-packages (from requests->farasapy==0.0.14) (2.10)\n",
            "Requirement already satisfied: pyarabic==0.6.14 in /usr/local/lib/python3.7/dist-packages (0.6.14)\n",
            "Requirement already satisfied: six>=1.14.0 in /usr/local/lib/python3.7/dist-packages (from pyarabic==0.6.14) (1.15.0)\n",
            "fatal: destination path 'arabert' already exists and is not an empty directory.\n",
            "Requirement already satisfied: emoji==1.6.1 in /usr/local/lib/python3.7/dist-packages (1.6.1)\n",
            "Requirement already satisfied: sentencepiece==0.1.96 in /usr/local/lib/python3.7/dist-packages (0.1.96)\n"
          ]
        }
      ]
    },
    {
      "cell_type": "markdown",
      "metadata": {
        "id": "TVay9KamnC3I"
      },
      "source": [
        "#Creating training datasets"
      ]
    },
    {
      "cell_type": "code",
      "metadata": {
        "id": "hr84ozGinCFh"
      },
      "source": [
        "import pandas as pd\n",
        "import numpy as np\n",
        "from typing import List\n",
        "from tqdm import tqdm_notebook as tqdm\n",
        "from sklearn.model_selection import train_test_split"
      ],
      "execution_count": 3,
      "outputs": []
    },
    {
      "cell_type": "markdown",
      "metadata": {
        "id": "3jD0IueryovK"
      },
      "source": [
        "This custom dataset class will help us hold our datasets in a structred manner.\n",
        "It's not necessary to use it with your own data"
      ]
    },
    {
      "cell_type": "code",
      "metadata": {
        "id": "8PhWP2JzrEci"
      },
      "source": [
        "class CustomDataset:\n",
        "    def __init__(\n",
        "        self,\n",
        "        name: str,\n",
        "        train: List[pd.DataFrame],\n",
        "        test: List[pd.DataFrame],\n",
        "        label_list: List[str],\n",
        "    ):\n",
        "        \"\"\"Class to hold and structure datasets.\n",
        "\n",
        "        Args:\n",
        "\n",
        "        name (str): holds the name of the dataset so we can select it later\n",
        "        train (List[pd.DataFrame]): holds training pandas dataframe with 2 columns [\"text\",\"label\"]\n",
        "        test (List[pd.DataFrame]): holds testing pandas dataframe with 2 columns [\"text\",\"label\"]\n",
        "        label_list (List[str]): holds the list  of labels\n",
        "        \"\"\"\n",
        "        self.name = name\n",
        "        self.train = train\n",
        "        self.test = test\n",
        "        self.label_list = label_list"
      ],
      "execution_count": 4,
      "outputs": []
    },
    {
      "cell_type": "code",
      "metadata": {
        "id": "-WYy5ikAs7l3"
      },
      "source": [
        "# This will hold all the downloaded and structred datasets\n",
        "all_datasets= []\n",
        "DATA_COLUMN = \"text\"\n",
        "LABEL_COLUMN = \"label\""
      ],
      "execution_count": 5,
      "outputs": []
    },
    {
      "cell_type": "markdown",
      "metadata": {
        "id": "joWPYWGMqLau"
      },
      "source": [
        "##Dataset"
      ]
    },
    {
      "cell_type": "code",
      "metadata": {
        "id": "-6oL3qkXmOgJ"
      },
      "source": [
        "#read my dataset\n",
        "res_df=pd.read_csv('https://raw.githubusercontent.com/hadyelsahar/large-arabic-sentiment-analysis-resouces/master/datasets/RES.csv')\n",
        "prod_df=pd.read_csv('https://raw.githubusercontent.com/hadyelsahar/large-arabic-sentiment-analysis-resouces/master/datasets/PROD.csv')\n",
        "htl_df=pd.read_csv('https://raw.githubusercontent.com/hadyelsahar/large-arabic-sentiment-analysis-resouces/master/datasets/HTL.csv')\n",
        "mov_df=pd.read_csv('https://raw.githubusercontent.com/hadyelsahar/large-arabic-sentiment-analysis-resouces/master/datasets/MOV.csv')\n",
        "\n",
        "#I need pos and neg only\n",
        "res_df=res_df[res_df['polarity']!=0].reset_index(drop=True)\n",
        "prod_df=prod_df[prod_df['polarity']!=0].reset_index(drop=True)\n",
        "htl_df=htl_df[htl_df['polarity']!=0].reset_index(drop=True)\n",
        "mov_df=mov_df[mov_df['polarity']!=0].reset_index(drop=True)\n",
        "\n",
        "\n",
        "datasetDict = {\"resturants\": res_df, \"products\": prod_df, \"hotels\": htl_df, \"movies\": mov_df}\n",
        "all_msa = pd.concat([res_df, prod_df, htl_df, mov_df])\n",
        "hard_map = {\n",
        "    1: 'POS',\n",
        "   -1: 'NEG'\n",
        "}\n",
        "\n",
        "for k, d in datasetDict.items():\n",
        "  d.columns = [DATA_COLUMN, LABEL_COLUMN]\n",
        "  d[LABEL_COLUMN] = d[LABEL_COLUMN].apply(lambda x: hard_map[x])\n",
        "  label_list_d = ['NEG', 'POS']\n",
        "  train_d, test_d = train_test_split(d, test_size=0.2, random_state=42)\n",
        "  data_d = CustomDataset(k, train_d, test_d, label_list_d)\n",
        "  all_datasets.append(data_d)\n",
        "\n",
        "# add combined \n",
        "\n",
        "all_msa.columns = [DATA_COLUMN, LABEL_COLUMN]\n",
        "all_msa[LABEL_COLUMN] = all_msa[LABEL_COLUMN].apply(lambda x: hard_map[x])\n",
        "label_list_all = ['NEG', 'POS']\n",
        "train_all, test_all = train_test_split(all_msa, test_size=0.2, random_state=42)\n",
        "data_all = CustomDataset(\"All_MSA\", train_all, test_all, label_list_all)\n",
        "all_datasets.append(data_all)"
      ],
      "execution_count": 6,
      "outputs": []
    },
    {
      "cell_type": "code",
      "source": [
        "#read files of second dataset \n",
        "cor_df=pd.read_csv('ArSenTD-LEV.tsv', sep='\\t')\n",
        "cor_df= cor_df.drop(columns=['Country', 'Sentiment_Expression','Sentiment_Target','Topic'])\n",
        "cor_df= cor_df.drop(columns=[])\n",
        "#keep only binary classes (pos & neg)\n",
        "cor_df=cor_df[cor_df['Sentiment']!='neutral'].reset_index(drop=True)\n",
        "#unify format with other dataset\n",
        "cor_df['Sentiment'].replace({'very_positive': '1', 'positive': '1', 'very_negative':'0', 'negative':'0'}, inplace=True)\n",
        "cor_df= cor_df.reset_index(drop=True)\n",
        "cor_df.rename(columns={'Tweet': 'text', 'Sentiment': 'polarity'}, inplace=True)\n",
        "cor_df[\"polarity\"] = pd.to_numeric(cor_df[\"polarity\"])\n",
        "cor_df"
      ],
      "metadata": {
        "colab": {
          "base_uri": "https://localhost:8080/",
          "height": 423
        },
        "id": "8mDY-oFywTdT",
        "outputId": "c48cc39a-13da-4225-ecb2-19ac686b7793"
      },
      "execution_count": 7,
      "outputs": [
        {
          "output_type": "execute_result",
          "data": {
            "text/html": [
              "<div>\n",
              "<style scoped>\n",
              "    .dataframe tbody tr th:only-of-type {\n",
              "        vertical-align: middle;\n",
              "    }\n",
              "\n",
              "    .dataframe tbody tr th {\n",
              "        vertical-align: top;\n",
              "    }\n",
              "\n",
              "    .dataframe thead th {\n",
              "        text-align: right;\n",
              "    }\n",
              "</style>\n",
              "<table border=\"1\" class=\"dataframe\">\n",
              "  <thead>\n",
              "    <tr style=\"text-align: right;\">\n",
              "      <th></th>\n",
              "      <th>text</th>\n",
              "      <th>polarity</th>\n",
              "    </tr>\n",
              "  </thead>\n",
              "  <tbody>\n",
              "    <tr>\n",
              "      <th>0</th>\n",
              "      <td>\"أنا أؤمن بأن الانسان ينطفئ جماله عند ابتعاد م...</td>\n",
              "      <td>0</td>\n",
              "    </tr>\n",
              "    <tr>\n",
              "      <th>1</th>\n",
              "      <td>من الذاكره... @3FInQe . عندما اعتقد كريستيانو ...</td>\n",
              "      <td>1</td>\n",
              "    </tr>\n",
              "    <tr>\n",
              "      <th>2</th>\n",
              "      <td>#مصطلحات_لبنانيه_حيرت_البشريه بتوصل عالبيت ، ب...</td>\n",
              "      <td>0</td>\n",
              "    </tr>\n",
              "    <tr>\n",
              "      <th>3</th>\n",
              "      <td>نصمت !! لتسير حياتنا على مً يرام فالناّس لم تع...</td>\n",
              "      <td>0</td>\n",
              "    </tr>\n",
              "    <tr>\n",
              "      <th>4</th>\n",
              "      <td>@Yousef_MUFC اكثر ما يزعجنا بعد مستوانا خارج ا...</td>\n",
              "      <td>0</td>\n",
              "    </tr>\n",
              "    <tr>\n",
              "      <th>...</th>\n",
              "      <td>...</td>\n",
              "      <td>...</td>\n",
              "    </tr>\n",
              "    <tr>\n",
              "      <th>3110</th>\n",
              "      <td>نهتم من خلال خدمة تنسيق الرسائل بإظهار رسالة ا...</td>\n",
              "      <td>1</td>\n",
              "    </tr>\n",
              "    <tr>\n",
              "      <th>3111</th>\n",
              "      <td>صلاح من لاعب في المقاولون العرب يحلم ان يلعب ل...</td>\n",
              "      <td>1</td>\n",
              "    </tr>\n",
              "    <tr>\n",
              "      <th>3112</th>\n",
              "      <td>الملك سلمان بن عبد العزيز: تطبيق الأنظمة بحزم ...</td>\n",
              "      <td>1</td>\n",
              "    </tr>\n",
              "    <tr>\n",
              "      <th>3113</th>\n",
              "      <td>@ZahraaIraq9 😂 كل ما ادخل حسابي الكه تغريداتج ...</td>\n",
              "      <td>0</td>\n",
              "    </tr>\n",
              "    <tr>\n",
              "      <th>3114</th>\n",
              "      <td>شو هالشعب نحنا اللي عايش بلا مي وكهربا والزبال...</td>\n",
              "      <td>0</td>\n",
              "    </tr>\n",
              "  </tbody>\n",
              "</table>\n",
              "<p>3115 rows × 2 columns</p>\n",
              "</div>"
            ],
            "text/plain": [
              "                                                   text  polarity\n",
              "0     \"أنا أؤمن بأن الانسان ينطفئ جماله عند ابتعاد م...         0\n",
              "1     من الذاكره... @3FInQe . عندما اعتقد كريستيانو ...         1\n",
              "2     #مصطلحات_لبنانيه_حيرت_البشريه بتوصل عالبيت ، ب...         0\n",
              "3     نصمت !! لتسير حياتنا على مً يرام فالناّس لم تع...         0\n",
              "4     @Yousef_MUFC اكثر ما يزعجنا بعد مستوانا خارج ا...         0\n",
              "...                                                 ...       ...\n",
              "3110  نهتم من خلال خدمة تنسيق الرسائل بإظهار رسالة ا...         1\n",
              "3111  صلاح من لاعب في المقاولون العرب يحلم ان يلعب ل...         1\n",
              "3112  الملك سلمان بن عبد العزيز: تطبيق الأنظمة بحزم ...         1\n",
              "3113  @ZahraaIraq9 😂 كل ما ادخل حسابي الكه تغريداتج ...         0\n",
              "3114  شو هالشعب نحنا اللي عايش بلا مي وكهربا والزبال...         0\n",
              "\n",
              "[3115 rows x 2 columns]"
            ]
          },
          "metadata": {},
          "execution_count": 7
        }
      ]
    },
    {
      "cell_type": "code",
      "source": [
        "import re\n",
        "import string\n",
        "def remove_emoji(text):\n",
        "    emoji_pattern = re.compile(\"[\"\n",
        "                                   u\"\\U0001F600-\\U0001F64F\"  # emoticons\n",
        "                                   u\"\\U0001F300-\\U0001F5FF\"  # symbols & pictographs\n",
        "                                   u\"\\U0001F680-\\U0001F6FF\"  # transport & map symbols\n",
        "                                   u\"\\U0001F1E0-\\U0001F1FF\"  # flags (iOS)\n",
        "                                   u\"\\U00002702-\\U000027B0\"\n",
        "                                   u\"\\U000024C2-\\U0001F251\"\n",
        "                                   \"]+\", flags=re.UNICODE)\n",
        "    text = emoji_pattern.sub(r'', text)\n",
        "    return text"
      ],
      "metadata": {
        "id": "kXlOz4aswlVr"
      },
      "execution_count": 8,
      "outputs": []
    },
    {
      "cell_type": "code",
      "source": [
        "cor_df['text'] = cor_df['text'].apply(remove_emoji)"
      ],
      "metadata": {
        "id": "YrBl14qAwvlN"
      },
      "execution_count": 9,
      "outputs": []
    },
    {
      "cell_type": "code",
      "source": [
        "cor_df"
      ],
      "metadata": {
        "colab": {
          "base_uri": "https://localhost:8080/",
          "height": 423
        },
        "id": "WqAI6In7zSNh",
        "outputId": "ae766586-8770-4389-adae-3efb8fbb1f15"
      },
      "execution_count": 10,
      "outputs": [
        {
          "output_type": "execute_result",
          "data": {
            "text/html": [
              "<div>\n",
              "<style scoped>\n",
              "    .dataframe tbody tr th:only-of-type {\n",
              "        vertical-align: middle;\n",
              "    }\n",
              "\n",
              "    .dataframe tbody tr th {\n",
              "        vertical-align: top;\n",
              "    }\n",
              "\n",
              "    .dataframe thead th {\n",
              "        text-align: right;\n",
              "    }\n",
              "</style>\n",
              "<table border=\"1\" class=\"dataframe\">\n",
              "  <thead>\n",
              "    <tr style=\"text-align: right;\">\n",
              "      <th></th>\n",
              "      <th>text</th>\n",
              "      <th>polarity</th>\n",
              "    </tr>\n",
              "  </thead>\n",
              "  <tbody>\n",
              "    <tr>\n",
              "      <th>0</th>\n",
              "      <td>\"أنا أؤمن بأن الانسان ينطفئ جماله عند ابتعاد م...</td>\n",
              "      <td>0</td>\n",
              "    </tr>\n",
              "    <tr>\n",
              "      <th>1</th>\n",
              "      <td>من الذاكره... @3FInQe . عندما اعتقد كريستيانو ...</td>\n",
              "      <td>1</td>\n",
              "    </tr>\n",
              "    <tr>\n",
              "      <th>2</th>\n",
              "      <td>#مصطلحات_لبنانيه_حيرت_البشريه بتوصل عالبيت ، ب...</td>\n",
              "      <td>0</td>\n",
              "    </tr>\n",
              "    <tr>\n",
              "      <th>3</th>\n",
              "      <td>نصمت !! لتسير حياتنا على مً يرام فالناّس لم تع...</td>\n",
              "      <td>0</td>\n",
              "    </tr>\n",
              "    <tr>\n",
              "      <th>4</th>\n",
              "      <td>@Yousef_MUFC اكثر ما يزعجنا بعد مستوانا خارج ا...</td>\n",
              "      <td>0</td>\n",
              "    </tr>\n",
              "    <tr>\n",
              "      <th>...</th>\n",
              "      <td>...</td>\n",
              "      <td>...</td>\n",
              "    </tr>\n",
              "    <tr>\n",
              "      <th>3110</th>\n",
              "      <td>نهتم من خلال خدمة تنسيق الرسائل بإظهار رسالة ا...</td>\n",
              "      <td>1</td>\n",
              "    </tr>\n",
              "    <tr>\n",
              "      <th>3111</th>\n",
              "      <td>صلاح من لاعب في المقاولون العرب يحلم ان يلعب ل...</td>\n",
              "      <td>1</td>\n",
              "    </tr>\n",
              "    <tr>\n",
              "      <th>3112</th>\n",
              "      <td>الملك سلمان بن عبد العزيز: تطبيق الأنظمة بحزم ...</td>\n",
              "      <td>1</td>\n",
              "    </tr>\n",
              "    <tr>\n",
              "      <th>3113</th>\n",
              "      <td>@ZahraaIraq9  كل ما ادخل حسابي الكه تغريداتج ع...</td>\n",
              "      <td>0</td>\n",
              "    </tr>\n",
              "    <tr>\n",
              "      <th>3114</th>\n",
              "      <td>شو هالشعب نحنا اللي عايش بلا مي وكهربا والزبال...</td>\n",
              "      <td>0</td>\n",
              "    </tr>\n",
              "  </tbody>\n",
              "</table>\n",
              "<p>3115 rows × 2 columns</p>\n",
              "</div>"
            ],
            "text/plain": [
              "                                                   text  polarity\n",
              "0     \"أنا أؤمن بأن الانسان ينطفئ جماله عند ابتعاد م...         0\n",
              "1     من الذاكره... @3FInQe . عندما اعتقد كريستيانو ...         1\n",
              "2     #مصطلحات_لبنانيه_حيرت_البشريه بتوصل عالبيت ، ب...         0\n",
              "3     نصمت !! لتسير حياتنا على مً يرام فالناّس لم تع...         0\n",
              "4     @Yousef_MUFC اكثر ما يزعجنا بعد مستوانا خارج ا...         0\n",
              "...                                                 ...       ...\n",
              "3110  نهتم من خلال خدمة تنسيق الرسائل بإظهار رسالة ا...         1\n",
              "3111  صلاح من لاعب في المقاولون العرب يحلم ان يلعب ل...         1\n",
              "3112  الملك سلمان بن عبد العزيز: تطبيق الأنظمة بحزم ...         1\n",
              "3113  @ZahraaIraq9  كل ما ادخل حسابي الكه تغريداتج ع...         0\n",
              "3114  شو هالشعب نحنا اللي عايش بلا مي وكهربا والزبال...         0\n",
              "\n",
              "[3115 rows x 2 columns]"
            ]
          },
          "metadata": {},
          "execution_count": 10
        }
      ]
    },
    {
      "cell_type": "code",
      "source": [
        "hard_map = {\n",
        "    1: 'POS',\n",
        "    0: 'NEG'\n",
        "}\n",
        "cor_df.columns = [DATA_COLUMN, LABEL_COLUMN]\n",
        "cor_df[LABEL_COLUMN] = cor_df[LABEL_COLUMN].apply(lambda x: hard_map[x])\n",
        "label_list_d = ['NEG', 'POS']\n",
        "train_d, test_d = train_test_split(cor_df, test_size=0.2, random_state=42)\n",
        "data_d = CustomDataset('ArSenTD-Lev', train_d, test_d, label_list_d)\n",
        "all_datasets.append(data_d)"
      ],
      "metadata": {
        "id": "7aCpVJ-ixKut"
      },
      "execution_count": 11,
      "outputs": []
    },
    {
      "cell_type": "markdown",
      "metadata": {
        "id": "Bcwdslw7v0Q8"
      },
      "source": [
        "#Trainer"
      ]
    },
    {
      "cell_type": "markdown",
      "metadata": {
        "id": "fhcYKB663eoz"
      },
      "source": [
        "Start the training procedure"
      ]
    },
    {
      "cell_type": "code",
      "metadata": {
        "id": "HUn2RB6Bvrxj"
      },
      "source": [
        "import numpy as np\n",
        "import torch\n",
        "import random\n",
        "import matplotlib.pyplot as plt\n",
        "import copy\n",
        "\n",
        "from arabert.preprocess import ArabertPreprocessor\n",
        "from sklearn.metrics import (accuracy_score, classification_report,\n",
        "                             confusion_matrix, f1_score, precision_score,\n",
        "                             recall_score)\n",
        "from torch.utils.data import DataLoader, Dataset\n",
        "from transformers import (AutoConfig, AutoModelForSequenceClassification,\n",
        "                          AutoTokenizer, BertTokenizer, Trainer,\n",
        "                          TrainingArguments)\n",
        "from transformers.data.processors.utils import InputFeatures"
      ],
      "execution_count": 12,
      "outputs": []
    },
    {
      "cell_type": "markdown",
      "metadata": {
        "id": "0tv-ZwCt3iZE"
      },
      "source": [
        "List all the datasets we have"
      ]
    },
    {
      "cell_type": "code",
      "metadata": {
        "colab": {
          "base_uri": "https://localhost:8080/"
        },
        "id": "R4SGYoB2EDJD",
        "outputId": "7082324e-ccf4-4204-afe2-dfc77f270dd1"
      },
      "source": [
        "for x in all_datasets:\n",
        "  print(x.name)"
      ],
      "execution_count": 13,
      "outputs": [
        {
          "output_type": "stream",
          "name": "stdout",
          "text": [
            "resturants\n",
            "products\n",
            "hotels\n",
            "movies\n",
            "All_MSA\n",
            "ArSenTD-Lev\n"
          ]
        }
      ]
    },
    {
      "cell_type": "code",
      "metadata": {
        "id": "vzeVFoz1wDYf"
      },
      "source": [
        "# select a dataset\n",
        "dataset_name = 'All_MSA'\n",
        "# select a model from the huggingface modelhub https://huggingface.co/models?language=ar\n",
        "model_name = 'aubmindlab/bert-base-arabertv02' # this model doesn't require preprocess/pre-segmentation"
      ],
      "execution_count": 14,
      "outputs": []
    },
    {
      "cell_type": "code",
      "metadata": {
        "colab": {
          "base_uri": "https://localhost:8080/"
        },
        "id": "_ieCOj90aw8X",
        "outputId": "a1f864e0-d55e-42eb-a79d-1061b91c8610"
      },
      "source": [
        "import copy\n",
        "for d in all_datasets:\n",
        "  if d.name==dataset_name:\n",
        "    selected_dataset = copy.deepcopy(d)\n",
        "    print('Dataset found')\n",
        "    break"
      ],
      "execution_count": 15,
      "outputs": [
        {
          "output_type": "stream",
          "name": "stdout",
          "text": [
            "Dataset found\n"
          ]
        }
      ]
    },
    {
      "cell_type": "code",
      "source": [
        "############# RES\n",
        "selected_dataset.train"
      ],
      "metadata": {
        "colab": {
          "base_uri": "https://localhost:8080/",
          "height": 423
        },
        "id": "pDVpqsy06d8a",
        "outputId": "ca9536ce-4eb4-4478-95e8-1bb58e614fd9"
      },
      "execution_count": null,
      "outputs": [
        {
          "output_type": "execute_result",
          "data": {
            "text/html": [
              "<div>\n",
              "<style scoped>\n",
              "    .dataframe tbody tr th:only-of-type {\n",
              "        vertical-align: middle;\n",
              "    }\n",
              "\n",
              "    .dataframe tbody tr th {\n",
              "        vertical-align: top;\n",
              "    }\n",
              "\n",
              "    .dataframe thead th {\n",
              "        text-align: right;\n",
              "    }\n",
              "</style>\n",
              "<table border=\"1\" class=\"dataframe\">\n",
              "  <thead>\n",
              "    <tr style=\"text-align: right;\">\n",
              "      <th></th>\n",
              "      <th>text</th>\n",
              "      <th>label</th>\n",
              "    </tr>\n",
              "  </thead>\n",
              "  <tbody>\n",
              "    <tr>\n",
              "      <th>2312</th>\n",
              "      <td>مطعم لبناني \\nالمطعم ديكور ممتاز و الاكل وسط ف...</td>\n",
              "      <td>NEG</td>\n",
              "    </tr>\n",
              "    <tr>\n",
              "      <th>2516</th>\n",
              "      <td>أفوكادوا مطعم للوجبات السريعة و يقدم تشكيلة من...</td>\n",
              "      <td>POS</td>\n",
              "    </tr>\n",
              "    <tr>\n",
              "      <th>3467</th>\n",
              "      <td>الوجبات جداً لذيذة ، والمنيو متنوع بالأطباق وا...</td>\n",
              "      <td>POS</td>\n",
              "    </tr>\n",
              "    <tr>\n",
              "      <th>8552</th>\n",
              "      <td>مستواه اعطيه من عشره   ١٠/٤  سيء جدا</td>\n",
              "      <td>NEG</td>\n",
              "    </tr>\n",
              "    <tr>\n",
              "      <th>10213</th>\n",
              "      <td>لي قصص طويلة مع هذه البوفية من أيام المرحلة ال...</td>\n",
              "      <td>POS</td>\n",
              "    </tr>\n",
              "    <tr>\n",
              "      <th>...</th>\n",
              "      <td>...</td>\n",
              "      <td>...</td>\n",
              "    </tr>\n",
              "    <tr>\n",
              "      <th>5734</th>\n",
              "      <td>أسوء مطعم دخلته في حياتي   نظافه ٢/١٠  الأكل ٠...</td>\n",
              "      <td>NEG</td>\n",
              "    </tr>\n",
              "    <tr>\n",
              "      <th>5191</th>\n",
              "      <td>مطعم جداً سيئ ورديئ   واكل غير لذيذ ولا تفرق ب...</td>\n",
              "      <td>NEG</td>\n",
              "    </tr>\n",
              "    <tr>\n",
              "      <th>5390</th>\n",
              "      <td>ذهبت البارحة الى فرع الثلاثين بالرياض لتجربة ا...</td>\n",
              "      <td>POS</td>\n",
              "    </tr>\n",
              "    <tr>\n",
              "      <th>860</th>\n",
              "      <td>الجبيل \\nبصراحة انا ما اكلت اكلات ايطاليه مثل ...</td>\n",
              "      <td>POS</td>\n",
              "    </tr>\n",
              "    <tr>\n",
              "      <th>7270</th>\n",
              "      <td>ماضيي سيئ معه دايم اتسمم منه واخر مره اكلت منه...</td>\n",
              "      <td>NEG</td>\n",
              "    </tr>\n",
              "  </tbody>\n",
              "</table>\n",
              "<p>8564 rows × 2 columns</p>\n",
              "</div>"
            ],
            "text/plain": [
              "                                                    text label\n",
              "2312   مطعم لبناني \\nالمطعم ديكور ممتاز و الاكل وسط ف...   NEG\n",
              "2516   أفوكادوا مطعم للوجبات السريعة و يقدم تشكيلة من...   POS\n",
              "3467   الوجبات جداً لذيذة ، والمنيو متنوع بالأطباق وا...   POS\n",
              "8552                مستواه اعطيه من عشره   ١٠/٤  سيء جدا   NEG\n",
              "10213  لي قصص طويلة مع هذه البوفية من أيام المرحلة ال...   POS\n",
              "...                                                  ...   ...\n",
              "5734   أسوء مطعم دخلته في حياتي   نظافه ٢/١٠  الأكل ٠...   NEG\n",
              "5191   مطعم جداً سيئ ورديئ   واكل غير لذيذ ولا تفرق ب...   NEG\n",
              "5390   ذهبت البارحة الى فرع الثلاثين بالرياض لتجربة ا...   POS\n",
              "860    الجبيل \\nبصراحة انا ما اكلت اكلات ايطاليه مثل ...   POS\n",
              "7270   ماضيي سيئ معه دايم اتسمم منه واخر مره اكلت منه...   NEG\n",
              "\n",
              "[8564 rows x 2 columns]"
            ]
          },
          "metadata": {},
          "execution_count": 11
        }
      ]
    },
    {
      "cell_type": "code",
      "source": [
        "############## PROD\n",
        "selected_dataset.train"
      ],
      "metadata": {
        "colab": {
          "base_uri": "https://localhost:8080/",
          "height": 423
        },
        "id": "86pvhhmGmiu4",
        "outputId": "de8fde5c-ac7c-4f19-e4da-7defe9f8aa41"
      },
      "execution_count": null,
      "outputs": [
        {
          "output_type": "execute_result",
          "data": {
            "text/html": [
              "<div>\n",
              "<style scoped>\n",
              "    .dataframe tbody tr th:only-of-type {\n",
              "        vertical-align: middle;\n",
              "    }\n",
              "\n",
              "    .dataframe tbody tr th {\n",
              "        vertical-align: top;\n",
              "    }\n",
              "\n",
              "    .dataframe thead th {\n",
              "        text-align: right;\n",
              "    }\n",
              "</style>\n",
              "<table border=\"1\" class=\"dataframe\">\n",
              "  <thead>\n",
              "    <tr style=\"text-align: right;\">\n",
              "      <th></th>\n",
              "      <th>text</th>\n",
              "      <th>label</th>\n",
              "    </tr>\n",
              "  </thead>\n",
              "  <tbody>\n",
              "    <tr>\n",
              "      <th>1344</th>\n",
              "      <td>حلوة مما تجعل استخدامها في عده اجهزة كما يسهل ...</td>\n",
              "      <td>POS</td>\n",
              "    </tr>\n",
              "    <tr>\n",
              "      <th>3353</th>\n",
              "      <td>Good and easy to apply</td>\n",
              "      <td>POS</td>\n",
              "    </tr>\n",
              "    <tr>\n",
              "      <th>1117</th>\n",
              "      <td>السعر نااااار</td>\n",
              "      <td>NEG</td>\n",
              "    </tr>\n",
              "    <tr>\n",
              "      <th>3824</th>\n",
              "      <td>رائع و انصح بيه للشباب لتمارين الاطاله و العقله</td>\n",
              "      <td>NEG</td>\n",
              "    </tr>\n",
              "    <tr>\n",
              "      <th>2805</th>\n",
              "      <td>جميل في الامكانيات والشكل</td>\n",
              "      <td>POS</td>\n",
              "    </tr>\n",
              "    <tr>\n",
              "      <th>...</th>\n",
              "      <td>...</td>\n",
              "      <td>...</td>\n",
              "    </tr>\n",
              "    <tr>\n",
              "      <th>1130</th>\n",
              "      <td>جدا ممتازه من حيث الشكل والاستخدام والاداء فهو...</td>\n",
              "      <td>POS</td>\n",
              "    </tr>\n",
              "    <tr>\n",
              "      <th>1294</th>\n",
              "      <td>ارغب في المزيد من حافظات لهذا الجوال لانه لم ا...</td>\n",
              "      <td>POS</td>\n",
              "    </tr>\n",
              "    <tr>\n",
              "      <th>860</th>\n",
              "      <td>صغيرة جدا ولا تأخذ مساحة في الحقيبه. سهلة الطي...</td>\n",
              "      <td>POS</td>\n",
              "    </tr>\n",
              "    <tr>\n",
              "      <th>3507</th>\n",
              "      <td>الاطباق جميلة جدا وخامتها ممتازة والمنتج زي ال...</td>\n",
              "      <td>POS</td>\n",
              "    </tr>\n",
              "    <tr>\n",
              "      <th>3174</th>\n",
              "      <td>سلعه رائعه وقيمة والبائع: modi2002eg صادق في ا...</td>\n",
              "      <td>POS</td>\n",
              "    </tr>\n",
              "  </tbody>\n",
              "</table>\n",
              "<p>3171 rows × 2 columns</p>\n",
              "</div>"
            ],
            "text/plain": [
              "                                                   text label\n",
              "1344  حلوة مما تجعل استخدامها في عده اجهزة كما يسهل ...   POS\n",
              "3353                             Good and easy to apply   POS\n",
              "1117                                      السعر نااااار   NEG\n",
              "3824    رائع و انصح بيه للشباب لتمارين الاطاله و العقله   NEG\n",
              "2805                          جميل في الامكانيات والشكل   POS\n",
              "...                                                 ...   ...\n",
              "1130  جدا ممتازه من حيث الشكل والاستخدام والاداء فهو...   POS\n",
              "1294  ارغب في المزيد من حافظات لهذا الجوال لانه لم ا...   POS\n",
              "860   صغيرة جدا ولا تأخذ مساحة في الحقيبه. سهلة الطي...   POS\n",
              "3507  الاطباق جميلة جدا وخامتها ممتازة والمنتج زي ال...   POS\n",
              "3174  سلعه رائعه وقيمة والبائع: modi2002eg صادق في ا...   POS\n",
              "\n",
              "[3171 rows x 2 columns]"
            ]
          },
          "metadata": {},
          "execution_count": 11
        }
      ]
    },
    {
      "cell_type": "code",
      "source": [
        "############## Hotels\n",
        "selected_dataset.train"
      ],
      "metadata": {
        "colab": {
          "base_uri": "https://localhost:8080/",
          "height": 423
        },
        "id": "T6MIFZTOrMTd",
        "outputId": "afdcda13-be17-4791-e8a0-cab16a04e9f4"
      },
      "execution_count": null,
      "outputs": [
        {
          "output_type": "execute_result",
          "data": {
            "text/html": [
              "<div>\n",
              "<style scoped>\n",
              "    .dataframe tbody tr th:only-of-type {\n",
              "        vertical-align: middle;\n",
              "    }\n",
              "\n",
              "    .dataframe tbody tr th {\n",
              "        vertical-align: top;\n",
              "    }\n",
              "\n",
              "    .dataframe thead th {\n",
              "        text-align: right;\n",
              "    }\n",
              "</style>\n",
              "<table border=\"1\" class=\"dataframe\">\n",
              "  <thead>\n",
              "    <tr style=\"text-align: right;\">\n",
              "      <th></th>\n",
              "      <th>text</th>\n",
              "      <th>label</th>\n",
              "    </tr>\n",
              "  </thead>\n",
              "  <tbody>\n",
              "    <tr>\n",
              "      <th>3477</th>\n",
              "      <td>السعاده مع الله \\r\\nالحمدلله كل المرافق في هذا...</td>\n",
              "      <td>POS</td>\n",
              "    </tr>\n",
              "    <tr>\n",
              "      <th>8005</th>\n",
              "      <td>أحببته- أفضل بكثير مما توقعت! \\r\\nمكثنا هنا لل...</td>\n",
              "      <td>POS</td>\n",
              "    </tr>\n",
              "    <tr>\n",
              "      <th>5747</th>\n",
              "      <td>اختيار جيد في هانوي  \\r\\nفندق ممتاز للإقامة في...</td>\n",
              "      <td>POS</td>\n",
              "    </tr>\n",
              "    <tr>\n",
              "      <th>7897</th>\n",
              "      <td>مكان مريح وذو جودة عالية للإقامة في الواحات ال...</td>\n",
              "      <td>POS</td>\n",
              "    </tr>\n",
              "    <tr>\n",
              "      <th>11029</th>\n",
              "      <td>من اروع ما راينا في المدلينا!!مذهل \\r\\nاستقبال...</td>\n",
              "      <td>POS</td>\n",
              "    </tr>\n",
              "    <tr>\n",
              "      <th>...</th>\n",
              "      <td>...</td>\n",
              "      <td>...</td>\n",
              "    </tr>\n",
              "    <tr>\n",
              "      <th>5191</th>\n",
              "      <td>ملاحظات عن السكن  \\r\\nكانت إقامتي جيدة جداً، ف...</td>\n",
              "      <td>POS</td>\n",
              "    </tr>\n",
              "    <tr>\n",
              "      <th>13418</th>\n",
              "      <td>قريب من كل شي \\r\\nجميل وهادي وكل شي حولك حتي ا...</td>\n",
              "      <td>POS</td>\n",
              "    </tr>\n",
              "    <tr>\n",
              "      <th>5390</th>\n",
              "      <td>رائع في إنسبروك الخلابة  \\r\\nمن موقع مثالي مع ...</td>\n",
              "      <td>POS</td>\n",
              "    </tr>\n",
              "    <tr>\n",
              "      <th>860</th>\n",
              "      <td>موقع ممتاز وفريق موظفين ودود \\r\\nلم يكن فريق ا...</td>\n",
              "      <td>POS</td>\n",
              "    </tr>\n",
              "    <tr>\n",
              "      <th>7270</th>\n",
              "      <td>مرة واحدة لكنها لا تتكرر \\r\\nكان لدينا حجز لمد...</td>\n",
              "      <td>NEG</td>\n",
              "    </tr>\n",
              "  </tbody>\n",
              "</table>\n",
              "<p>10737 rows × 2 columns</p>\n",
              "</div>"
            ],
            "text/plain": [
              "                                                    text label\n",
              "3477   السعاده مع الله \\r\\nالحمدلله كل المرافق في هذا...   POS\n",
              "8005   أحببته- أفضل بكثير مما توقعت! \\r\\nمكثنا هنا لل...   POS\n",
              "5747   اختيار جيد في هانوي  \\r\\nفندق ممتاز للإقامة في...   POS\n",
              "7897   مكان مريح وذو جودة عالية للإقامة في الواحات ال...   POS\n",
              "11029  من اروع ما راينا في المدلينا!!مذهل \\r\\nاستقبال...   POS\n",
              "...                                                  ...   ...\n",
              "5191   ملاحظات عن السكن  \\r\\nكانت إقامتي جيدة جداً، ف...   POS\n",
              "13418  قريب من كل شي \\r\\nجميل وهادي وكل شي حولك حتي ا...   POS\n",
              "5390   رائع في إنسبروك الخلابة  \\r\\nمن موقع مثالي مع ...   POS\n",
              "860    موقع ممتاز وفريق موظفين ودود \\r\\nلم يكن فريق ا...   POS\n",
              "7270   مرة واحدة لكنها لا تتكرر \\r\\nكان لدينا حجز لمد...   NEG\n",
              "\n",
              "[10737 rows x 2 columns]"
            ]
          },
          "metadata": {},
          "execution_count": 28
        }
      ]
    },
    {
      "cell_type": "code",
      "source": [
        "############## movies\n",
        "selected_dataset.train"
      ],
      "metadata": {
        "colab": {
          "base_uri": "https://localhost:8080/",
          "height": 423
        },
        "id": "mqtLPbTm2R2P",
        "outputId": "f1ad6cdf-a987-4d2b-b858-dd954a1137d5"
      },
      "execution_count": null,
      "outputs": [
        {
          "output_type": "execute_result",
          "data": {
            "text/html": [
              "<div>\n",
              "<style scoped>\n",
              "    .dataframe tbody tr th:only-of-type {\n",
              "        vertical-align: middle;\n",
              "    }\n",
              "\n",
              "    .dataframe tbody tr th {\n",
              "        vertical-align: top;\n",
              "    }\n",
              "\n",
              "    .dataframe thead th {\n",
              "        text-align: right;\n",
              "    }\n",
              "</style>\n",
              "<table border=\"1\" class=\"dataframe\">\n",
              "  <thead>\n",
              "    <tr style=\"text-align: right;\">\n",
              "      <th></th>\n",
              "      <th>text</th>\n",
              "      <th>label</th>\n",
              "    </tr>\n",
              "  </thead>\n",
              "  <tbody>\n",
              "    <tr>\n",
              "      <th>966</th>\n",
              "      <td>اتفرج ومدققش عشان تعرف تستمتع في أفلام بالرغم ...</td>\n",
              "      <td>NEG</td>\n",
              "    </tr>\n",
              "    <tr>\n",
              "      <th>932</th>\n",
              "      <td>شكل تاني لهيتشكوك عرفت المخرج هيتشكوك وعشقت فن...</td>\n",
              "      <td>POS</td>\n",
              "    </tr>\n",
              "    <tr>\n",
              "      <th>109</th>\n",
              "      <td>عفوا ايها القانون وصرخة احتجاج اعتادت المخرجة ...</td>\n",
              "      <td>POS</td>\n",
              "    </tr>\n",
              "    <tr>\n",
              "      <th>714</th>\n",
              "      <td>فيلم الكايجو كما يجب أن يكون Kaiju .. كلمة ياب...</td>\n",
              "      <td>POS</td>\n",
              "    </tr>\n",
              "    <tr>\n",
              "      <th>1200</th>\n",
              "      <td>الطفلة جني أنقذت \"سامي أكسيد الكربون\" من الملل...</td>\n",
              "      <td>NEG</td>\n",
              "    </tr>\n",
              "    <tr>\n",
              "      <th>...</th>\n",
              "      <td>...</td>\n",
              "      <td>...</td>\n",
              "    </tr>\n",
              "    <tr>\n",
              "      <th>1095</th>\n",
              "      <td>ادبح يا زكي قدرة ...يدبح زكي قدرة حتما عندما ي...</td>\n",
              "      <td>POS</td>\n",
              "    </tr>\n",
              "    <tr>\n",
              "      <th>1130</th>\n",
              "      <td>سينما الاستفزاز بعد مشاهدة الجزء الثالث من سلس...</td>\n",
              "      <td>NEG</td>\n",
              "    </tr>\n",
              "    <tr>\n",
              "      <th>1294</th>\n",
              "      <td>خطاب الملك لاوين ميرخان محمد الاقتباس \"\"في بدء...</td>\n",
              "      <td>POS</td>\n",
              "    </tr>\n",
              "    <tr>\n",
              "      <th>860</th>\n",
              "      <td>فيلم جميل ولكن فيلم الوتر جميل ومثير للاهتمام ...</td>\n",
              "      <td>NEG</td>\n",
              "    </tr>\n",
              "    <tr>\n",
              "      <th>1126</th>\n",
              "      <td>صراع دموي ثلاثي الأطراف بات العبيد أسياد، وبات...</td>\n",
              "      <td>POS</td>\n",
              "    </tr>\n",
              "  </tbody>\n",
              "</table>\n",
              "<p>1082 rows × 2 columns</p>\n",
              "</div>"
            ],
            "text/plain": [
              "                                                   text label\n",
              "966   اتفرج ومدققش عشان تعرف تستمتع في أفلام بالرغم ...   NEG\n",
              "932   شكل تاني لهيتشكوك عرفت المخرج هيتشكوك وعشقت فن...   POS\n",
              "109   عفوا ايها القانون وصرخة احتجاج اعتادت المخرجة ...   POS\n",
              "714   فيلم الكايجو كما يجب أن يكون Kaiju .. كلمة ياب...   POS\n",
              "1200  الطفلة جني أنقذت \"سامي أكسيد الكربون\" من الملل...   NEG\n",
              "...                                                 ...   ...\n",
              "1095  ادبح يا زكي قدرة ...يدبح زكي قدرة حتما عندما ي...   POS\n",
              "1130  سينما الاستفزاز بعد مشاهدة الجزء الثالث من سلس...   NEG\n",
              "1294  خطاب الملك لاوين ميرخان محمد الاقتباس \"\"في بدء...   POS\n",
              "860   فيلم جميل ولكن فيلم الوتر جميل ومثير للاهتمام ...   NEG\n",
              "1126  صراع دموي ثلاثي الأطراف بات العبيد أسياد، وبات...   POS\n",
              "\n",
              "[1082 rows x 2 columns]"
            ]
          },
          "metadata": {},
          "execution_count": 51
        }
      ]
    },
    {
      "cell_type": "code",
      "source": [
        "############# All msa\n",
        "selected_dataset.train"
      ],
      "metadata": {
        "colab": {
          "base_uri": "https://localhost:8080/",
          "height": 423
        },
        "id": "_7ArjgFsWDUJ",
        "outputId": "d2b327b0-ea93-47b3-ba7a-5b8e8ad227e5"
      },
      "execution_count": 16,
      "outputs": [
        {
          "output_type": "execute_result",
          "data": {
            "text/html": [
              "<div>\n",
              "<style scoped>\n",
              "    .dataframe tbody tr th:only-of-type {\n",
              "        vertical-align: middle;\n",
              "    }\n",
              "\n",
              "    .dataframe tbody tr th {\n",
              "        vertical-align: top;\n",
              "    }\n",
              "\n",
              "    .dataframe thead th {\n",
              "        text-align: right;\n",
              "    }\n",
              "</style>\n",
              "<table border=\"1\" class=\"dataframe\">\n",
              "  <thead>\n",
              "    <tr style=\"text-align: right;\">\n",
              "      <th></th>\n",
              "      <th>text</th>\n",
              "      <th>label</th>\n",
              "    </tr>\n",
              "  </thead>\n",
              "  <tbody>\n",
              "    <tr>\n",
              "      <th>6072</th>\n",
              "      <td>قد اكلت من هالمطعم مرتين وكلها الحمدلله تجارب ...</td>\n",
              "      <td>POS</td>\n",
              "    </tr>\n",
              "    <tr>\n",
              "      <th>8216</th>\n",
              "      <td>فندق روعة التصميم والموقع \\r\\nالخدمات ممتازة و...</td>\n",
              "      <td>POS</td>\n",
              "    </tr>\n",
              "    <tr>\n",
              "      <th>74</th>\n",
              "      <td>اوضتين لبيبو وبشير و حشو ملهوش تأثير يبدو أن م...</td>\n",
              "      <td>NEG</td>\n",
              "    </tr>\n",
              "    <tr>\n",
              "      <th>1358</th>\n",
              "      <td>كانت تجربة جميلة \\r\\nقضينا في هذا الفندق ليلة ...</td>\n",
              "      <td>POS</td>\n",
              "    </tr>\n",
              "    <tr>\n",
              "      <th>7046</th>\n",
              "      <td>تايم شير بالعافية أو بالإحراج \\r\\nعندما تذهب إ...</td>\n",
              "      <td>NEG</td>\n",
              "    </tr>\n",
              "    <tr>\n",
              "      <th>...</th>\n",
              "      <td>...</td>\n",
              "      <td>...</td>\n",
              "    </tr>\n",
              "    <tr>\n",
              "      <th>6906</th>\n",
              "      <td>فندق متميز \\r\\nفندق متميز في كل شئ ، العاملين ...</td>\n",
              "      <td>POS</td>\n",
              "    </tr>\n",
              "    <tr>\n",
              "      <th>5390</th>\n",
              "      <td>ذهبت البارحة الى فرع الثلاثين بالرياض لتجربة ا...</td>\n",
              "      <td>POS</td>\n",
              "    </tr>\n",
              "    <tr>\n",
              "      <th>860</th>\n",
              "      <td>الجبيل \\nبصراحة انا ما اكلت اكلات ايطاليه مثل ...</td>\n",
              "      <td>POS</td>\n",
              "    </tr>\n",
              "    <tr>\n",
              "      <th>1126</th>\n",
              "      <td>فندق جيد وغرفه رحبه \\r\\n\"لديهم غرف كبيرة جداً ...</td>\n",
              "      <td>POS</td>\n",
              "    </tr>\n",
              "    <tr>\n",
              "      <th>8985</th>\n",
              "      <td>alexandria egypt \\r\\nقضيت 4 ليالى فى فندق the ...</td>\n",
              "      <td>POS</td>\n",
              "    </tr>\n",
              "  </tbody>\n",
              "</table>\n",
              "<p>23555 rows × 2 columns</p>\n",
              "</div>"
            ],
            "text/plain": [
              "                                                   text label\n",
              "6072  قد اكلت من هالمطعم مرتين وكلها الحمدلله تجارب ...   POS\n",
              "8216  فندق روعة التصميم والموقع \\r\\nالخدمات ممتازة و...   POS\n",
              "74    اوضتين لبيبو وبشير و حشو ملهوش تأثير يبدو أن م...   NEG\n",
              "1358  كانت تجربة جميلة \\r\\nقضينا في هذا الفندق ليلة ...   POS\n",
              "7046  تايم شير بالعافية أو بالإحراج \\r\\nعندما تذهب إ...   NEG\n",
              "...                                                 ...   ...\n",
              "6906  فندق متميز \\r\\nفندق متميز في كل شئ ، العاملين ...   POS\n",
              "5390  ذهبت البارحة الى فرع الثلاثين بالرياض لتجربة ا...   POS\n",
              "860   الجبيل \\nبصراحة انا ما اكلت اكلات ايطاليه مثل ...   POS\n",
              "1126  فندق جيد وغرفه رحبه \\r\\n\"لديهم غرف كبيرة جداً ...   POS\n",
              "8985  alexandria egypt \\r\\nقضيت 4 ليالى فى فندق the ...   POS\n",
              "\n",
              "[23555 rows x 2 columns]"
            ]
          },
          "metadata": {},
          "execution_count": 16
        }
      ]
    },
    {
      "cell_type": "code",
      "source": [
        "########### ArSenTD-Lev\n",
        "selected_dataset.train"
      ],
      "metadata": {
        "colab": {
          "base_uri": "https://localhost:8080/",
          "height": 423
        },
        "id": "8ozXr1s1z_1h",
        "outputId": "11225e34-3a56-4d66-feba-47818023a816"
      },
      "execution_count": null,
      "outputs": [
        {
          "output_type": "execute_result",
          "data": {
            "text/html": [
              "<div>\n",
              "<style scoped>\n",
              "    .dataframe tbody tr th:only-of-type {\n",
              "        vertical-align: middle;\n",
              "    }\n",
              "\n",
              "    .dataframe tbody tr th {\n",
              "        vertical-align: top;\n",
              "    }\n",
              "\n",
              "    .dataframe thead th {\n",
              "        text-align: right;\n",
              "    }\n",
              "</style>\n",
              "<table border=\"1\" class=\"dataframe\">\n",
              "  <thead>\n",
              "    <tr style=\"text-align: right;\">\n",
              "      <th></th>\n",
              "      <th>text</th>\n",
              "      <th>label</th>\n",
              "    </tr>\n",
              "  </thead>\n",
              "  <tbody>\n",
              "    <tr>\n",
              "      <th>521</th>\n",
              "      <td>إن قدرتنا على تحكيم أدوات البحث العلمي في مختل...</td>\n",
              "      <td>POS</td>\n",
              "    </tr>\n",
              "    <tr>\n",
              "      <th>522</th>\n",
              "      <td>@Huda9499 كلامك صحيح . لكن الحب موجود بغض النظ...</td>\n",
              "      <td>POS</td>\n",
              "    </tr>\n",
              "    <tr>\n",
              "      <th>1641</th>\n",
              "      <td>تأخر تشكيل حكومة جديدة لا شي سوى لتكون مناسبة ...</td>\n",
              "      <td>NEG</td>\n",
              "    </tr>\n",
              "    <tr>\n",
              "      <th>2057</th>\n",
              "      <td>@alaajameel225 @HaiderAlAbadi حبيبي تعال لليرم...</td>\n",
              "      <td>NEG</td>\n",
              "    </tr>\n",
              "    <tr>\n",
              "      <th>1010</th>\n",
              "      <td>نحن نعيش أَوج عصر التفاهة . حيث عقد الزواج أهم...</td>\n",
              "      <td>NEG</td>\n",
              "    </tr>\n",
              "    <tr>\n",
              "      <th>...</th>\n",
              "      <td>...</td>\n",
              "      <td>...</td>\n",
              "    </tr>\n",
              "    <tr>\n",
              "      <th>3092</th>\n",
              "      <td>نأمل من كل من يترشح بالانتخابات اللبنانية المق...</td>\n",
              "      <td>NEG</td>\n",
              "    </tr>\n",
              "    <tr>\n",
              "      <th>1095</th>\n",
              "      <td>أهلاً بك صديقي الأستاذ سليمان السميري ... هذا ...</td>\n",
              "      <td>POS</td>\n",
              "    </tr>\n",
              "    <tr>\n",
              "      <th>1130</th>\n",
              "      <td>حدث في مثل هذا اليوم قبل سنة. تحرير مركز ناحية...</td>\n",
              "      <td>POS</td>\n",
              "    </tr>\n",
              "    <tr>\n",
              "      <th>1294</th>\n",
              "      <td>تم قبول الشيخ / #ناصر_ بن_عبدالله_ ابن_ زيد ، ...</td>\n",
              "      <td>POS</td>\n",
              "    </tr>\n",
              "    <tr>\n",
              "      <th>860</th>\n",
              "      <td>@jamalrayyan من بعد إعدام صدام حسين في صباح او...</td>\n",
              "      <td>NEG</td>\n",
              "    </tr>\n",
              "  </tbody>\n",
              "</table>\n",
              "<p>2492 rows × 2 columns</p>\n",
              "</div>"
            ],
            "text/plain": [
              "                                                   text label\n",
              "521   إن قدرتنا على تحكيم أدوات البحث العلمي في مختل...   POS\n",
              "522   @Huda9499 كلامك صحيح . لكن الحب موجود بغض النظ...   POS\n",
              "1641  تأخر تشكيل حكومة جديدة لا شي سوى لتكون مناسبة ...   NEG\n",
              "2057  @alaajameel225 @HaiderAlAbadi حبيبي تعال لليرم...   NEG\n",
              "1010  نحن نعيش أَوج عصر التفاهة . حيث عقد الزواج أهم...   NEG\n",
              "...                                                 ...   ...\n",
              "3092  نأمل من كل من يترشح بالانتخابات اللبنانية المق...   NEG\n",
              "1095  أهلاً بك صديقي الأستاذ سليمان السميري ... هذا ...   POS\n",
              "1130  حدث في مثل هذا اليوم قبل سنة. تحرير مركز ناحية...   POS\n",
              "1294  تم قبول الشيخ / #ناصر_ بن_عبدالله_ ابن_ زيد ، ...   POS\n",
              "860   @jamalrayyan من بعد إعدام صدام حسين في صباح او...   NEG\n",
              "\n",
              "[2492 rows x 2 columns]"
            ]
          },
          "metadata": {},
          "execution_count": 35
        }
      ]
    },
    {
      "cell_type": "markdown",
      "metadata": {
        "id": "Icuhwx3S4NLM"
      },
      "source": [
        "Create and apply preprocessing using the AraBERT processor"
      ]
    },
    {
      "cell_type": "code",
      "metadata": {
        "id": "lt_lGy85zuca"
      },
      "source": [
        "arabic_prep = ArabertPreprocessor(model_name)\n",
        "\n",
        "selected_dataset.train[DATA_COLUMN] = selected_dataset.train[DATA_COLUMN].apply(lambda x: arabic_prep.preprocess(x))\n",
        "selected_dataset.test[DATA_COLUMN] = selected_dataset.test[DATA_COLUMN].apply(lambda x: arabic_prep.preprocess(x))  "
      ],
      "execution_count": 17,
      "outputs": []
    },
    {
      "cell_type": "code",
      "source": [
        "selected_dataset.train"
      ],
      "metadata": {
        "colab": {
          "base_uri": "https://localhost:8080/",
          "height": 423
        },
        "id": "gcrQYzs3PTnq",
        "outputId": "53552069-3635-457a-8aa8-b62f18895537"
      },
      "execution_count": null,
      "outputs": [
        {
          "output_type": "execute_result",
          "data": {
            "text/html": [
              "<div>\n",
              "<style scoped>\n",
              "    .dataframe tbody tr th:only-of-type {\n",
              "        vertical-align: middle;\n",
              "    }\n",
              "\n",
              "    .dataframe tbody tr th {\n",
              "        vertical-align: top;\n",
              "    }\n",
              "\n",
              "    .dataframe thead th {\n",
              "        text-align: right;\n",
              "    }\n",
              "</style>\n",
              "<table border=\"1\" class=\"dataframe\">\n",
              "  <thead>\n",
              "    <tr style=\"text-align: right;\">\n",
              "      <th></th>\n",
              "      <th>text</th>\n",
              "      <th>label</th>\n",
              "    </tr>\n",
              "  </thead>\n",
              "  <tbody>\n",
              "    <tr>\n",
              "      <th>3477</th>\n",
              "      <td>السعاده مع الله الحمدلله كل المرافق في هذا الف...</td>\n",
              "      <td>POS</td>\n",
              "    </tr>\n",
              "    <tr>\n",
              "      <th>8005</th>\n",
              "      <td>أحببته - أفضل بكثير مما توقعت ! مكثنا هنا لليل...</td>\n",
              "      <td>POS</td>\n",
              "    </tr>\n",
              "    <tr>\n",
              "      <th>5747</th>\n",
              "      <td>اختيار جيد في هانوي فندق ممتاز للإقامة في \" ها...</td>\n",
              "      <td>POS</td>\n",
              "    </tr>\n",
              "    <tr>\n",
              "      <th>7897</th>\n",
              "      <td>مكان مريح وذو جودة عالية للإقامة في الواحات ال...</td>\n",
              "      <td>POS</td>\n",
              "    </tr>\n",
              "    <tr>\n",
              "      <th>11029</th>\n",
              "      <td>من اروع ما راينا في المدلينا ! ! مذهل استقبال ...</td>\n",
              "      <td>POS</td>\n",
              "    </tr>\n",
              "    <tr>\n",
              "      <th>...</th>\n",
              "      <td>...</td>\n",
              "      <td>...</td>\n",
              "    </tr>\n",
              "    <tr>\n",
              "      <th>5191</th>\n",
              "      <td>ملاحظات عن السكن كانت إقامتي جيدة جدا ، في غرف...</td>\n",
              "      <td>POS</td>\n",
              "    </tr>\n",
              "    <tr>\n",
              "      <th>13418</th>\n",
              "      <td>قريب من كل شي جميل وهادي وكل شي حولك حتي الموا...</td>\n",
              "      <td>POS</td>\n",
              "    </tr>\n",
              "    <tr>\n",
              "      <th>5390</th>\n",
              "      <td>رائع في إنسبروك الخلابة من موقع مثالي مع إطلال...</td>\n",
              "      <td>POS</td>\n",
              "    </tr>\n",
              "    <tr>\n",
              "      <th>860</th>\n",
              "      <td>موقع ممتاز وفريق موظفين ودود لم يكن فريق الموظ...</td>\n",
              "      <td>POS</td>\n",
              "    </tr>\n",
              "    <tr>\n",
              "      <th>7270</th>\n",
              "      <td>مرة واحدة لكنها لا تتكرر كان لدينا حجز لمدة 2 ...</td>\n",
              "      <td>NEG</td>\n",
              "    </tr>\n",
              "  </tbody>\n",
              "</table>\n",
              "<p>10737 rows × 2 columns</p>\n",
              "</div>"
            ],
            "text/plain": [
              "                                                    text label\n",
              "3477   السعاده مع الله الحمدلله كل المرافق في هذا الف...   POS\n",
              "8005   أحببته - أفضل بكثير مما توقعت ! مكثنا هنا لليل...   POS\n",
              "5747   اختيار جيد في هانوي فندق ممتاز للإقامة في \" ها...   POS\n",
              "7897   مكان مريح وذو جودة عالية للإقامة في الواحات ال...   POS\n",
              "11029  من اروع ما راينا في المدلينا ! ! مذهل استقبال ...   POS\n",
              "...                                                  ...   ...\n",
              "5191   ملاحظات عن السكن كانت إقامتي جيدة جدا ، في غرف...   POS\n",
              "13418  قريب من كل شي جميل وهادي وكل شي حولك حتي الموا...   POS\n",
              "5390   رائع في إنسبروك الخلابة من موقع مثالي مع إطلال...   POS\n",
              "860    موقع ممتاز وفريق موظفين ودود لم يكن فريق الموظ...   POS\n",
              "7270   مرة واحدة لكنها لا تتكرر كان لدينا حجز لمدة 2 ...   NEG\n",
              "\n",
              "[10737 rows x 2 columns]"
            ]
          },
          "metadata": {},
          "execution_count": 30
        }
      ]
    },
    {
      "cell_type": "code",
      "metadata": {
        "colab": {
          "base_uri": "https://localhost:8080/"
        },
        "id": "v-tHPrqeEqHm",
        "outputId": "3e6a818f-ec59-4539-c9d0-4c817174f0b1"
      },
      "source": [
        "# Sanity check on the dataset\n",
        "list(selected_dataset.train[DATA_COLUMN][0:10])"
      ],
      "execution_count": null,
      "outputs": [
        {
          "output_type": "execute_result",
          "data": {
            "text/plain": [
              "['السعاده مع الله الحمدلله كل المرافق في هذا الفندق كانت ممتازه وجميلا ورائعة والحمدلله وإنني اتمني لكم التوفيق واتنمي النجاح وادعو الله القدير ان يحفظ هذا البلد وأمر ائه والقائمين علي بيت الله الحرام كل الخير والسعادة .',\n",
              " 'أحببته - أفضل بكثير مما توقعت ! مكثنا هنا لليلة واحدة من قبل حيث أنه كان نقطة التجمع في رحلتنا . وبعد قراءة الكثير من التعليقات السلبية ، قررنا أن تقيم في مكان آخر بعد رحلتنا . ويا لها من غلطة ارتكبناها بعدم البقاء هنا طوال الوقت ! هذا الفندق لديه نقاط رائعة وكذلك بعض النقاط السيئة . الغرفة الأولى التي حصلنا عليها كانت كبيرة ، والتكييف جيد والحمام مذهل ! ولكن في اليوم الثاني قررت المياه عدم الخروج من الصنابير الأمر الذي كان محبطا . الليلة الأخيرة في رحلتنا تضمنت المبيت هنا وقاموا بترقية حجزنا إلى غرفة مزدوجة مذهلة . كانت ضخمة ! غرفة نوم كبيرة ، حمام ، غرفة منفصلة فيها مقاعد وطاولات للجلوس حولها وشرفة . مكيف الهواء لم يعمل ولكن بعد إعلامهم بالأمر عملوا على إصلاحه . ومع أنني لم أشعر بالأمان 100 % إذا ما ذهبت للمشي في الليل لوحدي ، إلا أن الوضع لم يكن سيئا جدا ، خاصة ليس في سوء وسط مدينة القاهرة . محل يفتح أبوابه على مدار 24 ساعة يبعد عن الفندق مسافة 5 دقائق سيرا على الأقدام . يوجد مقهى شيشة رائع على الشارع خلف الفندق يقدم طعاما رائعا . طاقم العاملين كان ودودا جدا ومستعدا للمساعدة . كان الأمر مبعثا للشعور بالعار أن نغادر الفندق ونذهب إلى فندق تصنيفه أفضل في وسط القاهرة اتضح فيما بعد أنه زبالة مطلقة ! !',\n",
              " 'اختيار جيد في هانوي فندق ممتاز للإقامة في \" هانوي \" لبعض أيام : في شارع صغير يقل في الضوضاء عن غيره ، وقريب من الكاتدرائية . طاقم الموظفين لطيف والأسعار أكثر قليلا مما هو مكتوب في الموقع الإلكتروني ( غرفة نوم لشخصين ، 20 أو 25 دولار أمريكي مقابل الأسرة الثنائية ) ولكنه نظيف جدا ومريح ! مياه ساخنة ، والإنترنت مشمول .',\n",
              " 'مكان مريح وذو جودة عالية للإقامة في الواحات البحرية مكان ممتاز للإقامة إذا كنت تبحث عن مكان مريح وبسيط حيث يمكن للأطفال اللعب بدون تقيد ويمكنك الحصول على الراحة . فعلنا ذلك لمدة 3 ليال وقضينا ليلة في الصحراء البيضاء . كانت الإقامة مثالية . كان الطعام جيدا والمكان رائعا للأطفال وكانت الخدمة رائعة . سأقيم هناك مرة أخرى بكل تأكيد !',\n",
              " 'من اروع ما راينا في المدلينا ! ! مذهل استقبال حار و عائلى من مريم ( تتكلم العربية ) و لينو . و تم تزيين الغرف بذوق شرقي رفيع ( لينو فنان . . ) لا انسى ان اقول لكم ان فطور الصباح تقوم به مريم مبدع و متنوع ما يجعل مزاجنا الصباح جيد : ) شكرا لكما عن هذه الاستضافة',\n",
              " 'ملاذ ممتاز لقضاء عطلة نهاية الأسبوع اخترت هذا الفندق بفضل موقع تريب أدفايزر ، ويجب أن أقول إنه كان بالضبط كما وصفته التعليقات الواردة في الموقع . فندق ممتع وصغير وحديث ومريح ، ويعمل في الفندق موظفون لطفاء وخدومون . وإنني أنصح بشدة بهذا الفندق .',\n",
              " 'روعه نزلت فى سويس ان المهندسين مرتين اوتيل رائع و اهم ما يميزه الهدووء اللى هو بالنسبالى اهم شىء اود ان اجده فى الاوتيل موظفين ودودين و متعاونين و النظافه و الخدمه متميزين و الاكل نظيف و لذيذ تجربه جميله',\n",
              " 'فندق رائع فندق رائع جدا ونظيف , فيه مطبخ متكامل ومستوى الامان فيه عالي حيث لا يسمح لغير سكان الفندق بالصعود الى الاصنصير ولا يسمح لغير سكان الفندق بالدخول ليلا ايضا , موظفي الاستقبال جدا متعاونين وبالاخص العراقي , الموقع قريب من محطة مترو المسار الاحمر الذي يقع عليه معظم الاماكن السياحيه ويبعد عن وسط الساحة ستيفن بلاتز 15 دقيقه تقريبا مشيا على الاقدام ويوجد سوبر ماركت قريب من عيوبه بعض الغرف صغيره , لا يوجد تنظيف لمن اقامته اكثر من 4 ليال',\n",
              " 'فندق لطيف جدا ورائع ومناسب جدا لقد رأيت تقييم ديسمبر 2004 وكنت في هذا الفندق لمدة 4 أيام 30 . 9 . 2005 - 3 . 10 . 2005 . الخدمة جيدة جدا ، الغرفة جميلة والموقع مناسب وجيد جدا في \" تقسيم \" . 8 - 10 بالنسبة لي وأنا كثير السفر . . وأعرف الحياة في الفندق .',\n",
              " 'موقع جدا مميز لقد اقمت به لوحدي بشهر ابريل استمتعت كثيرا به موقعه جذبني كثيرا واطلالته رائعة الغرف صغيرة والافطار مميز الانترنت مجاني وكذلك توفر موقف سيارة جيد طاقم الفندق متعاون ومرحب اشكر من اخبرني بالفندق يصلح لشخصين الفندق مبني من فترة قديمة جدا والاضائة ليست جيدة كفاية']"
            ]
          },
          "metadata": {},
          "execution_count": 31
        }
      ]
    },
    {
      "cell_type": "markdown",
      "metadata": {
        "id": "BH2yldN-4vcX"
      },
      "source": [
        "Now we need to check the tokenized sentence length to decide on the maximum sentence length value"
      ]
    },
    {
      "cell_type": "code",
      "metadata": {
        "id": "IOVdVmfEguAT",
        "colab": {
          "base_uri": "https://localhost:8080/",
          "height": 177,
          "referenced_widgets": [
            "83bc6f8d8f2d495b8b4b3a312da042c9",
            "930d6eaf895c449fa587e909817728f2",
            "05f57cc2f593444a9ab28d3e273e291b",
            "3727a850b54142dbbe4401f653c53f66",
            "118d6a6415cd4689b1a0be7b7cf07ba5",
            "efc5799107ac4037bb33aae5d530224f",
            "8d0f9c31aeb34950ad6d2438df4508b6",
            "3184f291109647b38589195804ff502b",
            "261fe5ce3a5e4cd1981b0158349094b9",
            "6491b7939b4541f299c73f8f19fc5837",
            "3fbd38b572be49cf81032824e924010f",
            "233aa209e0714ecc83db092d676eb755",
            "9ca97a9206174193a3a0ebbad760b603",
            "7e3f75b8cc054bbea03068b2f1c93cf4",
            "84fef242dd8e4fb886bb7f7b3e258085",
            "b97d91bd4fb9412b9769c78bd4b2c763",
            "7cdb1698885c4c65a2fee7fd03acb882",
            "73df4b85d2d44158a15712579c5f3ffa",
            "50df958a0fa343779680d6700c997d8a",
            "f90713618ca64947aba379a7cabac953",
            "eb437325aa4e4fd5979afb25fcf9cdc9",
            "e3c516d591fa4a45bcfa025d5f0182db",
            "ae3a01493c014ee99f153f8950f67622",
            "924ed5a7746b472bb93ac615cf3c5d44",
            "d6ccafed9c494b589f7a82ec7c597b1e",
            "2cf50cdce11640c198ad3f21b044d869",
            "50f1caf95ce3485084c7610f09b7f29d",
            "9e99207f4461431f8f6a23bb313e0514",
            "ea5c00098ad34a7da6a07767247d4c54",
            "bf0c19148da0469b9547133e7004042b",
            "d0d26202a7954092900b74096b867f05",
            "ee76672b7b4942e88eaa21cd94e55544",
            "b340b02841f34e09905ac8466a6ffc22",
            "0920286bc2d64361b5cf53082806077c",
            "4feabd4c93c7437090a13a239e21f4c7",
            "26eeb525ee3745279c2b8f0d28a83fb0",
            "992b6815d1644f9e96f7296b80e3a7eb",
            "a2f466332b98442aaa38c456d71c5850",
            "8de4d87909364fbd870dc8d57383300d",
            "b8f08bf862d6470fbb9f1c6568347ed9",
            "b759a65536064bcf84ecd1bb744d61ae",
            "33f24b55409d4ac9b63fc30b708d70c4",
            "9f32dd2946244a3480c1caf72d778583",
            "f49e263966eb465286d503a8912c528a",
            "b7413d0b155d4a6188bcc46406558b36",
            "428c99247569419b834aff803270d38e",
            "4030094ab597487a99aefbeb85f12a9a",
            "12a5a9a017504da9b422a3c71279c8b8",
            "629916d4eeb246acb60dc0b16bc20324",
            "5c241144df004a3a90e15a94730e0ccd",
            "50a78e65b45e4da9b1049ef28f438d04",
            "057d7a93c9b847f685f9940b63cc4699",
            "22b49568f9854e9f8282ab32d09a661e",
            "13fa178a3dfe476fb7bf8a7138f90981",
            "1867f2ddcba249fe906f9905ae6dcbec"
          ]
        },
        "outputId": "b6bab5e5-87e3-4f9f-8280-6c599b7ae221"
      },
      "source": [
        "tok = AutoTokenizer.from_pretrained(model_name)"
      ],
      "execution_count": 18,
      "outputs": [
        {
          "output_type": "display_data",
          "data": {
            "application/vnd.jupyter.widget-view+json": {
              "model_id": "83bc6f8d8f2d495b8b4b3a312da042c9",
              "version_minor": 0,
              "version_major": 2
            },
            "text/plain": [
              "Downloading:   0%|          | 0.00/381 [00:00<?, ?B/s]"
            ]
          },
          "metadata": {}
        },
        {
          "output_type": "display_data",
          "data": {
            "application/vnd.jupyter.widget-view+json": {
              "model_id": "233aa209e0714ecc83db092d676eb755",
              "version_minor": 0,
              "version_major": 2
            },
            "text/plain": [
              "Downloading:   0%|          | 0.00/384 [00:00<?, ?B/s]"
            ]
          },
          "metadata": {}
        },
        {
          "output_type": "display_data",
          "data": {
            "application/vnd.jupyter.widget-view+json": {
              "model_id": "ae3a01493c014ee99f153f8950f67622",
              "version_minor": 0,
              "version_major": 2
            },
            "text/plain": [
              "Downloading:   0%|          | 0.00/805k [00:00<?, ?B/s]"
            ]
          },
          "metadata": {}
        },
        {
          "output_type": "display_data",
          "data": {
            "application/vnd.jupyter.widget-view+json": {
              "model_id": "0920286bc2d64361b5cf53082806077c",
              "version_minor": 0,
              "version_major": 2
            },
            "text/plain": [
              "Downloading:   0%|          | 0.00/2.52M [00:00<?, ?B/s]"
            ]
          },
          "metadata": {}
        },
        {
          "output_type": "display_data",
          "data": {
            "application/vnd.jupyter.widget-view+json": {
              "model_id": "b7413d0b155d4a6188bcc46406558b36",
              "version_minor": 0,
              "version_major": 2
            },
            "text/plain": [
              "Downloading:   0%|          | 0.00/112 [00:00<?, ?B/s]"
            ]
          },
          "metadata": {}
        }
      ]
    },
    {
      "cell_type": "code",
      "source": [
        "#################### resturants\n",
        "print(\"Training Sentence Lengths: \")\n",
        "plt.hist([ len(tok.tokenize(sentence)) for sentence in selected_dataset.train[DATA_COLUMN].to_list()],bins=range(0,500,2))\n",
        "plt.show()\n",
        "\n",
        "print(\"Testing Sentence Lengths: \")\n",
        "plt.hist([ len(tok.tokenize(sentence)) for sentence in selected_dataset.test[DATA_COLUMN].to_list()],bins=range(0,500,2))\n",
        "plt.show()"
      ],
      "metadata": {
        "colab": {
          "base_uri": "https://localhost:8080/",
          "height": 548
        },
        "id": "skJSFgsq16U9",
        "outputId": "8b001aa2-6192-4fa4-86a3-af0dcd6831a0"
      },
      "execution_count": null,
      "outputs": [
        {
          "output_type": "stream",
          "name": "stdout",
          "text": [
            "Training Sentence Lengths: \n"
          ]
        },
        {
          "output_type": "display_data",
          "data": {
            "image/png": "[encoded data removed]",
            "text/plain": [
              "<Figure size 432x288 with 1 Axes>"
            ]
          },
          "metadata": {
            "needs_background": "light"
          }
        },
        {
          "output_type": "stream",
          "name": "stdout",
          "text": [
            "Testing Sentence Lengths: \n"
          ]
        },
        {
          "output_type": "display_data",
          "data": {
            "image/png": "[encoded data removed]",
            "text/plain": [
              "<Figure size 432x288 with 1 Axes>"
            ]
          },
          "metadata": {
            "needs_background": "light"
          }
        }
      ]
    },
    {
      "cell_type": "code",
      "metadata": {
        "colab": {
          "base_uri": "https://localhost:8080/",
          "height": 585
        },
        "id": "pP5ziUabgpeb",
        "outputId": "dba1ea8a-d111-475f-b58e-4e0b141f8359"
      },
      "source": [
        "#################### Hotels\n",
        "print(\"Training Sentence Lengths: \")\n",
        "plt.hist([ len(tok.tokenize(sentence)) for sentence in selected_dataset.train[DATA_COLUMN].to_list()],bins=range(0,500,2))\n",
        "plt.show()\n",
        "\n",
        "print(\"Testing Sentence Lengths: \")\n",
        "plt.hist([ len(tok.tokenize(sentence)) for sentence in selected_dataset.test[DATA_COLUMN].to_list()],bins=range(0,500,2))\n",
        "plt.show()"
      ],
      "execution_count": null,
      "outputs": [
        {
          "output_type": "stream",
          "name": "stderr",
          "text": [
            "Token indices sequence length is longer than the specified maximum sequence length for this model (771 > 512). Running this sequence through the model will result in indexing errors\n"
          ]
        },
        {
          "output_type": "stream",
          "name": "stdout",
          "text": [
            "Training Sentence Lengths: \n"
          ]
        },
        {
          "output_type": "display_data",
          "data": {
            "image/png": "[encoded data removed]",
            "text/plain": [
              "<Figure size 432x288 with 1 Axes>"
            ]
          },
          "metadata": {
            "needs_background": "light"
          }
        },
        {
          "output_type": "stream",
          "name": "stdout",
          "text": [
            "Testing Sentence Lengths: \n"
          ]
        },
        {
          "output_type": "display_data",
          "data": {
            "image/png": "[encoded data removed]",
            "text/plain": [
              "<Figure size 432x288 with 1 Axes>"
            ]
          },
          "metadata": {
            "needs_background": "light"
          }
        }
      ]
    },
    {
      "cell_type": "code",
      "source": [
        "#################### products\n",
        "print(\"Training Sentence Lengths: \")\n",
        "plt.hist([ len(tok.tokenize(sentence)) for sentence in selected_dataset.train[DATA_COLUMN].to_list()],bins=range(0,500,2))\n",
        "plt.show()\n",
        "\n",
        "print(\"Testing Sentence Lengths: \")\n",
        "plt.hist([ len(tok.tokenize(sentence)) for sentence in selected_dataset.test[DATA_COLUMN].to_list()],bins=range(0,500,2))\n",
        "plt.show()"
      ],
      "metadata": {
        "colab": {
          "base_uri": "https://localhost:8080/",
          "height": 548
        },
        "id": "YSzaG8mWm5MG",
        "outputId": "0919d049-5ef5-49b6-8217-61fba730a95d"
      },
      "execution_count": null,
      "outputs": [
        {
          "output_type": "stream",
          "name": "stdout",
          "text": [
            "Training Sentence Lengths: \n"
          ]
        },
        {
          "output_type": "display_data",
          "data": {
            "image/png": "[encoded data removed]",
            "text/plain": [
              "<Figure size 432x288 with 1 Axes>"
            ]
          },
          "metadata": {
            "needs_background": "light"
          }
        },
        {
          "output_type": "stream",
          "name": "stdout",
          "text": [
            "Testing Sentence Lengths: \n"
          ]
        },
        {
          "output_type": "display_data",
          "data": {
            "image/png": "[encoded data removed]",
            "text/plain": [
              "<Figure size 432x288 with 1 Axes>"
            ]
          },
          "metadata": {
            "needs_background": "light"
          }
        }
      ]
    },
    {
      "cell_type": "code",
      "source": [
        "#################### movies\n",
        "print(\"Training Sentence Lengths: \")\n",
        "plt.hist([ len(tok.tokenize(sentence)) for sentence in selected_dataset.train[DATA_COLUMN].to_list()],bins=range(0,500,2))\n",
        "plt.show()\n",
        "\n",
        "print(\"Testing Sentence Lengths: \")\n",
        "plt.hist([ len(tok.tokenize(sentence)) for sentence in selected_dataset.test[DATA_COLUMN].to_list()],bins=range(0,500,2))\n",
        "plt.show()"
      ],
      "metadata": {
        "colab": {
          "base_uri": "https://localhost:8080/",
          "height": 548
        },
        "id": "jGFKz7Um2cZ4",
        "outputId": "4d56e0ea-a8ea-4511-8c4b-19fa06244c81"
      },
      "execution_count": null,
      "outputs": [
        {
          "output_type": "stream",
          "name": "stdout",
          "text": [
            "Training Sentence Lengths: \n"
          ]
        },
        {
          "output_type": "display_data",
          "data": {
            "image/png": "[encoded data removed]",
            "text/plain": [
              "<Figure size 432x288 with 1 Axes>"
            ]
          },
          "metadata": {
            "needs_background": "light"
          }
        },
        {
          "output_type": "stream",
          "name": "stdout",
          "text": [
            "Testing Sentence Lengths: \n"
          ]
        },
        {
          "output_type": "display_data",
          "data": {
            "image/png": "[encoded data removed]",
            "text/plain": [
              "<Figure size 432x288 with 1 Axes>"
            ]
          },
          "metadata": {
            "needs_background": "light"
          }
        }
      ]
    },
    {
      "cell_type": "code",
      "source": [
        "#################### All msa\n",
        "print(\"Training Sentence Lengths: \")\n",
        "plt.hist([ len(tok.tokenize(sentence)) for sentence in selected_dataset.train[DATA_COLUMN].to_list()],bins=range(0,500,2))\n",
        "plt.show()\n",
        "\n",
        "print(\"Testing Sentence Lengths: \")\n",
        "plt.hist([ len(tok.tokenize(sentence)) for sentence in selected_dataset.test[DATA_COLUMN].to_list()],bins=range(0,500,2))\n",
        "plt.show()"
      ],
      "metadata": {
        "colab": {
          "base_uri": "https://localhost:8080/",
          "height": 587
        },
        "id": "Z1l43e9jWUfZ",
        "outputId": "2fac9837-0f10-40ba-c85a-95f4af5a66cf"
      },
      "execution_count": 19,
      "outputs": [
        {
          "output_type": "stream",
          "name": "stderr",
          "text": [
            "Token indices sequence length is longer than the specified maximum sequence length for this model (874 > 512). Running this sequence through the model will result in indexing errors\n"
          ]
        },
        {
          "output_type": "stream",
          "name": "stdout",
          "text": [
            "Training Sentence Lengths: \n"
          ]
        },
        {
          "output_type": "display_data",
          "data": {
            "image/png": "[encoded data removed]",
            "text/plain": [
              "<Figure size 432x288 with 1 Axes>"
            ]
          },
          "metadata": {
            "needs_background": "light"
          }
        },
        {
          "output_type": "stream",
          "name": "stdout",
          "text": [
            "Testing Sentence Lengths: \n"
          ]
        },
        {
          "output_type": "display_data",
          "data": {
            "image/png": "[encoded data removed]",
            "text/plain": [
              "<Figure size 432x288 with 1 Axes>"
            ]
          },
          "metadata": {
            "needs_background": "light"
          }
        }
      ]
    },
    {
      "cell_type": "code",
      "source": [
        "#################### ArSenTD-Lev\n",
        "print(\"Training Sentence Lengths: \")\n",
        "plt.hist([ len(tok.tokenize(sentence)) for sentence in selected_dataset.train[DATA_COLUMN].to_list()],bins=range(0,500,2))\n",
        "plt.show()\n",
        "\n",
        "print(\"Testing Sentence Lengths: \")\n",
        "plt.hist([ len(tok.tokenize(sentence)) for sentence in selected_dataset.test[DATA_COLUMN].to_list()],bins=range(0,500,2))\n",
        "plt.show()"
      ],
      "metadata": {
        "colab": {
          "base_uri": "https://localhost:8080/",
          "height": 548
        },
        "id": "_aErm1MD0g0v",
        "outputId": "0c8e803f-6cd5-4cc6-d2af-d67f3024a606"
      },
      "execution_count": null,
      "outputs": [
        {
          "output_type": "stream",
          "name": "stdout",
          "text": [
            "Training Sentence Lengths: \n"
          ]
        },
        {
          "output_type": "display_data",
          "data": {
            "image/png": "[encoded data removed]",
            "text/plain": [
              "<Figure size 432x288 with 1 Axes>"
            ]
          },
          "metadata": {
            "needs_background": "light"
          }
        },
        {
          "output_type": "stream",
          "name": "stdout",
          "text": [
            "Testing Sentence Lengths: \n"
          ]
        },
        {
          "output_type": "display_data",
          "data": {
            "image/png": "[encoded data removed]",
            "text/plain": [
              "<Figure size 432x288 with 1 Axes>"
            ]
          },
          "metadata": {
            "needs_background": "light"
          }
        }
      ]
    },
    {
      "cell_type": "markdown",
      "metadata": {
        "id": "GSDt3uyd5K2C"
      },
      "source": [
        "Let's select our maximum sentence length, and check how many sequences will be truncated"
      ]
    },
    {
      "cell_type": "code",
      "metadata": {
        "id": "09RumWom5bG2"
      },
      "source": [
        "max_len = 128 # for MSA "
      ],
      "execution_count": 20,
      "outputs": []
    },
    {
      "cell_type": "code",
      "source": [
        "max_len = 50 # for tweets: ArSenTD-Lev"
      ],
      "metadata": {
        "id": "oQ7isdeG1NMn"
      },
      "execution_count": null,
      "outputs": []
    },
    {
      "cell_type": "code",
      "metadata": {
        "colab": {
          "base_uri": "https://localhost:8080/"
        },
        "id": "SLhNqO2w5DIn",
        "outputId": "e0ee7a81-a353-47c7-a54a-af97d99ef359"
      },
      "source": [
        "######################## resturant\n",
        "print(\"Truncated training sequences: \", sum([len(tok.tokenize(sentence)) > max_len for sentence in selected_dataset.train[DATA_COLUMN].to_list()]), ' out of :', len(selected_dataset.train))\n",
        "print(\"Truncated testing sequences: \", sum([len(tok.tokenize(sentence)) > max_len for sentence in selected_dataset.test[DATA_COLUMN].to_list()]), ' out of :', len(selected_dataset.test))"
      ],
      "execution_count": null,
      "outputs": [
        {
          "output_type": "stream",
          "name": "stdout",
          "text": [
            "Truncated training sequences:  731  out of : 8564\n",
            "Truncated testing sequences:  176  out of : 2141\n"
          ]
        }
      ]
    },
    {
      "cell_type": "code",
      "source": [
        "######################## products\n",
        "print(\"Truncated training sequences: \", sum([len(tok.tokenize(sentence)) > max_len for sentence in selected_dataset.train[DATA_COLUMN].to_list()]), ' out of :', len(selected_dataset.train))\n",
        "print(\"Truncated testing sequences: \", sum([len(tok.tokenize(sentence)) > max_len for sentence in selected_dataset.test[DATA_COLUMN].to_list()]), ' out of :', len(selected_dataset.test))"
      ],
      "metadata": {
        "colab": {
          "base_uri": "https://localhost:8080/"
        },
        "id": "cJwO1pmlnB3R",
        "outputId": "3869ac1d-5024-4441-c48a-22573727f7c8"
      },
      "execution_count": null,
      "outputs": [
        {
          "output_type": "stream",
          "name": "stdout",
          "text": [
            "Truncated training sequences:  9  out of : 3171\n",
            "Truncated testing sequences:  0  out of : 793\n"
          ]
        }
      ]
    },
    {
      "cell_type": "code",
      "source": [
        "######################## hotels\n",
        "print(\"Truncated training sequences: \", sum([len(tok.tokenize(sentence)) > max_len for sentence in selected_dataset.train[DATA_COLUMN].to_list()]), ' out of :', len(selected_dataset.train))\n",
        "print(\"Truncated testing sequences: \", sum([len(tok.tokenize(sentence)) > max_len for sentence in selected_dataset.test[DATA_COLUMN].to_list()]), ' out of :', len(selected_dataset.test))"
      ],
      "metadata": {
        "colab": {
          "base_uri": "https://localhost:8080/"
        },
        "id": "Vx64YONzrnqE",
        "outputId": "8cb6b5f6-f018-47e0-a0ec-889810f21b61"
      },
      "execution_count": null,
      "outputs": [
        {
          "output_type": "stream",
          "name": "stdout",
          "text": [
            "Truncated training sequences:  3524  out of : 10737\n",
            "Truncated testing sequences:  891  out of : 2685\n"
          ]
        }
      ]
    },
    {
      "cell_type": "code",
      "source": [
        "######################## movies\n",
        "print(\"Truncated training sequences: \", sum([len(tok.tokenize(sentence)) > max_len for sentence in selected_dataset.train[DATA_COLUMN].to_list()]), ' out of :', len(selected_dataset.train))\n",
        "print(\"Truncated testing sequences: \", sum([len(tok.tokenize(sentence)) > max_len for sentence in selected_dataset.test[DATA_COLUMN].to_list()]), ' out of :', len(selected_dataset.test))"
      ],
      "metadata": {
        "colab": {
          "base_uri": "https://localhost:8080/"
        },
        "id": "xMss05VN26ha",
        "outputId": "5b040e6d-f190-4fb1-9478-18da6fddfbb3"
      },
      "execution_count": null,
      "outputs": [
        {
          "output_type": "stream",
          "name": "stdout",
          "text": [
            "Truncated training sequences:  1072  out of : 1082\n",
            "Truncated testing sequences:  267  out of : 271\n"
          ]
        }
      ]
    },
    {
      "cell_type": "code",
      "source": [
        "######################## All msa\n",
        "print(\"Truncated training sequences: \", sum([len(tok.tokenize(sentence)) > max_len for sentence in selected_dataset.train[DATA_COLUMN].to_list()]), ' out of :', len(selected_dataset.train))\n",
        "print(\"Truncated testing sequences: \", sum([len(tok.tokenize(sentence)) > max_len for sentence in selected_dataset.test[DATA_COLUMN].to_list()]), ' out of :', len(selected_dataset.test))"
      ],
      "metadata": {
        "colab": {
          "base_uri": "https://localhost:8080/"
        },
        "id": "1-13mNVjWms2",
        "outputId": "84817437-89cb-4bda-900e-1c066b502cf2"
      },
      "execution_count": 21,
      "outputs": [
        {
          "output_type": "stream",
          "name": "stdout",
          "text": [
            "Truncated training sequences:  5341  out of : 23555\n",
            "Truncated testing sequences:  1329  out of : 5889\n"
          ]
        }
      ]
    },
    {
      "cell_type": "code",
      "source": [
        "######################## ArSenTD-Lev\n",
        "print(\"Truncated training sequences: \", sum([len(tok.tokenize(sentence)) > max_len for sentence in selected_dataset.train[DATA_COLUMN].to_list()]), ' out of :', len(selected_dataset.train))\n",
        "print(\"Truncated testing sequences: \", sum([len(tok.tokenize(sentence)) > max_len for sentence in selected_dataset.test[DATA_COLUMN].to_list()]), ' out of :', len(selected_dataset.test))"
      ],
      "metadata": {
        "colab": {
          "base_uri": "https://localhost:8080/"
        },
        "id": "cmMUpjeT1UqS",
        "outputId": "44bed4cb-f6ff-4492-d40a-9fa62a78a130"
      },
      "execution_count": null,
      "outputs": [
        {
          "output_type": "stream",
          "name": "stdout",
          "text": [
            "Truncated training sequences:  5  out of : 2492\n",
            "Truncated testing sequences:  0  out of : 623\n"
          ]
        }
      ]
    },
    {
      "cell_type": "markdown",
      "metadata": {
        "id": "yqENWrht6A5n"
      },
      "source": [
        "Now let's create a classification dataset to load the data"
      ]
    },
    {
      "cell_type": "code",
      "metadata": {
        "id": "4YS7XI2bZTyz"
      },
      "source": [
        "class ClassificationDataset(Dataset):\n",
        "    def __init__(self, text, target, model_name, max_len, label_map):\n",
        "      super(ClassificationDataset).__init__()\n",
        "      \"\"\"\n",
        "      Args:\n",
        "      text (List[str]): List of the training text\n",
        "      target (List[str]): List of the training labels\n",
        "      tokenizer_name (str): The tokenizer name (same as model_name).\n",
        "      max_len (int): Maximum sentence length\n",
        "      label_map (Dict[str,int]): A dictionary that maps the class labels to integer\n",
        "      \"\"\"\n",
        "      self.text = text\n",
        "      self.target = target\n",
        "      self.tokenizer_name = model_name\n",
        "      self.tokenizer = AutoTokenizer.from_pretrained(model_name)\n",
        "      self.max_len = max_len\n",
        "      self.label_map = label_map\n",
        "      \n",
        "\n",
        "    def __len__(self):\n",
        "      return len(self.text)\n",
        "\n",
        "    def __getitem__(self,item):\n",
        "      text = str(self.text[item])\n",
        "      text = \" \".join(text.split())\n",
        "        \n",
        "      inputs = self.tokenizer(\n",
        "          text,\n",
        "          max_length=self.max_len,\n",
        "          padding='max_length',\n",
        "          truncation=True\n",
        "      )      \n",
        "      return InputFeatures(**inputs,label=self.label_map[self.target[item]])"
      ],
      "execution_count": 22,
      "outputs": []
    },
    {
      "cell_type": "code",
      "metadata": {
        "colab": {
          "base_uri": "https://localhost:8080/"
        },
        "id": "mciZOFz-amkV",
        "outputId": "816e361b-4414-4ffc-cff7-f52262e40fdf"
      },
      "source": [
        "label_map = { v:index for index, v in enumerate(selected_dataset.label_list) }\n",
        "print(label_map)\n",
        "\n",
        "train_dataset = ClassificationDataset(\n",
        "    selected_dataset.train[DATA_COLUMN].to_list(),\n",
        "    selected_dataset.train[LABEL_COLUMN].to_list(),\n",
        "    model_name,\n",
        "    max_len,\n",
        "    label_map\n",
        "  )\n",
        "test_dataset = ClassificationDataset(\n",
        "    selected_dataset.test[DATA_COLUMN].to_list(),\n",
        "    selected_dataset.test[LABEL_COLUMN].to_list(),\n",
        "    model_name,\n",
        "    max_len,\n",
        "    label_map\n",
        "  )"
      ],
      "execution_count": 23,
      "outputs": [
        {
          "output_type": "stream",
          "name": "stdout",
          "text": [
            "{'NEG': 0, 'POS': 1}\n"
          ]
        }
      ]
    },
    {
      "cell_type": "markdown",
      "metadata": {
        "id": "XoOyOzRu8Jwo"
      },
      "source": [
        "Check the dataset output"
      ]
    },
    {
      "cell_type": "code",
      "metadata": {
        "colab": {
          "base_uri": "https://localhost:8080/"
        },
        "id": "bhi41co270I9",
        "outputId": "7a1d1b42-5209-442b-8520-0b16d003f474"
      },
      "source": [
        "print(next(iter(train_dataset)))     # printed with length 128"
      ],
      "execution_count": 24,
      "outputs": [
        {
          "output_type": "stream",
          "name": "stdout",
          "text": [
            "InputFeatures(input_ids=[2, 602, 49262, 228, 306, 19120, 27433, 482, 8190, 22463, 6620, 45541, 7936, 25074, 195, 22, 19, 7596, 183, 12786, 57, 243, 251, 7596, 183, 12786, 1848, 56111, 482, 3236, 5138, 38609, 201, 209, 1305, 16637, 1241, 14, 2339, 47587, 29682, 1841, 14788, 195, 1882, 1130, 15, 103, 354, 3080, 2077, 9632, 22251, 182, 1955, 2766, 30533, 6399, 867, 401, 963, 394, 1245, 52634, 674, 23, 19, 3699, 50181, 533, 408, 6983, 390, 20912, 391, 34119, 593, 870, 3626, 1016, 5138, 38609, 201, 209, 1305, 16637, 1241, 2285, 2134, 18322, 969, 195, 611, 6583, 238, 1841, 47587, 8142, 662, 1016, 867, 20040, 4683, 1918, 193, 40499, 182, 7596, 183, 37216, 391, 34119, 21442, 1841, 29682, 25534, 305, 7700, 49571, 14144, 7375, 20040, 49594, 195, 45657, 2885, 5153, 3], attention_mask=[1, 1, 1, 1, 1, 1, 1, 1, 1, 1, 1, 1, 1, 1, 1, 1, 1, 1, 1, 1, 1, 1, 1, 1, 1, 1, 1, 1, 1, 1, 1, 1, 1, 1, 1, 1, 1, 1, 1, 1, 1, 1, 1, 1, 1, 1, 1, 1, 1, 1, 1, 1, 1, 1, 1, 1, 1, 1, 1, 1, 1, 1, 1, 1, 1, 1, 1, 1, 1, 1, 1, 1, 1, 1, 1, 1, 1, 1, 1, 1, 1, 1, 1, 1, 1, 1, 1, 1, 1, 1, 1, 1, 1, 1, 1, 1, 1, 1, 1, 1, 1, 1, 1, 1, 1, 1, 1, 1, 1, 1, 1, 1, 1, 1, 1, 1, 1, 1, 1, 1, 1, 1, 1, 1, 1, 1, 1, 1], token_type_ids=[0, 0, 0, 0, 0, 0, 0, 0, 0, 0, 0, 0, 0, 0, 0, 0, 0, 0, 0, 0, 0, 0, 0, 0, 0, 0, 0, 0, 0, 0, 0, 0, 0, 0, 0, 0, 0, 0, 0, 0, 0, 0, 0, 0, 0, 0, 0, 0, 0, 0, 0, 0, 0, 0, 0, 0, 0, 0, 0, 0, 0, 0, 0, 0, 0, 0, 0, 0, 0, 0, 0, 0, 0, 0, 0, 0, 0, 0, 0, 0, 0, 0, 0, 0, 0, 0, 0, 0, 0, 0, 0, 0, 0, 0, 0, 0, 0, 0, 0, 0, 0, 0, 0, 0, 0, 0, 0, 0, 0, 0, 0, 0, 0, 0, 0, 0, 0, 0, 0, 0, 0, 0, 0, 0, 0, 0, 0, 0], label=1)\n"
          ]
        }
      ]
    },
    {
      "cell_type": "code",
      "source": [
        "print(next(iter(train_dataset)))     # printed with length 50 (ArSenTD-Lev)"
      ],
      "metadata": {
        "colab": {
          "base_uri": "https://localhost:8080/"
        },
        "id": "_6qr-ljB1zjH",
        "outputId": "bb3d583d-1903-477d-e2ee-37dcc5e5190c"
      },
      "execution_count": null,
      "outputs": [
        {
          "output_type": "stream",
          "name": "stdout",
          "text": [
            "InputFeatures(input_ids=[2, 476, 42975, 323, 15195, 10054, 2336, 4268, 305, 1259, 11081, 46803, 750, 6511, 306, 36911, 307, 38207, 4193, 5737, 323, 2868, 8357, 881, 176, 5, 3, 0, 0, 0, 0, 0, 0, 0, 0, 0, 0, 0, 0, 0, 0, 0, 0, 0, 0, 0, 0, 0, 0, 0], attention_mask=[1, 1, 1, 1, 1, 1, 1, 1, 1, 1, 1, 1, 1, 1, 1, 1, 1, 1, 1, 1, 1, 1, 1, 1, 1, 1, 1, 0, 0, 0, 0, 0, 0, 0, 0, 0, 0, 0, 0, 0, 0, 0, 0, 0, 0, 0, 0, 0, 0, 0], token_type_ids=[0, 0, 0, 0, 0, 0, 0, 0, 0, 0, 0, 0, 0, 0, 0, 0, 0, 0, 0, 0, 0, 0, 0, 0, 0, 0, 0, 0, 0, 0, 0, 0, 0, 0, 0, 0, 0, 0, 0, 0, 0, 0, 0, 0, 0, 0, 0, 0, 0, 0], label=1)\n"
          ]
        }
      ]
    },
    {
      "cell_type": "markdown",
      "metadata": {
        "id": "SFHzbq6p8P2C"
      },
      "source": [
        "Create a function that return a pretrained model ready to do classification"
      ]
    },
    {
      "cell_type": "code",
      "metadata": {
        "id": "lt7l0IxjbmNu"
      },
      "source": [
        "def model_init():\n",
        "    return AutoModelForSequenceClassification.from_pretrained(model_name, return_dict=True, num_labels=len(label_map))"
      ],
      "execution_count": 25,
      "outputs": []
    },
    {
      "cell_type": "code",
      "metadata": {
        "id": "UYU6G4vWc5nz"
      },
      "source": [
        "def compute_metrics(p): #p should be of type EvalPrediction\n",
        "  preds = np.argmax(p.predictions, axis=1)\n",
        "  assert len(preds) == len(p.label_ids)\n",
        "  print(classification_report(p.label_ids,preds))\n",
        "  print(confusion_matrix(p.label_ids,preds))\n",
        "  score_F1 = f1_score(p.label_ids,preds)\n",
        "  score_precision = precision_score(p.label_ids,preds)\n",
        "  score_recall = recall_score(p.label_ids,preds)\n",
        "  acc = accuracy_score(p.label_ids,preds)\n",
        "  return {       \n",
        "      'F1_score' : score_F1,\n",
        "      'Accuracy': acc,\n",
        "      'Precision': score_precision,\n",
        "      'Recall': score_recall\n",
        "  }"
      ],
      "execution_count": 26,
      "outputs": []
    },
    {
      "cell_type": "code",
      "metadata": {
        "id": "HEznOOD4COn7"
      },
      "source": [
        "def set_seed(seed=42):\n",
        "  random.seed(seed)\n",
        "  np.random.seed(seed)\n",
        "  torch.manual_seed(seed)\n",
        "  torch.cuda.manual_seed(seed)\n",
        "  torch.cuda.manual_seed_all(seed)\n",
        "  torch.backends.cudnn.deterministic=True\n",
        "  torch.backends.cudnn.benchmark = False"
      ],
      "execution_count": 27,
      "outputs": []
    },
    {
      "cell_type": "markdown",
      "metadata": {
        "id": "vTmvFEs41WkV"
      },
      "source": [
        "**Training** "
      ]
    },
    {
      "cell_type": "markdown",
      "metadata": {
        "id": "hym-1aiJ8zS8"
      },
      "source": [
        "Define our training parameters."
      ]
    },
    {
      "cell_type": "code",
      "metadata": {
        "id": "BplVarm6h6qj"
      },
      "source": [
        "training_args = TrainingArguments( \n",
        "    output_dir= \"./train\",    \n",
        "    adam_epsilon = 1e-8,\n",
        "    learning_rate = 2e-5,\n",
        "    fp16 = False, # enable this when using V100 or T4 GPU\n",
        "    per_device_train_batch_size = 16, # up to 64 on 16GB with max len of 128\n",
        "    per_device_eval_batch_size = 128,\n",
        "    gradient_accumulation_steps = 2, # use this to scale batch size without needing more memory\n",
        "    num_train_epochs= 5, \n",
        "    warmup_ratio = 0,\n",
        "    do_eval = True,\n",
        "    evaluation_strategy = 'epoch',\n",
        "    save_strategy = 'epoch',\n",
        "    load_best_model_at_end = True, # this allows to automatically get the best model at the end based on whatever metric we want\n",
        "    metric_for_best_model = 'F1_score',\n",
        "    greater_is_better = True,\n",
        "    seed = 25\n",
        "  )\n",
        "\n",
        "set_seed(training_args.seed)"
      ],
      "execution_count": 28,
      "outputs": []
    },
    {
      "cell_type": "markdown",
      "metadata": {
        "id": "pVODSK3D89OZ"
      },
      "source": [
        "Create the trainer"
      ]
    },
    {
      "cell_type": "code",
      "metadata": {
        "colab": {
          "base_uri": "https://localhost:8080/",
          "height": 156,
          "referenced_widgets": [
            "16037b6ac8ac46c9aadfe81cf609f119",
            "1461432cbb0a46dd9fc58eb7206cca0e",
            "a07590f8922a46698ea9f09f51c71755",
            "8e6a28ff0c2d4d88905ae6ec6adc29b4",
            "f219e82d4d994cdbb09aa80a28e8a73f",
            "aa21229080dd4b238fe680472527888a",
            "0c7fcc7cf0144b769cc785255e399f1b",
            "c9bd2d1d45ea4d7cb1b448c8b5cdee0a",
            "e9f36805c2c548b48ee591968067319a",
            "147ab84e0d2645119a5876943f256297",
            "f5650c015ec94a2ba3d8efaa29b8a91b"
          ]
        },
        "id": "Ro5BW5ak4uc1",
        "outputId": "dd02591a-ce1d-4a5c-fc92-aebec42b4a87"
      },
      "source": [
        "trainer = Trainer(\n",
        "    model = model_init(),\n",
        "    args = training_args,\n",
        "    train_dataset = train_dataset,\n",
        "    eval_dataset=test_dataset,\n",
        "    compute_metrics=compute_metrics,\n",
        ")"
      ],
      "execution_count": 29,
      "outputs": [
        {
          "output_type": "display_data",
          "data": {
            "application/vnd.jupyter.widget-view+json": {
              "model_id": "16037b6ac8ac46c9aadfe81cf609f119",
              "version_minor": 0,
              "version_major": 2
            },
            "text/plain": [
              "Downloading:   0%|          | 0.00/518M [00:00<?, ?B/s]"
            ]
          },
          "metadata": {}
        },
        {
          "output_type": "stream",
          "name": "stderr",
          "text": [
            "Some weights of the model checkpoint at aubmindlab/bert-base-arabertv02 were not used when initializing BertForSequenceClassification: ['cls.predictions.transform.LayerNorm.bias', 'cls.seq_relationship.weight', 'cls.predictions.decoder.bias', 'cls.predictions.decoder.weight', 'cls.predictions.transform.dense.weight', 'cls.seq_relationship.bias', 'cls.predictions.transform.LayerNorm.weight', 'cls.predictions.bias', 'cls.predictions.transform.dense.bias']\n",
            "- This IS expected if you are initializing BertForSequenceClassification from the checkpoint of a model trained on another task or with another architecture (e.g. initializing a BertForSequenceClassification model from a BertForPreTraining model).\n",
            "- This IS NOT expected if you are initializing BertForSequenceClassification from the checkpoint of a model that you expect to be exactly identical (initializing a BertForSequenceClassification model from a BertForSequenceClassification model).\n",
            "Some weights of BertForSequenceClassification were not initialized from the model checkpoint at aubmindlab/bert-base-arabertv02 and are newly initialized: ['classifier.bias', 'classifier.weight']\n",
            "You should probably TRAIN this model on a down-stream task to be able to use it for predictions and inference.\n"
          ]
        }
      ]
    },
    {
      "cell_type": "markdown",
      "source": [
        "**Results of training on each dataset**"
      ],
      "metadata": {
        "id": "fdE2MmC-J44C"
      }
    },
    {
      "cell_type": "code",
      "metadata": {
        "colab": {
          "base_uri": "https://localhost:8080/",
          "height": 1000
        },
        "id": "mxqoZsFWSFso",
        "outputId": "9ae9538c-76d8-485e-98b7-bfc1d6464de5"
      },
      "source": [
        "############# resturants\n",
        "\n",
        "\n",
        "\n",
        "\n",
        "#start the training on resturants\n",
        "trainer.train()"
      ],
      "execution_count": null,
      "outputs": [
        {
          "output_type": "stream",
          "name": "stderr",
          "text": [
            "***** Running training *****\n",
            "  Num examples = 8564\n",
            "  Num Epochs = 5\n",
            "  Instantaneous batch size per device = 16\n",
            "  Total train batch size (w. parallel, distributed & accumulation) = 32\n",
            "  Gradient Accumulation steps = 2\n",
            "  Total optimization steps = 1340\n"
          ]
        },
        {
          "output_type": "display_data",
          "data": {
            "text/html": [
              "\n",
              "    <div>\n",
              "      \n",
              "      <progress value='1340' max='1340' style='width:300px; height:20px; vertical-align: middle;'></progress>\n",
              "      [1340/1340 1:27:14, Epoch 5/5]\n",
              "    </div>\n",
              "    <table border=\"1\" class=\"dataframe\">\n",
              "  <thead>\n",
              "    <tr style=\"text-align: left;\">\n",
              "      <th>Epoch</th>\n",
              "      <th>Training Loss</th>\n",
              "      <th>Validation Loss</th>\n",
              "      <th>F1 Score</th>\n",
              "      <th>Accuracy</th>\n",
              "      <th>Precision</th>\n",
              "      <th>Recall</th>\n",
              "    </tr>\n",
              "  </thead>\n",
              "  <tbody>\n",
              "    <tr>\n",
              "      <td>1</td>\n",
              "      <td>No log</td>\n",
              "      <td>0.230978</td>\n",
              "      <td>0.940631</td>\n",
              "      <td>0.910322</td>\n",
              "      <td>0.934275</td>\n",
              "      <td>0.947073</td>\n",
              "    </tr>\n",
              "    <tr>\n",
              "      <td>2</td>\n",
              "      <td>0.249000</td>\n",
              "      <td>0.226914</td>\n",
              "      <td>0.944597</td>\n",
              "      <td>0.915460</td>\n",
              "      <td>0.928958</td>\n",
              "      <td>0.960772</td>\n",
              "    </tr>\n",
              "    <tr>\n",
              "      <td>3</td>\n",
              "      <td>0.249000</td>\n",
              "      <td>0.263643</td>\n",
              "      <td>0.943951</td>\n",
              "      <td>0.914526</td>\n",
              "      <td>0.928873</td>\n",
              "      <td>0.959527</td>\n",
              "    </tr>\n",
              "    <tr>\n",
              "      <td>4</td>\n",
              "      <td>0.114600</td>\n",
              "      <td>0.332139</td>\n",
              "      <td>0.940667</td>\n",
              "      <td>0.910322</td>\n",
              "      <td>0.933742</td>\n",
              "      <td>0.947696</td>\n",
              "    </tr>\n",
              "    <tr>\n",
              "      <td>5</td>\n",
              "      <td>0.114600</td>\n",
              "      <td>0.363492</td>\n",
              "      <td>0.940812</td>\n",
              "      <td>0.910789</td>\n",
              "      <td>0.936459</td>\n",
              "      <td>0.945205</td>\n",
              "    </tr>\n",
              "  </tbody>\n",
              "</table><p>"
            ],
            "text/plain": [
              "<IPython.core.display.HTML object>"
            ]
          },
          "metadata": {}
        },
        {
          "output_type": "stream",
          "name": "stderr",
          "text": [
            "***** Running Evaluation *****\n",
            "  Num examples = 2141\n",
            "  Batch size = 128\n"
          ]
        },
        {
          "output_type": "stream",
          "name": "stdout",
          "text": [
            "              precision    recall  f1-score   support\n",
            "\n",
            "           0       0.83      0.80      0.82       535\n",
            "           1       0.93      0.95      0.94      1606\n",
            "\n",
            "    accuracy                           0.91      2141\n",
            "   macro avg       0.88      0.87      0.88      2141\n",
            "weighted avg       0.91      0.91      0.91      2141\n",
            "\n",
            "[[ 428  107]\n",
            " [  85 1521]]\n"
          ]
        },
        {
          "output_type": "stream",
          "name": "stderr",
          "text": [
            "Saving model checkpoint to ./train/checkpoint-268\n",
            "Configuration saved in ./train/checkpoint-268/config.json\n",
            "Model weights saved in ./train/checkpoint-268/pytorch_model.bin\n",
            "***** Running Evaluation *****\n",
            "  Num examples = 2141\n",
            "  Batch size = 128\n"
          ]
        },
        {
          "output_type": "stream",
          "name": "stdout",
          "text": [
            "              precision    recall  f1-score   support\n",
            "\n",
            "           0       0.87      0.78      0.82       535\n",
            "           1       0.93      0.96      0.94      1606\n",
            "\n",
            "    accuracy                           0.92      2141\n",
            "   macro avg       0.90      0.87      0.88      2141\n",
            "weighted avg       0.91      0.92      0.91      2141\n",
            "\n",
            "[[ 417  118]\n",
            " [  63 1543]]\n"
          ]
        },
        {
          "output_type": "stream",
          "name": "stderr",
          "text": [
            "Saving model checkpoint to ./train/checkpoint-536\n",
            "Configuration saved in ./train/checkpoint-536/config.json\n",
            "Model weights saved in ./train/checkpoint-536/pytorch_model.bin\n",
            "***** Running Evaluation *****\n",
            "  Num examples = 2141\n",
            "  Batch size = 128\n"
          ]
        },
        {
          "output_type": "stream",
          "name": "stdout",
          "text": [
            "              precision    recall  f1-score   support\n",
            "\n",
            "           0       0.87      0.78      0.82       535\n",
            "           1       0.93      0.96      0.94      1606\n",
            "\n",
            "    accuracy                           0.91      2141\n",
            "   macro avg       0.90      0.87      0.88      2141\n",
            "weighted avg       0.91      0.91      0.91      2141\n",
            "\n",
            "[[ 417  118]\n",
            " [  65 1541]]\n"
          ]
        },
        {
          "output_type": "stream",
          "name": "stderr",
          "text": [
            "Saving model checkpoint to ./train/checkpoint-804\n",
            "Configuration saved in ./train/checkpoint-804/config.json\n",
            "Model weights saved in ./train/checkpoint-804/pytorch_model.bin\n",
            "***** Running Evaluation *****\n",
            "  Num examples = 2141\n",
            "  Batch size = 128\n"
          ]
        },
        {
          "output_type": "stream",
          "name": "stdout",
          "text": [
            "              precision    recall  f1-score   support\n",
            "\n",
            "           0       0.84      0.80      0.82       535\n",
            "           1       0.93      0.95      0.94      1606\n",
            "\n",
            "    accuracy                           0.91      2141\n",
            "   macro avg       0.88      0.87      0.88      2141\n",
            "weighted avg       0.91      0.91      0.91      2141\n",
            "\n",
            "[[ 427  108]\n",
            " [  84 1522]]\n"
          ]
        },
        {
          "output_type": "stream",
          "name": "stderr",
          "text": [
            "Saving model checkpoint to ./train/checkpoint-1072\n",
            "Configuration saved in ./train/checkpoint-1072/config.json\n",
            "Model weights saved in ./train/checkpoint-1072/pytorch_model.bin\n",
            "***** Running Evaluation *****\n",
            "  Num examples = 2141\n",
            "  Batch size = 128\n"
          ]
        },
        {
          "output_type": "stream",
          "name": "stdout",
          "text": [
            "              precision    recall  f1-score   support\n",
            "\n",
            "           0       0.83      0.81      0.82       535\n",
            "           1       0.94      0.95      0.94      1606\n",
            "\n",
            "    accuracy                           0.91      2141\n",
            "   macro avg       0.88      0.88      0.88      2141\n",
            "weighted avg       0.91      0.91      0.91      2141\n",
            "\n",
            "[[ 432  103]\n",
            " [  88 1518]]\n"
          ]
        },
        {
          "output_type": "stream",
          "name": "stderr",
          "text": [
            "Saving model checkpoint to ./train/checkpoint-1340\n",
            "Configuration saved in ./train/checkpoint-1340/config.json\n",
            "Model weights saved in ./train/checkpoint-1340/pytorch_model.bin\n",
            "\n",
            "\n",
            "Training completed. Do not forget to share your model on huggingface.co/models =)\n",
            "\n",
            "\n",
            "Loading best model from ./train/checkpoint-536 (score: 0.9445974900520354).\n"
          ]
        },
        {
          "output_type": "execute_result",
          "data": {
            "text/plain": [
              "TrainOutput(global_step=1340, training_loss=0.1515536877646375, metrics={'train_runtime': 5238.7336, 'train_samples_per_second': 8.174, 'train_steps_per_second': 0.256, 'total_flos': 2816603847628800.0, 'train_loss': 0.1515536877646375, 'epoch': 5.0})"
            ]
          },
          "metadata": {},
          "execution_count": 27
        }
      ]
    },
    {
      "cell_type": "code",
      "source": [
        "############# products\n",
        "\n",
        "\n",
        "\n",
        "\n",
        "#start the training on resturants\n",
        "trainer.train()"
      ],
      "metadata": {
        "colab": {
          "base_uri": "https://localhost:8080/",
          "height": 1000
        },
        "id": "qWi-JZwinSe2",
        "outputId": "31a8f65e-3de2-4668-e082-2c1445d4ee12"
      },
      "execution_count": null,
      "outputs": [
        {
          "output_type": "stream",
          "name": "stderr",
          "text": [
            "***** Running training *****\n",
            "  Num examples = 3171\n",
            "  Num Epochs = 5\n",
            "  Instantaneous batch size per device = 16\n",
            "  Total train batch size (w. parallel, distributed & accumulation) = 32\n",
            "  Gradient Accumulation steps = 2\n",
            "  Total optimization steps = 495\n"
          ]
        },
        {
          "output_type": "display_data",
          "data": {
            "text/html": [
              "\n",
              "    <div>\n",
              "      \n",
              "      <progress value='495' max='495' style='width:300px; height:20px; vertical-align: middle;'></progress>\n",
              "      [495/495 12:29, Epoch 4/5]\n",
              "    </div>\n",
              "    <table border=\"1\" class=\"dataframe\">\n",
              "  <thead>\n",
              "    <tr style=\"text-align: left;\">\n",
              "      <th>Epoch</th>\n",
              "      <th>Training Loss</th>\n",
              "      <th>Validation Loss</th>\n",
              "      <th>F1 Score</th>\n",
              "      <th>Accuracy</th>\n",
              "      <th>Precision</th>\n",
              "      <th>Recall</th>\n",
              "    </tr>\n",
              "  </thead>\n",
              "  <tbody>\n",
              "    <tr>\n",
              "      <td>0</td>\n",
              "      <td>No log</td>\n",
              "      <td>0.286235</td>\n",
              "      <td>0.942368</td>\n",
              "      <td>0.906683</td>\n",
              "      <td>0.922256</td>\n",
              "      <td>0.963376</td>\n",
              "    </tr>\n",
              "    <tr>\n",
              "      <td>1</td>\n",
              "      <td>No log</td>\n",
              "      <td>0.277628</td>\n",
              "      <td>0.939347</td>\n",
              "      <td>0.901639</td>\n",
              "      <td>0.917933</td>\n",
              "      <td>0.961783</td>\n",
              "    </tr>\n",
              "    <tr>\n",
              "      <td>2</td>\n",
              "      <td>No log</td>\n",
              "      <td>0.296685</td>\n",
              "      <td>0.933547</td>\n",
              "      <td>0.895334</td>\n",
              "      <td>0.938808</td>\n",
              "      <td>0.928344</td>\n",
              "    </tr>\n",
              "    <tr>\n",
              "      <td>3</td>\n",
              "      <td>No log</td>\n",
              "      <td>0.319459</td>\n",
              "      <td>0.935433</td>\n",
              "      <td>0.896595</td>\n",
              "      <td>0.925234</td>\n",
              "      <td>0.945860</td>\n",
              "    </tr>\n",
              "    <tr>\n",
              "      <td>4</td>\n",
              "      <td>No log</td>\n",
              "      <td>0.328508</td>\n",
              "      <td>0.935867</td>\n",
              "      <td>0.897856</td>\n",
              "      <td>0.930709</td>\n",
              "      <td>0.941083</td>\n",
              "    </tr>\n",
              "  </tbody>\n",
              "</table><p>"
            ],
            "text/plain": [
              "<IPython.core.display.HTML object>"
            ]
          },
          "metadata": {}
        },
        {
          "output_type": "stream",
          "name": "stderr",
          "text": [
            "***** Running Evaluation *****\n",
            "  Num examples = 793\n",
            "  Batch size = 128\n"
          ]
        },
        {
          "output_type": "stream",
          "name": "stdout",
          "text": [
            "              precision    recall  f1-score   support\n",
            "\n",
            "           0       0.83      0.69      0.75       165\n",
            "           1       0.92      0.96      0.94       628\n",
            "\n",
            "    accuracy                           0.91       793\n",
            "   macro avg       0.88      0.83      0.85       793\n",
            "weighted avg       0.90      0.91      0.90       793\n",
            "\n",
            "[[114  51]\n",
            " [ 23 605]]\n"
          ]
        },
        {
          "output_type": "stream",
          "name": "stderr",
          "text": [
            "Saving model checkpoint to ./train/checkpoint-99\n",
            "Configuration saved in ./train/checkpoint-99/config.json\n",
            "Model weights saved in ./train/checkpoint-99/pytorch_model.bin\n",
            "***** Running Evaluation *****\n",
            "  Num examples = 793\n",
            "  Batch size = 128\n"
          ]
        },
        {
          "output_type": "stream",
          "name": "stdout",
          "text": [
            "              precision    recall  f1-score   support\n",
            "\n",
            "           0       0.82      0.67      0.74       165\n",
            "           1       0.92      0.96      0.94       628\n",
            "\n",
            "    accuracy                           0.90       793\n",
            "   macro avg       0.87      0.82      0.84       793\n",
            "weighted avg       0.90      0.90      0.90       793\n",
            "\n",
            "[[111  54]\n",
            " [ 24 604]]\n"
          ]
        },
        {
          "output_type": "stream",
          "name": "stderr",
          "text": [
            "Saving model checkpoint to ./train/checkpoint-198\n",
            "Configuration saved in ./train/checkpoint-198/config.json\n",
            "Model weights saved in ./train/checkpoint-198/pytorch_model.bin\n",
            "***** Running Evaluation *****\n",
            "  Num examples = 793\n",
            "  Batch size = 128\n"
          ]
        },
        {
          "output_type": "stream",
          "name": "stdout",
          "text": [
            "              precision    recall  f1-score   support\n",
            "\n",
            "           0       0.74      0.77      0.75       165\n",
            "           1       0.94      0.93      0.93       628\n",
            "\n",
            "    accuracy                           0.90       793\n",
            "   macro avg       0.84      0.85      0.84       793\n",
            "weighted avg       0.90      0.90      0.90       793\n",
            "\n",
            "[[127  38]\n",
            " [ 45 583]]\n"
          ]
        },
        {
          "output_type": "stream",
          "name": "stderr",
          "text": [
            "Saving model checkpoint to ./train/checkpoint-297\n",
            "Configuration saved in ./train/checkpoint-297/config.json\n",
            "Model weights saved in ./train/checkpoint-297/pytorch_model.bin\n",
            "***** Running Evaluation *****\n",
            "  Num examples = 793\n",
            "  Batch size = 128\n"
          ]
        },
        {
          "output_type": "stream",
          "name": "stdout",
          "text": [
            "              precision    recall  f1-score   support\n",
            "\n",
            "           0       0.77      0.71      0.74       165\n",
            "           1       0.93      0.95      0.94       628\n",
            "\n",
            "    accuracy                           0.90       793\n",
            "   macro avg       0.85      0.83      0.84       793\n",
            "weighted avg       0.89      0.90      0.89       793\n",
            "\n",
            "[[117  48]\n",
            " [ 34 594]]\n"
          ]
        },
        {
          "output_type": "stream",
          "name": "stderr",
          "text": [
            "Saving model checkpoint to ./train/checkpoint-396\n",
            "Configuration saved in ./train/checkpoint-396/config.json\n",
            "Model weights saved in ./train/checkpoint-396/pytorch_model.bin\n",
            "***** Running Evaluation *****\n",
            "  Num examples = 793\n",
            "  Batch size = 128\n"
          ]
        },
        {
          "output_type": "stream",
          "name": "stdout",
          "text": [
            "              precision    recall  f1-score   support\n",
            "\n",
            "           0       0.77      0.73      0.75       165\n",
            "           1       0.93      0.94      0.94       628\n",
            "\n",
            "    accuracy                           0.90       793\n",
            "   macro avg       0.85      0.84      0.84       793\n",
            "weighted avg       0.90      0.90      0.90       793\n",
            "\n",
            "[[121  44]\n",
            " [ 37 591]]\n"
          ]
        },
        {
          "output_type": "stream",
          "name": "stderr",
          "text": [
            "Saving model checkpoint to ./train/checkpoint-495\n",
            "Configuration saved in ./train/checkpoint-495/config.json\n",
            "Model weights saved in ./train/checkpoint-495/pytorch_model.bin\n",
            "\n",
            "\n",
            "Training completed. Do not forget to share your model on huggingface.co/models =)\n",
            "\n",
            "\n",
            "Loading best model from ./train/checkpoint-99 (score: 0.9423676012461059).\n"
          ]
        },
        {
          "output_type": "execute_result",
          "data": {
            "text/plain": [
              "TrainOutput(global_step=495, training_loss=0.2141670458244555, metrics={'train_runtime': 751.5268, 'train_samples_per_second': 21.097, 'train_steps_per_second': 0.659, 'total_flos': 1042709112391680.0, 'train_loss': 0.2141670458244555, 'epoch': 4.99})"
            ]
          },
          "metadata": {},
          "execution_count": 25
        }
      ]
    },
    {
      "cell_type": "code",
      "source": [
        "############# hotels\n",
        "\n",
        "\n",
        "\n",
        "\n",
        "#start the training on hotels\n",
        "trainer.train()"
      ],
      "metadata": {
        "colab": {
          "base_uri": "https://localhost:8080/",
          "height": 1000
        },
        "id": "aRkZgpKAr5Bu",
        "outputId": "6b37ef1f-a93a-43af-df56-804130e92ac2"
      },
      "execution_count": null,
      "outputs": [
        {
          "output_type": "stream",
          "name": "stderr",
          "text": [
            "***** Running training *****\n",
            "  Num examples = 10737\n",
            "  Num Epochs = 5\n",
            "  Instantaneous batch size per device = 16\n",
            "  Total train batch size (w. parallel, distributed & accumulation) = 32\n",
            "  Gradient Accumulation steps = 2\n",
            "  Total optimization steps = 1680\n"
          ]
        },
        {
          "output_type": "display_data",
          "data": {
            "text/html": [
              "\n",
              "    <div>\n",
              "      \n",
              "      <progress value='1680' max='1680' style='width:300px; height:20px; vertical-align: middle;'></progress>\n",
              "      [1680/1680 41:39, Epoch 5/5]\n",
              "    </div>\n",
              "    <table border=\"1\" class=\"dataframe\">\n",
              "  <thead>\n",
              "    <tr style=\"text-align: left;\">\n",
              "      <th>Epoch</th>\n",
              "      <th>Training Loss</th>\n",
              "      <th>Validation Loss</th>\n",
              "      <th>F1 Score</th>\n",
              "      <th>Accuracy</th>\n",
              "      <th>Precision</th>\n",
              "      <th>Recall</th>\n",
              "    </tr>\n",
              "  </thead>\n",
              "  <tbody>\n",
              "    <tr>\n",
              "      <td>1</td>\n",
              "      <td>No log</td>\n",
              "      <td>0.088606</td>\n",
              "      <td>0.982106</td>\n",
              "      <td>0.971322</td>\n",
              "      <td>0.971048</td>\n",
              "      <td>0.993418</td>\n",
              "    </tr>\n",
              "    <tr>\n",
              "      <td>2</td>\n",
              "      <td>0.108800</td>\n",
              "      <td>0.074031</td>\n",
              "      <td>0.988522</td>\n",
              "      <td>0.981750</td>\n",
              "      <td>0.985061</td>\n",
              "      <td>0.992008</td>\n",
              "    </tr>\n",
              "    <tr>\n",
              "      <td>3</td>\n",
              "      <td>0.045200</td>\n",
              "      <td>0.100537</td>\n",
              "      <td>0.984810</td>\n",
              "      <td>0.975791</td>\n",
              "      <td>0.979089</td>\n",
              "      <td>0.990597</td>\n",
              "    </tr>\n",
              "    <tr>\n",
              "      <td>4</td>\n",
              "      <td>0.045200</td>\n",
              "      <td>0.107337</td>\n",
              "      <td>0.984948</td>\n",
              "      <td>0.976164</td>\n",
              "      <td>0.985412</td>\n",
              "      <td>0.984485</td>\n",
              "    </tr>\n",
              "    <tr>\n",
              "      <td>5</td>\n",
              "      <td>0.019600</td>\n",
              "      <td>0.118908</td>\n",
              "      <td>0.985229</td>\n",
              "      <td>0.976536</td>\n",
              "      <td>0.982694</td>\n",
              "      <td>0.987776</td>\n",
              "    </tr>\n",
              "  </tbody>\n",
              "</table><p>"
            ],
            "text/plain": [
              "<IPython.core.display.HTML object>"
            ]
          },
          "metadata": {}
        },
        {
          "output_type": "stream",
          "name": "stderr",
          "text": [
            "***** Running Evaluation *****\n",
            "  Num examples = 2685\n",
            "  Batch size = 128\n"
          ]
        },
        {
          "output_type": "stream",
          "name": "stdout",
          "text": [
            "              precision    recall  f1-score   support\n",
            "\n",
            "           0       0.97      0.89      0.93       558\n",
            "           1       0.97      0.99      0.98      2127\n",
            "\n",
            "    accuracy                           0.97      2685\n",
            "   macro avg       0.97      0.94      0.95      2685\n",
            "weighted avg       0.97      0.97      0.97      2685\n",
            "\n",
            "[[ 495   63]\n",
            " [  14 2113]]\n"
          ]
        },
        {
          "output_type": "stream",
          "name": "stderr",
          "text": [
            "Saving model checkpoint to ./train/checkpoint-336\n",
            "Configuration saved in ./train/checkpoint-336/config.json\n",
            "Model weights saved in ./train/checkpoint-336/pytorch_model.bin\n",
            "***** Running Evaluation *****\n",
            "  Num examples = 2685\n",
            "  Batch size = 128\n"
          ]
        },
        {
          "output_type": "stream",
          "name": "stdout",
          "text": [
            "              precision    recall  f1-score   support\n",
            "\n",
            "           0       0.97      0.94      0.96       558\n",
            "           1       0.99      0.99      0.99      2127\n",
            "\n",
            "    accuracy                           0.98      2685\n",
            "   macro avg       0.98      0.97      0.97      2685\n",
            "weighted avg       0.98      0.98      0.98      2685\n",
            "\n",
            "[[ 526   32]\n",
            " [  17 2110]]\n"
          ]
        },
        {
          "output_type": "stream",
          "name": "stderr",
          "text": [
            "Saving model checkpoint to ./train/checkpoint-672\n",
            "Configuration saved in ./train/checkpoint-672/config.json\n",
            "Model weights saved in ./train/checkpoint-672/pytorch_model.bin\n",
            "***** Running Evaluation *****\n",
            "  Num examples = 2685\n",
            "  Batch size = 128\n"
          ]
        },
        {
          "output_type": "stream",
          "name": "stdout",
          "text": [
            "              precision    recall  f1-score   support\n",
            "\n",
            "           0       0.96      0.92      0.94       558\n",
            "           1       0.98      0.99      0.98      2127\n",
            "\n",
            "    accuracy                           0.98      2685\n",
            "   macro avg       0.97      0.95      0.96      2685\n",
            "weighted avg       0.98      0.98      0.98      2685\n",
            "\n",
            "[[ 513   45]\n",
            " [  20 2107]]\n"
          ]
        },
        {
          "output_type": "stream",
          "name": "stderr",
          "text": [
            "Saving model checkpoint to ./train/checkpoint-1008\n",
            "Configuration saved in ./train/checkpoint-1008/config.json\n",
            "Model weights saved in ./train/checkpoint-1008/pytorch_model.bin\n",
            "***** Running Evaluation *****\n",
            "  Num examples = 2685\n",
            "  Batch size = 128\n"
          ]
        },
        {
          "output_type": "stream",
          "name": "stdout",
          "text": [
            "              precision    recall  f1-score   support\n",
            "\n",
            "           0       0.94      0.94      0.94       558\n",
            "           1       0.99      0.98      0.98      2127\n",
            "\n",
            "    accuracy                           0.98      2685\n",
            "   macro avg       0.96      0.96      0.96      2685\n",
            "weighted avg       0.98      0.98      0.98      2685\n",
            "\n",
            "[[ 527   31]\n",
            " [  33 2094]]\n"
          ]
        },
        {
          "output_type": "stream",
          "name": "stderr",
          "text": [
            "Saving model checkpoint to ./train/checkpoint-1344\n",
            "Configuration saved in ./train/checkpoint-1344/config.json\n",
            "Model weights saved in ./train/checkpoint-1344/pytorch_model.bin\n",
            "***** Running Evaluation *****\n",
            "  Num examples = 2685\n",
            "  Batch size = 128\n"
          ]
        },
        {
          "output_type": "stream",
          "name": "stdout",
          "text": [
            "              precision    recall  f1-score   support\n",
            "\n",
            "           0       0.95      0.93      0.94       558\n",
            "           1       0.98      0.99      0.99      2127\n",
            "\n",
            "    accuracy                           0.98      2685\n",
            "   macro avg       0.97      0.96      0.96      2685\n",
            "weighted avg       0.98      0.98      0.98      2685\n",
            "\n",
            "[[ 521   37]\n",
            " [  26 2101]]\n"
          ]
        },
        {
          "output_type": "stream",
          "name": "stderr",
          "text": [
            "Saving model checkpoint to ./train/checkpoint-1680\n",
            "Configuration saved in ./train/checkpoint-1680/config.json\n",
            "Model weights saved in ./train/checkpoint-1680/pytorch_model.bin\n",
            "\n",
            "\n",
            "Training completed. Do not forget to share your model on huggingface.co/models =)\n",
            "\n",
            "\n",
            "Loading best model from ./train/checkpoint-672 (score: 0.9885219020847974).\n"
          ]
        },
        {
          "output_type": "execute_result",
          "data": {
            "text/plain": [
              "TrainOutput(global_step=1680, training_loss=0.05288283640430087, metrics={'train_runtime': 2501.4052, 'train_samples_per_second': 21.462, 'train_steps_per_second': 0.672, 'total_flos': 3531279251750400.0, 'train_loss': 0.05288283640430087, 'epoch': 5.0})"
            ]
          },
          "metadata": {},
          "execution_count": 44
        }
      ]
    },
    {
      "cell_type": "code",
      "source": [
        "############# movies\n",
        "\n",
        "\n",
        "\n",
        "\n",
        "#start the training on resturants\n",
        "trainer.train()"
      ],
      "metadata": {
        "colab": {
          "base_uri": "https://localhost:8080/",
          "height": 1000
        },
        "id": "7eGo5X_13Kbo",
        "outputId": "15c1c908-1a7d-4b19-c1b4-61617abdc95b"
      },
      "execution_count": null,
      "outputs": [
        {
          "output_type": "stream",
          "name": "stderr",
          "text": [
            "***** Running training *****\n",
            "  Num examples = 1082\n",
            "  Num Epochs = 5\n",
            "  Instantaneous batch size per device = 16\n",
            "  Total train batch size (w. parallel, distributed & accumulation) = 32\n",
            "  Gradient Accumulation steps = 2\n",
            "  Total optimization steps = 170\n"
          ]
        },
        {
          "output_type": "display_data",
          "data": {
            "text/html": [
              "\n",
              "    <div>\n",
              "      \n",
              "      <progress value='170' max='170' style='width:300px; height:20px; vertical-align: middle;'></progress>\n",
              "      [170/170 04:58, Epoch 5/5]\n",
              "    </div>\n",
              "    <table border=\"1\" class=\"dataframe\">\n",
              "  <thead>\n",
              "    <tr style=\"text-align: left;\">\n",
              "      <th>Epoch</th>\n",
              "      <th>Training Loss</th>\n",
              "      <th>Validation Loss</th>\n",
              "      <th>F1 Score</th>\n",
              "      <th>Accuracy</th>\n",
              "      <th>Precision</th>\n",
              "      <th>Recall</th>\n",
              "    </tr>\n",
              "  </thead>\n",
              "  <tbody>\n",
              "    <tr>\n",
              "      <td>1</td>\n",
              "      <td>No log</td>\n",
              "      <td>0.442614</td>\n",
              "      <td>0.876147</td>\n",
              "      <td>0.800738</td>\n",
              "      <td>0.789256</td>\n",
              "      <td>0.984536</td>\n",
              "    </tr>\n",
              "    <tr>\n",
              "      <td>2</td>\n",
              "      <td>No log</td>\n",
              "      <td>0.391496</td>\n",
              "      <td>0.881443</td>\n",
              "      <td>0.830258</td>\n",
              "      <td>0.881443</td>\n",
              "      <td>0.881443</td>\n",
              "    </tr>\n",
              "    <tr>\n",
              "      <td>3</td>\n",
              "      <td>No log</td>\n",
              "      <td>0.391304</td>\n",
              "      <td>0.914005</td>\n",
              "      <td>0.870849</td>\n",
              "      <td>0.873239</td>\n",
              "      <td>0.958763</td>\n",
              "    </tr>\n",
              "    <tr>\n",
              "      <td>4</td>\n",
              "      <td>No log</td>\n",
              "      <td>0.385427</td>\n",
              "      <td>0.909548</td>\n",
              "      <td>0.867159</td>\n",
              "      <td>0.887255</td>\n",
              "      <td>0.932990</td>\n",
              "    </tr>\n",
              "    <tr>\n",
              "      <td>5</td>\n",
              "      <td>No log</td>\n",
              "      <td>0.389104</td>\n",
              "      <td>0.895674</td>\n",
              "      <td>0.848708</td>\n",
              "      <td>0.884422</td>\n",
              "      <td>0.907216</td>\n",
              "    </tr>\n",
              "  </tbody>\n",
              "</table><p>"
            ],
            "text/plain": [
              "<IPython.core.display.HTML object>"
            ]
          },
          "metadata": {}
        },
        {
          "output_type": "stream",
          "name": "stderr",
          "text": [
            "***** Running Evaluation *****\n",
            "  Num examples = 271\n",
            "  Batch size = 128\n"
          ]
        },
        {
          "output_type": "stream",
          "name": "stdout",
          "text": [
            "              precision    recall  f1-score   support\n",
            "\n",
            "           0       0.90      0.34      0.49        77\n",
            "           1       0.79      0.98      0.88       194\n",
            "\n",
            "    accuracy                           0.80       271\n",
            "   macro avg       0.84      0.66      0.68       271\n",
            "weighted avg       0.82      0.80      0.77       271\n",
            "\n",
            "[[ 26  51]\n",
            " [  3 191]]\n"
          ]
        },
        {
          "output_type": "stream",
          "name": "stderr",
          "text": [
            "Saving model checkpoint to ./train/checkpoint-34\n",
            "Configuration saved in ./train/checkpoint-34/config.json\n",
            "Model weights saved in ./train/checkpoint-34/pytorch_model.bin\n",
            "***** Running Evaluation *****\n",
            "  Num examples = 271\n",
            "  Batch size = 128\n"
          ]
        },
        {
          "output_type": "stream",
          "name": "stdout",
          "text": [
            "              precision    recall  f1-score   support\n",
            "\n",
            "           0       0.70      0.70      0.70        77\n",
            "           1       0.88      0.88      0.88       194\n",
            "\n",
            "    accuracy                           0.83       271\n",
            "   macro avg       0.79      0.79      0.79       271\n",
            "weighted avg       0.83      0.83      0.83       271\n",
            "\n",
            "[[ 54  23]\n",
            " [ 23 171]]\n"
          ]
        },
        {
          "output_type": "stream",
          "name": "stderr",
          "text": [
            "Saving model checkpoint to ./train/checkpoint-68\n",
            "Configuration saved in ./train/checkpoint-68/config.json\n",
            "Model weights saved in ./train/checkpoint-68/pytorch_model.bin\n",
            "***** Running Evaluation *****\n",
            "  Num examples = 271\n",
            "  Batch size = 128\n"
          ]
        },
        {
          "output_type": "stream",
          "name": "stdout",
          "text": [
            "              precision    recall  f1-score   support\n",
            "\n",
            "           0       0.86      0.65      0.74        77\n",
            "           1       0.87      0.96      0.91       194\n",
            "\n",
            "    accuracy                           0.87       271\n",
            "   macro avg       0.87      0.80      0.83       271\n",
            "weighted avg       0.87      0.87      0.86       271\n",
            "\n",
            "[[ 50  27]\n",
            " [  8 186]]\n"
          ]
        },
        {
          "output_type": "stream",
          "name": "stderr",
          "text": [
            "Saving model checkpoint to ./train/checkpoint-102\n",
            "Configuration saved in ./train/checkpoint-102/config.json\n",
            "Model weights saved in ./train/checkpoint-102/pytorch_model.bin\n",
            "***** Running Evaluation *****\n",
            "  Num examples = 271\n",
            "  Batch size = 128\n"
          ]
        },
        {
          "output_type": "stream",
          "name": "stdout",
          "text": [
            "              precision    recall  f1-score   support\n",
            "\n",
            "           0       0.81      0.70      0.75        77\n",
            "           1       0.89      0.93      0.91       194\n",
            "\n",
            "    accuracy                           0.87       271\n",
            "   macro avg       0.85      0.82      0.83       271\n",
            "weighted avg       0.86      0.87      0.86       271\n",
            "\n",
            "[[ 54  23]\n",
            " [ 13 181]]\n"
          ]
        },
        {
          "output_type": "stream",
          "name": "stderr",
          "text": [
            "Saving model checkpoint to ./train/checkpoint-136\n",
            "Configuration saved in ./train/checkpoint-136/config.json\n",
            "Model weights saved in ./train/checkpoint-136/pytorch_model.bin\n",
            "***** Running Evaluation *****\n",
            "  Num examples = 271\n",
            "  Batch size = 128\n"
          ]
        },
        {
          "output_type": "stream",
          "name": "stdout",
          "text": [
            "              precision    recall  f1-score   support\n",
            "\n",
            "           0       0.75      0.70      0.72        77\n",
            "           1       0.88      0.91      0.90       194\n",
            "\n",
            "    accuracy                           0.85       271\n",
            "   macro avg       0.82      0.80      0.81       271\n",
            "weighted avg       0.85      0.85      0.85       271\n",
            "\n",
            "[[ 54  23]\n",
            " [ 18 176]]\n"
          ]
        },
        {
          "output_type": "stream",
          "name": "stderr",
          "text": [
            "Saving model checkpoint to ./train/checkpoint-170\n",
            "Configuration saved in ./train/checkpoint-170/config.json\n",
            "Model weights saved in ./train/checkpoint-170/pytorch_model.bin\n",
            "\n",
            "\n",
            "Training completed. Do not forget to share your model on huggingface.co/models =)\n",
            "\n",
            "\n",
            "Loading best model from ./train/checkpoint-102 (score: 0.914004914004914).\n"
          ]
        },
        {
          "output_type": "execute_result",
          "data": {
            "text/plain": [
              "TrainOutput(global_step=170, training_loss=0.32575838425580195, metrics={'train_runtime': 298.3999, 'train_samples_per_second': 18.13, 'train_steps_per_second': 0.57, 'total_flos': 355857702374400.0, 'train_loss': 0.32575838425580195, 'epoch': 5.0})"
            ]
          },
          "metadata": {},
          "execution_count": 64
        }
      ]
    },
    {
      "cell_type": "code",
      "source": [
        "############# all msa\n",
        "\n",
        "\n",
        "\n",
        "\n",
        "#start the training on resturants\n",
        "trainer.train()"
      ],
      "metadata": {
        "colab": {
          "base_uri": "https://localhost:8080/",
          "height": 1000
        },
        "id": "UPnhGPu7XFql",
        "outputId": "8f88acbe-0cfd-43ba-e5b5-9b2204cbdcd1"
      },
      "execution_count": 30,
      "outputs": [
        {
          "output_type": "stream",
          "name": "stderr",
          "text": [
            "***** Running training *****\n",
            "  Num examples = 23555\n",
            "  Num Epochs = 5\n",
            "  Instantaneous batch size per device = 16\n",
            "  Total train batch size (w. parallel, distributed & accumulation) = 32\n",
            "  Gradient Accumulation steps = 2\n",
            "  Total optimization steps = 3680\n"
          ]
        },
        {
          "output_type": "display_data",
          "data": {
            "text/html": [
              "\n",
              "    <div>\n",
              "      \n",
              "      <progress value='3680' max='3680' style='width:300px; height:20px; vertical-align: middle;'></progress>\n",
              "      [3680/3680 1:34:53, Epoch 4/5]\n",
              "    </div>\n",
              "    <table border=\"1\" class=\"dataframe\">\n",
              "  <thead>\n",
              "    <tr style=\"text-align: left;\">\n",
              "      <th>Epoch</th>\n",
              "      <th>Training Loss</th>\n",
              "      <th>Validation Loss</th>\n",
              "      <th>F1 Score</th>\n",
              "      <th>Accuracy</th>\n",
              "      <th>Precision</th>\n",
              "      <th>Recall</th>\n",
              "    </tr>\n",
              "  </thead>\n",
              "  <tbody>\n",
              "    <tr>\n",
              "      <td>0</td>\n",
              "      <td>0.223100</td>\n",
              "      <td>0.169699</td>\n",
              "      <td>0.960789</td>\n",
              "      <td>0.937850</td>\n",
              "      <td>0.946791</td>\n",
              "      <td>0.975207</td>\n",
              "    </tr>\n",
              "    <tr>\n",
              "      <td>1</td>\n",
              "      <td>0.158400</td>\n",
              "      <td>0.187879</td>\n",
              "      <td>0.958579</td>\n",
              "      <td>0.935473</td>\n",
              "      <td>0.960883</td>\n",
              "      <td>0.956285</td>\n",
              "    </tr>\n",
              "    <tr>\n",
              "      <td>2</td>\n",
              "      <td>0.096700</td>\n",
              "      <td>0.217287</td>\n",
              "      <td>0.959781</td>\n",
              "      <td>0.937511</td>\n",
              "      <td>0.964631</td>\n",
              "      <td>0.954980</td>\n",
              "    </tr>\n",
              "    <tr>\n",
              "      <td>3</td>\n",
              "      <td>0.076700</td>\n",
              "      <td>0.245319</td>\n",
              "      <td>0.959825</td>\n",
              "      <td>0.937511</td>\n",
              "      <td>0.963612</td>\n",
              "      <td>0.956068</td>\n",
              "    </tr>\n",
              "    <tr>\n",
              "      <td>4</td>\n",
              "      <td>0.042400</td>\n",
              "      <td>0.300646</td>\n",
              "      <td>0.959538</td>\n",
              "      <td>0.937001</td>\n",
              "      <td>0.962371</td>\n",
              "      <td>0.956720</td>\n",
              "    </tr>\n",
              "  </tbody>\n",
              "</table><p>"
            ],
            "text/plain": [
              "<IPython.core.display.HTML object>"
            ]
          },
          "metadata": {}
        },
        {
          "output_type": "stream",
          "name": "stderr",
          "text": [
            "***** Running Evaluation *****\n",
            "  Num examples = 5889\n",
            "  Batch size = 128\n"
          ]
        },
        {
          "output_type": "stream",
          "name": "stdout",
          "text": [
            "              precision    recall  f1-score   support\n",
            "\n",
            "           0       0.90      0.80      0.85      1291\n",
            "           1       0.95      0.98      0.96      4598\n",
            "\n",
            "    accuracy                           0.94      5889\n",
            "   macro avg       0.92      0.89      0.91      5889\n",
            "weighted avg       0.94      0.94      0.94      5889\n",
            "\n",
            "[[1039  252]\n",
            " [ 114 4484]]\n"
          ]
        },
        {
          "output_type": "stream",
          "name": "stderr",
          "text": [
            "Saving model checkpoint to ./train/checkpoint-736\n",
            "Configuration saved in ./train/checkpoint-736/config.json\n",
            "Model weights saved in ./train/checkpoint-736/pytorch_model.bin\n",
            "***** Running Evaluation *****\n",
            "  Num examples = 5889\n",
            "  Batch size = 128\n"
          ]
        },
        {
          "output_type": "stream",
          "name": "stdout",
          "text": [
            "              precision    recall  f1-score   support\n",
            "\n",
            "           0       0.85      0.86      0.85      1291\n",
            "           1       0.96      0.96      0.96      4598\n",
            "\n",
            "    accuracy                           0.94      5889\n",
            "   macro avg       0.90      0.91      0.91      5889\n",
            "weighted avg       0.94      0.94      0.94      5889\n",
            "\n",
            "[[1112  179]\n",
            " [ 201 4397]]\n"
          ]
        },
        {
          "output_type": "stream",
          "name": "stderr",
          "text": [
            "Saving model checkpoint to ./train/checkpoint-1472\n",
            "Configuration saved in ./train/checkpoint-1472/config.json\n",
            "Model weights saved in ./train/checkpoint-1472/pytorch_model.bin\n",
            "***** Running Evaluation *****\n",
            "  Num examples = 5889\n",
            "  Batch size = 128\n"
          ]
        },
        {
          "output_type": "stream",
          "name": "stdout",
          "text": [
            "              precision    recall  f1-score   support\n",
            "\n",
            "           0       0.85      0.88      0.86      1291\n",
            "           1       0.96      0.95      0.96      4598\n",
            "\n",
            "    accuracy                           0.94      5889\n",
            "   macro avg       0.90      0.92      0.91      5889\n",
            "weighted avg       0.94      0.94      0.94      5889\n",
            "\n",
            "[[1130  161]\n",
            " [ 207 4391]]\n"
          ]
        },
        {
          "output_type": "stream",
          "name": "stderr",
          "text": [
            "Saving model checkpoint to ./train/checkpoint-2208\n",
            "Configuration saved in ./train/checkpoint-2208/config.json\n",
            "Model weights saved in ./train/checkpoint-2208/pytorch_model.bin\n",
            "***** Running Evaluation *****\n",
            "  Num examples = 5889\n",
            "  Batch size = 128\n"
          ]
        },
        {
          "output_type": "stream",
          "name": "stdout",
          "text": [
            "              precision    recall  f1-score   support\n",
            "\n",
            "           0       0.85      0.87      0.86      1291\n",
            "           1       0.96      0.96      0.96      4598\n",
            "\n",
            "    accuracy                           0.94      5889\n",
            "   macro avg       0.91      0.91      0.91      5889\n",
            "weighted avg       0.94      0.94      0.94      5889\n",
            "\n",
            "[[1125  166]\n",
            " [ 202 4396]]\n"
          ]
        },
        {
          "output_type": "stream",
          "name": "stderr",
          "text": [
            "Saving model checkpoint to ./train/checkpoint-2944\n",
            "Configuration saved in ./train/checkpoint-2944/config.json\n",
            "Model weights saved in ./train/checkpoint-2944/pytorch_model.bin\n",
            "***** Running Evaluation *****\n",
            "  Num examples = 5889\n",
            "  Batch size = 128\n"
          ]
        },
        {
          "output_type": "stream",
          "name": "stdout",
          "text": [
            "              precision    recall  f1-score   support\n",
            "\n",
            "           0       0.85      0.87      0.86      1291\n",
            "           1       0.96      0.96      0.96      4598\n",
            "\n",
            "    accuracy                           0.94      5889\n",
            "   macro avg       0.91      0.91      0.91      5889\n",
            "weighted avg       0.94      0.94      0.94      5889\n",
            "\n",
            "[[1119  172]\n",
            " [ 199 4399]]\n"
          ]
        },
        {
          "output_type": "stream",
          "name": "stderr",
          "text": [
            "Saving model checkpoint to ./train/checkpoint-3680\n",
            "Configuration saved in ./train/checkpoint-3680/config.json\n",
            "Model weights saved in ./train/checkpoint-3680/pytorch_model.bin\n",
            "\n",
            "\n",
            "Training completed. Do not forget to share your model on huggingface.co/models =)\n",
            "\n",
            "\n",
            "Loading best model from ./train/checkpoint-736 (score: 0.9607885151060638).\n"
          ]
        },
        {
          "output_type": "execute_result",
          "data": {
            "text/plain": [
              "TrainOutput(global_step=3680, training_loss=0.10942278620989426, metrics={'train_runtime': 5693.3059, 'train_samples_per_second': 20.687, 'train_steps_per_second': 0.646, 'total_flos': 7746778802964480.0, 'train_loss': 0.10942278620989426, 'epoch': 5.0})"
            ]
          },
          "metadata": {},
          "execution_count": 30
        }
      ]
    },
    {
      "cell_type": "code",
      "source": [
        "############# (ArSenTD-Lev)\n",
        "\n",
        "\n",
        "\n",
        "\n",
        "#start the training on resturants\n",
        "trainer.train()"
      ],
      "metadata": {
        "colab": {
          "base_uri": "https://localhost:8080/",
          "height": 1000
        },
        "id": "fHJX0gis2QRp",
        "outputId": "bd436f06-0c19-4e63-b535-6dd34a9d59f5"
      },
      "execution_count": null,
      "outputs": [
        {
          "output_type": "stream",
          "name": "stderr",
          "text": [
            "***** Running training *****\n",
            "  Num examples = 2492\n",
            "  Num Epochs = 5\n",
            "  Instantaneous batch size per device = 16\n",
            "  Total train batch size (w. parallel, distributed & accumulation) = 32\n",
            "  Gradient Accumulation steps = 2\n",
            "  Total optimization steps = 390\n"
          ]
        },
        {
          "output_type": "display_data",
          "data": {
            "text/html": [
              "\n",
              "    <div>\n",
              "      \n",
              "      <progress value='390' max='390' style='width:300px; height:20px; vertical-align: middle;'></progress>\n",
              "      [390/390 1:02:55, Epoch 5/5]\n",
              "    </div>\n",
              "    <table border=\"1\" class=\"dataframe\">\n",
              "  <thead>\n",
              "    <tr style=\"text-align: left;\">\n",
              "      <th>Epoch</th>\n",
              "      <th>Training Loss</th>\n",
              "      <th>Validation Loss</th>\n",
              "      <th>F1 Score</th>\n",
              "      <th>Accuracy</th>\n",
              "      <th>Precision</th>\n",
              "      <th>Recall</th>\n",
              "    </tr>\n",
              "  </thead>\n",
              "  <tbody>\n",
              "    <tr>\n",
              "      <td>1</td>\n",
              "      <td>No log</td>\n",
              "      <td>0.350130</td>\n",
              "      <td>0.823755</td>\n",
              "      <td>0.852327</td>\n",
              "      <td>0.765125</td>\n",
              "      <td>0.892116</td>\n",
              "    </tr>\n",
              "    <tr>\n",
              "      <td>2</td>\n",
              "      <td>No log</td>\n",
              "      <td>0.273096</td>\n",
              "      <td>0.881497</td>\n",
              "      <td>0.908507</td>\n",
              "      <td>0.883333</td>\n",
              "      <td>0.879668</td>\n",
              "    </tr>\n",
              "    <tr>\n",
              "      <td>3</td>\n",
              "      <td>No log</td>\n",
              "      <td>0.307170</td>\n",
              "      <td>0.850000</td>\n",
              "      <td>0.894061</td>\n",
              "      <td>0.939698</td>\n",
              "      <td>0.775934</td>\n",
              "    </tr>\n",
              "    <tr>\n",
              "      <td>4</td>\n",
              "      <td>No log</td>\n",
              "      <td>0.312573</td>\n",
              "      <td>0.878661</td>\n",
              "      <td>0.906902</td>\n",
              "      <td>0.886076</td>\n",
              "      <td>0.871369</td>\n",
              "    </tr>\n",
              "    <tr>\n",
              "      <td>5</td>\n",
              "      <td>No log</td>\n",
              "      <td>0.339630</td>\n",
              "      <td>0.873706</td>\n",
              "      <td>0.902087</td>\n",
              "      <td>0.871901</td>\n",
              "      <td>0.875519</td>\n",
              "    </tr>\n",
              "  </tbody>\n",
              "</table><p>"
            ],
            "text/plain": [
              "<IPython.core.display.HTML object>"
            ]
          },
          "metadata": {}
        },
        {
          "output_type": "stream",
          "name": "stderr",
          "text": [
            "***** Running Evaluation *****\n",
            "  Num examples = 623\n",
            "  Batch size = 128\n"
          ]
        },
        {
          "output_type": "stream",
          "name": "stdout",
          "text": [
            "              precision    recall  f1-score   support\n",
            "\n",
            "           0       0.92      0.83      0.87       382\n",
            "           1       0.77      0.89      0.82       241\n",
            "\n",
            "    accuracy                           0.85       623\n",
            "   macro avg       0.84      0.86      0.85       623\n",
            "weighted avg       0.86      0.85      0.85       623\n",
            "\n",
            "[[316  66]\n",
            " [ 26 215]]\n"
          ]
        },
        {
          "output_type": "stream",
          "name": "stderr",
          "text": [
            "Saving model checkpoint to ./train/checkpoint-78\n",
            "Configuration saved in ./train/checkpoint-78/config.json\n",
            "Model weights saved in ./train/checkpoint-78/pytorch_model.bin\n",
            "***** Running Evaluation *****\n",
            "  Num examples = 623\n",
            "  Batch size = 128\n"
          ]
        },
        {
          "output_type": "stream",
          "name": "stdout",
          "text": [
            "              precision    recall  f1-score   support\n",
            "\n",
            "           0       0.92      0.93      0.93       382\n",
            "           1       0.88      0.88      0.88       241\n",
            "\n",
            "    accuracy                           0.91       623\n",
            "   macro avg       0.90      0.90      0.90       623\n",
            "weighted avg       0.91      0.91      0.91       623\n",
            "\n",
            "[[354  28]\n",
            " [ 29 212]]\n"
          ]
        },
        {
          "output_type": "stream",
          "name": "stderr",
          "text": [
            "Saving model checkpoint to ./train/checkpoint-156\n",
            "Configuration saved in ./train/checkpoint-156/config.json\n",
            "Model weights saved in ./train/checkpoint-156/pytorch_model.bin\n",
            "***** Running Evaluation *****\n",
            "  Num examples = 623\n",
            "  Batch size = 128\n"
          ]
        },
        {
          "output_type": "stream",
          "name": "stdout",
          "text": [
            "              precision    recall  f1-score   support\n",
            "\n",
            "           0       0.87      0.97      0.92       382\n",
            "           1       0.94      0.78      0.85       241\n",
            "\n",
            "    accuracy                           0.89       623\n",
            "   macro avg       0.91      0.87      0.88       623\n",
            "weighted avg       0.90      0.89      0.89       623\n",
            "\n",
            "[[370  12]\n",
            " [ 54 187]]\n"
          ]
        },
        {
          "output_type": "stream",
          "name": "stderr",
          "text": [
            "Saving model checkpoint to ./train/checkpoint-234\n",
            "Configuration saved in ./train/checkpoint-234/config.json\n",
            "Model weights saved in ./train/checkpoint-234/pytorch_model.bin\n",
            "***** Running Evaluation *****\n",
            "  Num examples = 623\n",
            "  Batch size = 128\n"
          ]
        },
        {
          "output_type": "stream",
          "name": "stdout",
          "text": [
            "              precision    recall  f1-score   support\n",
            "\n",
            "           0       0.92      0.93      0.92       382\n",
            "           1       0.89      0.87      0.88       241\n",
            "\n",
            "    accuracy                           0.91       623\n",
            "   macro avg       0.90      0.90      0.90       623\n",
            "weighted avg       0.91      0.91      0.91       623\n",
            "\n",
            "[[355  27]\n",
            " [ 31 210]]\n"
          ]
        },
        {
          "output_type": "stream",
          "name": "stderr",
          "text": [
            "Saving model checkpoint to ./train/checkpoint-312\n",
            "Configuration saved in ./train/checkpoint-312/config.json\n",
            "Model weights saved in ./train/checkpoint-312/pytorch_model.bin\n",
            "***** Running Evaluation *****\n",
            "  Num examples = 623\n",
            "  Batch size = 128\n"
          ]
        },
        {
          "output_type": "stream",
          "name": "stdout",
          "text": [
            "              precision    recall  f1-score   support\n",
            "\n",
            "           0       0.92      0.92      0.92       382\n",
            "           1       0.87      0.88      0.87       241\n",
            "\n",
            "    accuracy                           0.90       623\n",
            "   macro avg       0.90      0.90      0.90       623\n",
            "weighted avg       0.90      0.90      0.90       623\n",
            "\n",
            "[[351  31]\n",
            " [ 30 211]]\n"
          ]
        },
        {
          "output_type": "stream",
          "name": "stderr",
          "text": [
            "Saving model checkpoint to ./train/checkpoint-390\n",
            "Configuration saved in ./train/checkpoint-390/config.json\n",
            "Model weights saved in ./train/checkpoint-390/pytorch_model.bin\n",
            "\n",
            "\n",
            "Training completed. Do not forget to share your model on huggingface.co/models =)\n",
            "\n",
            "\n",
            "Loading best model from ./train/checkpoint-156 (score: 0.8814968814968814).\n"
          ]
        },
        {
          "output_type": "execute_result",
          "data": {
            "text/plain": [
              "TrainOutput(global_step=390, training_loss=0.19600675533979367, metrics={'train_runtime': 3785.6502, 'train_samples_per_second': 3.291, 'train_steps_per_second': 0.103, 'total_flos': 320152709940000.0, 'train_loss': 0.19600675533979367, 'epoch': 5.0})"
            ]
          },
          "metadata": {},
          "execution_count": 49
        }
      ]
    },
    {
      "cell_type": "markdown",
      "metadata": {
        "id": "PZJE_H0j-ldm"
      },
      "source": [
        "Save the model, the tokenizer and the config"
      ]
    },
    {
      "cell_type": "code",
      "metadata": {
        "id": "7pru84em-lMR"
      },
      "source": [
        "# inv_label_map = inv_label_map = { v:k for k, v in label_map.items()}\n",
        "# print(inv_label_map)\n",
        "# trainer.model.config.label2id = label_map\n",
        "# trainer.model.config.id2label = inv_label_map\n",
        "# trainer.save_model(\"output_dir\")\n",
        "# train_dataset.tokenizer.save_pretrained(\"output_dir\")"
      ],
      "execution_count": null,
      "outputs": []
    },
    {
      "cell_type": "code",
      "metadata": {
        "id": "Ckb8jYZu_pCu"
      },
      "source": [
        "# #copy the model to drive\n",
        "# !cp output_dir /content/drive/MyDrive"
      ],
      "execution_count": null,
      "outputs": []
    },
    {
      "cell_type": "markdown",
      "metadata": {
        "id": "RaDLMebgF8EE"
      },
      "source": [
        "## predict using the saved model"
      ]
    },
    {
      "cell_type": "code",
      "metadata": {
        "id": "TFqMbH5uF-TR"
      },
      "source": [
        "# from transformers import pipeline"
      ],
      "execution_count": null,
      "outputs": []
    },
    {
      "cell_type": "code",
      "metadata": {
        "id": "Mx4k9zqkF7Wb"
      },
      "source": [
        "# initialize pipline\n",
        "#pipe = pipeline(\"sentiment-analysis\", model='output_dir', device=0, return_all_scores=True)"
      ],
      "execution_count": null,
      "outputs": []
    },
    {
      "cell_type": "code",
      "metadata": {
        "id": "_ecQR0_tGDQ0"
      },
      "source": [
        "#pipe(\"Some Text\")"
      ],
      "execution_count": null,
      "outputs": []
    }
  ]
}